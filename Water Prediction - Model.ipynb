{
 "cells": [
  {
   "cell_type": "code",
   "execution_count": null,
   "id": "558836ba",
   "metadata": {},
   "outputs": [],
   "source": [
    "import pandas as pd\n",
    "import numpy as np\n",
    "from sklearn.model_selection import train_test_split\n",
    "from sklearn.linear_model import LinearRegression\n",
    "from sklearn.neighbors import KNeighborsRegressor\n",
    "from sklearn.tree import DecisionTreeRegressor\n",
    "from sklearn.model_selection import GridSearchCV\n",
    "from sklearn.metrics import mean_absolute_error, median_absolute_error, mean_squared_log_error, r2_score"
   ]
  },
  {
   "cell_type": "code",
   "execution_count": null,
   "id": "fc1749b8",
   "metadata": {},
   "outputs": [],
   "source": [
    "aquifer = pd.read_csv('Feature Analysis/aquifier.csv')\n",
    "lake = pd.read_csv('Feature Analysis/lake.csv')\n",
    "river = pd.read_csv('Feature Analysis/river.csv')\n",
    "water_spring = pd.read_csv('Feature Analysis/water_spring.csv')"
   ]
  },
  {
   "cell_type": "markdown",
   "id": "78f1aeb9",
   "metadata": {},
   "source": [
    "# Aquifer"
   ]
  },
  {
   "cell_type": "code",
   "execution_count": null,
   "id": "c3fc59f2",
   "metadata": {},
   "outputs": [],
   "source": [
    "aquifer.head()"
   ]
  },
  {
   "cell_type": "code",
   "execution_count": null,
   "id": "03a9c911",
   "metadata": {},
   "outputs": [],
   "source": [
    "aquifer['mean_rainfall'] = (aquifer['mean_rainfall'] - aquifer['mean_rainfall'].min()) / (aquifer['mean_rainfall'].max() - aquifer['mean_rainfall'].min())\n",
    "aquifer['mean_temperature'] = (aquifer['mean_temperature'] - aquifer['mean_temperature'].min()) / (aquifer['mean_temperature'].max() - aquifer['mean_temperature'].min())\n",
    "aquifer['actual_depth'] = (aquifer['actual_depth'] - aquifer['actual_depth'].min()) / (aquifer['actual_depth'].max() - aquifer['actual_depth'].min())\n",
    "aquifer['actual_volume'] = (aquifer['actual_volume'] - aquifer['actual_volume'].min()) / (aquifer['actual_volume'].max() - aquifer['actual_volume'].min())\n",
    "aquifer['actual_hydrometry'] = (aquifer['actual_hydrometry'] - aquifer['actual_hydrometry'].min()) / (aquifer['actual_hydrometry'].max() - aquifer['actual_hydrometry'].min())"
   ]
  },
  {
   "cell_type": "code",
   "execution_count": null,
   "id": "f3de7fe1",
   "metadata": {},
   "outputs": [],
   "source": [
    "X = aquifer.drop(['Date', 'actual_depth'], axis = 1)\n",
    "y = aquifer['actual_depth']"
   ]
  },
  {
   "cell_type": "code",
   "execution_count": null,
   "id": "8c31dca3",
   "metadata": {},
   "outputs": [],
   "source": [
    "x_train, x_test, y_train, y_test = train_test_split(X, y, test_size = 0.25, random_state = 42)"
   ]
  },
  {
   "cell_type": "markdown",
   "id": "9b638cdf",
   "metadata": {},
   "source": [
    "## KNN "
   ]
  },
  {
   "cell_type": "code",
   "execution_count": null,
   "id": "79a26b61",
   "metadata": {},
   "outputs": [],
   "source": [
    "knn_classifier = KNeighborsRegressor()"
   ]
  },
  {
   "cell_type": "code",
   "execution_count": null,
   "id": "4d54cef6",
   "metadata": {},
   "outputs": [],
   "source": [
    "param_grid = {\n",
    "    'n_neighbors': [3, 5, 7, 9, 11, 13],\n",
    "    'weights': ['uniform', 'distance'],\n",
    "    'metric': ['euclidean', 'manhattan']\n",
    "}\n",
    "\n",
    "grid_search_cv = GridSearchCV(estimator = knn_classifier, param_grid = param_grid, cv = 5,\n",
    "                              scoring = ['neg_mean_squared_log_error', 'neg_median_absolute_error', 'r2'], refit = 'neg_mean_squared_log_error',\n",
    "                              verbose = 1, n_jobs = -1)\n",
    "\n",
    "grid_search_cv_fit = grid_search_cv.fit(x_train, y_train)"
   ]
  },
  {
   "cell_type": "code",
   "execution_count": null,
   "id": "636feb9e",
   "metadata": {},
   "outputs": [],
   "source": [
    "print('Best Score: ', grid_search_cv_fit.best_score_)\n",
    "print('Best Params: ', grid_search_cv_fit.best_params_)"
   ]
  },
  {
   "cell_type": "code",
   "execution_count": null,
   "id": "3c5c8e25",
   "metadata": {},
   "outputs": [],
   "source": [
    "y_predict = grid_search_cv_fit.best_estimator_.predict(x_test)"
   ]
  },
  {
   "cell_type": "code",
   "execution_count": null,
   "id": "54ce6293",
   "metadata": {},
   "outputs": [],
   "source": [
    "y_predict = (y_predict - y_predict.min()) / (y_predict.max() - y_predict.min())"
   ]
  },
  {
   "cell_type": "code",
   "execution_count": null,
   "id": "d5614631",
   "metadata": {},
   "outputs": [],
   "source": [
    "median_absolute_error(y_test, y_predict)"
   ]
  },
  {
   "cell_type": "code",
   "execution_count": null,
   "id": "10c3890f",
   "metadata": {},
   "outputs": [],
   "source": [
    "np.sqrt(mean_squared_log_error(y_test, y_predict))"
   ]
  },
  {
   "cell_type": "code",
   "execution_count": null,
   "id": "9f615ed7",
   "metadata": {},
   "outputs": [],
   "source": [
    "r2_score(y_test, y_predict)"
   ]
  },
  {
   "cell_type": "markdown",
   "id": "2dad4768",
   "metadata": {},
   "source": [
    "## Linear Regression"
   ]
  },
  {
   "cell_type": "code",
   "execution_count": null,
   "id": "3e900ceb",
   "metadata": {},
   "outputs": [],
   "source": [
    "linear_regression = LinearRegression()"
   ]
  },
  {
   "cell_type": "code",
   "execution_count": null,
   "id": "c7acb106",
   "metadata": {},
   "outputs": [],
   "source": [
    "linear_regression = linear_regression.fit(x_train, y_train)"
   ]
  },
  {
   "cell_type": "code",
   "execution_count": null,
   "id": "9daba934",
   "metadata": {},
   "outputs": [],
   "source": [
    "y_predict = linear_regression.predict(x_test)"
   ]
  },
  {
   "cell_type": "code",
   "execution_count": null,
   "id": "3a2317b7",
   "metadata": {},
   "outputs": [],
   "source": [
    "y_predict = (y_predict - y_predict.min()) / (y_predict.max() - y_predict.min())"
   ]
  },
  {
   "cell_type": "code",
   "execution_count": null,
   "id": "a908bb4a",
   "metadata": {},
   "outputs": [],
   "source": [
    "median_absolute_error(y_test, y_predict)"
   ]
  },
  {
   "cell_type": "code",
   "execution_count": null,
   "id": "e3faff78",
   "metadata": {},
   "outputs": [],
   "source": [
    "np.sqrt(mean_squared_log_error(y_test, y_predict))"
   ]
  },
  {
   "cell_type": "code",
   "execution_count": null,
   "id": "fdefd0ce",
   "metadata": {},
   "outputs": [],
   "source": [
    "r2_score(y_test, y_predict)"
   ]
  },
  {
   "cell_type": "markdown",
   "id": "2f6d2741",
   "metadata": {},
   "source": [
    "## Decision Tree Regressor"
   ]
  },
  {
   "cell_type": "code",
   "execution_count": null,
   "id": "c94a3462",
   "metadata": {},
   "outputs": [],
   "source": [
    "decision_tree = DecisionTreeRegressor()"
   ]
  },
  {
   "cell_type": "code",
   "execution_count": null,
   "id": "a3266c00",
   "metadata": {},
   "outputs": [],
   "source": [
    "param_grid = {\n",
    "    'criterion': ['squared_error', 'friedman_mse'],\n",
    "    'max_depth': range(10,20),\n",
    "    'min_samples_split': range(2,10),\n",
    "}\n",
    "\n",
    "grid_search_cv = GridSearchCV(estimator = decision_tree, param_grid = param_grid, cv = 5,\n",
    "                              scoring = ['neg_mean_squared_log_error', 'neg_median_absolute_error', 'r2'], refit = 'neg_mean_squared_log_error',\n",
    "                              verbose = 1, n_jobs = -1)\n",
    "\n",
    "grid_search_cv_fit = grid_search_cv.fit(x_train, y_train)"
   ]
  },
  {
   "cell_type": "code",
   "execution_count": null,
   "id": "c520201b",
   "metadata": {},
   "outputs": [],
   "source": [
    "print('Best Score: ', grid_search_cv_fit.best_score_)\n",
    "print('Best Params: ', grid_search_cv_fit.best_params_)"
   ]
  },
  {
   "cell_type": "code",
   "execution_count": null,
   "id": "ac1de54c",
   "metadata": {},
   "outputs": [],
   "source": [
    "y_predict = grid_search_cv_fit.best_estimator_.predict(x_test)"
   ]
  },
  {
   "cell_type": "code",
   "execution_count": null,
   "id": "fd877ec1",
   "metadata": {},
   "outputs": [],
   "source": [
    "y_predict = (y_predict - y_predict.min()) / (y_predict.max() - y_predict.min())"
   ]
  },
  {
   "cell_type": "code",
   "execution_count": null,
   "id": "960ad40e",
   "metadata": {},
   "outputs": [],
   "source": [
    "median_absolute_error(y_test, y_predict)"
   ]
  },
  {
   "cell_type": "code",
   "execution_count": null,
   "id": "4f5b5a71",
   "metadata": {},
   "outputs": [],
   "source": [
    "np.sqrt(mean_squared_log_error(y_test, y_predict))"
   ]
  },
  {
   "cell_type": "code",
   "execution_count": null,
   "id": "13c7e7ab",
   "metadata": {},
   "outputs": [],
   "source": [
    "r2_score(y_test, y_predict)"
   ]
  },
  {
   "cell_type": "markdown",
   "id": "fa61e098",
   "metadata": {},
   "source": [
    "# Lakes"
   ]
  },
  {
   "cell_type": "code",
   "execution_count": null,
   "id": "f8d09b2e",
   "metadata": {},
   "outputs": [],
   "source": [
    "lake.head()"
   ]
  },
  {
   "cell_type": "code",
   "execution_count": null,
   "id": "2a568633",
   "metadata": {},
   "outputs": [],
   "source": [
    "lake['mean_rainfall'] = (lake['mean_rainfall'] - lake['mean_rainfall'].min()) / (lake['mean_rainfall'].max() - lake['mean_rainfall'].min())\n",
    "lake['mean_temperature'] = (lake['mean_temperature'] - lake['mean_temperature'].min()) / (lake['mean_temperature'].max() - lake['mean_temperature'].min())\n",
    "lake['actual_flow_rate'] = (lake['actual_flow_rate'] - lake['actual_flow_rate'].min()) / (lake['actual_flow_rate'].max() - lake['actual_flow_rate'].min())\n",
    "lake['actual_lake_level'] = (lake['actual_lake_level'] - lake['actual_lake_level'].min()) / (lake['actual_lake_level'].max() - lake['actual_lake_level'].min())"
   ]
  },
  {
   "cell_type": "code",
   "execution_count": null,
   "id": "503ed3bd",
   "metadata": {},
   "outputs": [],
   "source": [
    "X = lake.drop(['Date', 'actual_flow_rate', 'actual_lake_level'], axis = 1)\n",
    "y = lake[['actual_flow_rate', 'actual_lake_level']]"
   ]
  },
  {
   "cell_type": "code",
   "execution_count": null,
   "id": "68f70fdd",
   "metadata": {},
   "outputs": [],
   "source": [
    "x_train, x_test, y_train, y_test = train_test_split(X, y, test_size = 0.25, random_state = 42)"
   ]
  },
  {
   "cell_type": "markdown",
   "id": "a30e5dfc",
   "metadata": {},
   "source": [
    "## KNN"
   ]
  },
  {
   "cell_type": "code",
   "execution_count": null,
   "id": "87fdedc5",
   "metadata": {},
   "outputs": [],
   "source": [
    "knn_classifier = KNeighborsRegressor()"
   ]
  },
  {
   "cell_type": "code",
   "execution_count": null,
   "id": "50e8aec9",
   "metadata": {},
   "outputs": [],
   "source": [
    "param_grid = {\n",
    "    'n_neighbors': [11, 13, 17, 19, 21, 25],\n",
    "    'weights': ['uniform', 'distance'],\n",
    "    'metric': ['euclidean', 'manhattan']\n",
    "}\n",
    "\n",
    "grid_search_cv = GridSearchCV(estimator = knn_classifier, param_grid = param_grid, cv = 5,\n",
    "                              scoring = ['neg_mean_squared_log_error', 'neg_median_absolute_error', 'r2'], refit = 'neg_mean_squared_log_error',\n",
    "                              verbose = 1, n_jobs = -1)\n",
    "\n",
    "grid_search_cv_fit = grid_search_cv.fit(x_train, y_train)"
   ]
  },
  {
   "cell_type": "code",
   "execution_count": null,
   "id": "8241f241",
   "metadata": {},
   "outputs": [],
   "source": [
    "print('Best Score: ', grid_search_cv_fit.best_score_)\n",
    "print('Best Params: ', grid_search_cv_fit.best_params_)"
   ]
  },
  {
   "cell_type": "code",
   "execution_count": null,
   "id": "6bda7842",
   "metadata": {},
   "outputs": [],
   "source": [
    "y_predict = grid_search_cv_fit.best_estimator_.predict(x_test)"
   ]
  },
  {
   "cell_type": "code",
   "execution_count": null,
   "id": "d0043950",
   "metadata": {},
   "outputs": [],
   "source": [
    "y_predict[:, 0] = (y_predict[:, 0] - y_predict[:, 0].min()) / (y_predict[:, 0].max() - y_predict[:, 0].min())"
   ]
  },
  {
   "cell_type": "code",
   "execution_count": null,
   "id": "72f85045",
   "metadata": {},
   "outputs": [],
   "source": [
    "y_predict[:, 1] = (y_predict[:, 1] - y_predict[:, 1].min()) / (y_predict[:, 1].max() - y_predict[:, 1].min())"
   ]
  },
  {
   "cell_type": "code",
   "execution_count": null,
   "id": "8022b338",
   "metadata": {},
   "outputs": [],
   "source": [
    "median_absolute_error(y_test.iloc[:, 0], y_predict[:, 0])"
   ]
  },
  {
   "cell_type": "code",
   "execution_count": null,
   "id": "9826a3a9",
   "metadata": {},
   "outputs": [],
   "source": [
    "median_absolute_error(y_test.iloc[:, 1], y_predict[:, 1])"
   ]
  },
  {
   "cell_type": "code",
   "execution_count": null,
   "id": "ce58678f",
   "metadata": {},
   "outputs": [],
   "source": [
    "np.sqrt(mean_squared_log_error(y_test.iloc[:, 0], y_predict[:, 0]))"
   ]
  },
  {
   "cell_type": "code",
   "execution_count": null,
   "id": "9e198ebd",
   "metadata": {},
   "outputs": [],
   "source": [
    "np.sqrt(mean_squared_log_error(y_test.iloc[:, 1], y_predict[:, 1]))"
   ]
  },
  {
   "cell_type": "code",
   "execution_count": null,
   "id": "28d97c84",
   "metadata": {},
   "outputs": [],
   "source": [
    "r2_score(y_test.iloc[:, 0], y_predict[:, 0])"
   ]
  },
  {
   "cell_type": "code",
   "execution_count": null,
   "id": "a4bbea68",
   "metadata": {},
   "outputs": [],
   "source": [
    "r2_score(y_test.iloc[:, 1], y_predict[:, 1])"
   ]
  },
  {
   "cell_type": "markdown",
   "id": "43c172f6",
   "metadata": {},
   "source": [
    "## Linear Regression"
   ]
  },
  {
   "cell_type": "code",
   "execution_count": null,
   "id": "ed891268",
   "metadata": {},
   "outputs": [],
   "source": [
    "linear_regression = LinearRegression()"
   ]
  },
  {
   "cell_type": "code",
   "execution_count": null,
   "id": "68d22409",
   "metadata": {},
   "outputs": [],
   "source": [
    "linear_regression = linear_regression.fit(x_train, y_train)"
   ]
  },
  {
   "cell_type": "code",
   "execution_count": null,
   "id": "a75a9947",
   "metadata": {},
   "outputs": [],
   "source": [
    "y_predict = linear_regression.predict(x_test)"
   ]
  },
  {
   "cell_type": "code",
   "execution_count": null,
   "id": "2a7f4c23",
   "metadata": {},
   "outputs": [],
   "source": [
    "y_predict[:, 0] = (y_predict[:, 0] - y_predict[:, 0].min()) / (y_predict[:, 0].max() - y_predict[:, 0].min())"
   ]
  },
  {
   "cell_type": "code",
   "execution_count": null,
   "id": "a0fee17e",
   "metadata": {},
   "outputs": [],
   "source": [
    "y_predict[:, 1] = (y_predict[:, 1] - y_predict[:, 1].min()) / (y_predict[:, 1].max() - y_predict[:, 1].min())"
   ]
  },
  {
   "cell_type": "code",
   "execution_count": null,
   "id": "55d34772",
   "metadata": {},
   "outputs": [],
   "source": [
    "median_absolute_error(y_test.iloc[:, 0], y_predict[:, 0])"
   ]
  },
  {
   "cell_type": "code",
   "execution_count": null,
   "id": "94c58d68",
   "metadata": {},
   "outputs": [],
   "source": [
    "median_absolute_error(y_test.iloc[:, 1], y_predict[:, 1])"
   ]
  },
  {
   "cell_type": "code",
   "execution_count": null,
   "id": "122d5abf",
   "metadata": {},
   "outputs": [],
   "source": [
    "np.sqrt(mean_squared_log_error(y_test.iloc[:, 0], y_predict[:, 1]))"
   ]
  },
  {
   "cell_type": "code",
   "execution_count": null,
   "id": "996237a6",
   "metadata": {},
   "outputs": [],
   "source": [
    "np.sqrt(mean_squared_log_error(y_test.iloc[:, 1], y_predict[:, 1]))"
   ]
  },
  {
   "cell_type": "code",
   "execution_count": null,
   "id": "1b032862",
   "metadata": {},
   "outputs": [],
   "source": [
    "r2_score(y_test.iloc[:, 0], y_predict[:, 1])"
   ]
  },
  {
   "cell_type": "code",
   "execution_count": null,
   "id": "25af4cbe",
   "metadata": {},
   "outputs": [],
   "source": [
    "r2_score(y_test.iloc[:, 1], y_predict[:, 1])"
   ]
  },
  {
   "cell_type": "markdown",
   "id": "13bf0fc7",
   "metadata": {},
   "source": [
    "## Decision Tree Regressor"
   ]
  },
  {
   "cell_type": "code",
   "execution_count": null,
   "id": "27aa5e10",
   "metadata": {},
   "outputs": [],
   "source": [
    "decision_tree = DecisionTreeRegressor()"
   ]
  },
  {
   "cell_type": "code",
   "execution_count": null,
   "id": "6b560637",
   "metadata": {},
   "outputs": [],
   "source": [
    "param_grid = {\n",
    "    'criterion': ['squared_error', 'friedman_mse'],\n",
    "    'max_depth': range(10,20),\n",
    "    'min_samples_split': range(2,10),\n",
    "}\n",
    "\n",
    "grid_search_cv = GridSearchCV(estimator = decision_tree, param_grid = param_grid, cv = 5,\n",
    "                              scoring = ['neg_mean_squared_log_error', 'neg_median_absolute_error', 'r2'], refit = 'neg_mean_squared_log_error',\n",
    "                              verbose = 1, n_jobs = -1)\n",
    "\n",
    "grid_search_cv_fit = grid_search_cv.fit(x_train, y_train)"
   ]
  },
  {
   "cell_type": "code",
   "execution_count": null,
   "id": "3001652c",
   "metadata": {},
   "outputs": [],
   "source": [
    "print('Best Score: ', grid_search_cv_fit.best_score_)\n",
    "print('Best Params: ', grid_search_cv_fit.best_params_)"
   ]
  },
  {
   "cell_type": "code",
   "execution_count": null,
   "id": "62a8d1c6",
   "metadata": {},
   "outputs": [],
   "source": [
    "y_predict = grid_search_cv_fit.best_estimator_.predict(x_test)"
   ]
  },
  {
   "cell_type": "code",
   "execution_count": null,
   "id": "8e72ba8e",
   "metadata": {},
   "outputs": [],
   "source": [
    "y_predict[:, 0] = (y_predict[:, 0] - y_predict[:, 0].min()) / (y_predict[:, 0].max() - y_predict[:, 0].min())"
   ]
  },
  {
   "cell_type": "code",
   "execution_count": null,
   "id": "18f2a46c",
   "metadata": {},
   "outputs": [],
   "source": [
    "y_predict[:, 1] = (y_predict[:, 1] - y_predict[:, 1].min()) / (y_predict[:, 1].max() - y_predict[:, 1].min())"
   ]
  },
  {
   "cell_type": "code",
   "execution_count": null,
   "id": "ad49f627",
   "metadata": {},
   "outputs": [],
   "source": [
    "median_absolute_error(y_test.iloc[:, 0], y_predict[:, 0])"
   ]
  },
  {
   "cell_type": "code",
   "execution_count": null,
   "id": "d5144f77",
   "metadata": {},
   "outputs": [],
   "source": [
    "np.sqrt(mean_squared_log_error(y_test.iloc[:, 0], y_predict[:, 0]))"
   ]
  },
  {
   "cell_type": "code",
   "execution_count": null,
   "id": "02df78ef",
   "metadata": {},
   "outputs": [],
   "source": [
    "r2_score(y_test, y_predict)"
   ]
  },
  {
   "cell_type": "markdown",
   "id": "c9216108",
   "metadata": {},
   "source": [
    "## River Arno"
   ]
  },
  {
   "cell_type": "code",
   "execution_count": null,
   "id": "2108112d",
   "metadata": {},
   "outputs": [],
   "source": [
    "river.head()"
   ]
  },
  {
   "cell_type": "code",
   "execution_count": null,
   "id": "e5c0eca3",
   "metadata": {},
   "outputs": [],
   "source": [
    "river['mean_rainfall'] = (river['mean_rainfall'] - river['mean_rainfall'].min()) / (river['mean_rainfall'].max() - river['mean_rainfall'].min())\n",
    "river['mean_temperature'] = (river['mean_temperature'] - river['mean_temperature'].min()) / (river['mean_temperature'].max() - river['mean_temperature'].min())\n",
    "river['actual_hydrometry'] = (river['actual_hydrometry'] - river['actual_hydrometry'].min()) / (river['actual_hydrometry'].max() - river['actual_hydrometry'].min())"
   ]
  },
  {
   "cell_type": "code",
   "execution_count": null,
   "id": "0c53326e",
   "metadata": {},
   "outputs": [],
   "source": [
    "X = river.drop(['Date', 'actual_hydrometry', 'Source'], axis = 1)\n",
    "y = river['actual_hydrometry']"
   ]
  },
  {
   "cell_type": "code",
   "execution_count": null,
   "id": "52f233c9",
   "metadata": {},
   "outputs": [],
   "source": [
    "x_train, x_test, y_train, y_test = train_test_split(X, y, test_size = 0.25, random_state = 42)"
   ]
  },
  {
   "cell_type": "markdown",
   "id": "903bc198",
   "metadata": {},
   "source": [
    "## KNN"
   ]
  },
  {
   "cell_type": "code",
   "execution_count": null,
   "id": "758414e2",
   "metadata": {},
   "outputs": [],
   "source": [
    "knn_classifier = KNeighborsRegressor()"
   ]
  },
  {
   "cell_type": "code",
   "execution_count": null,
   "id": "b23cb140",
   "metadata": {},
   "outputs": [],
   "source": [
    "param_grid = {\n",
    "    'n_neighbors': [3, 5, 7, 9, 11, 13],\n",
    "    'weights': ['uniform', 'distance'],\n",
    "    'metric': ['euclidean', 'manhattan']\n",
    "}\n",
    "\n",
    "grid_search_cv = GridSearchCV(estimator = knn_classifier, param_grid = param_grid, cv = 5,\n",
    "                              scoring = ['neg_mean_squared_log_error', 'neg_median_absolute_error', 'r2'], refit = 'neg_mean_squared_log_error',\n",
    "                              verbose = 1, n_jobs = -1)\n",
    "\n",
    "grid_search_cv_fit = grid_search_cv.fit(x_train, y_train)"
   ]
  },
  {
   "cell_type": "code",
   "execution_count": null,
   "id": "7c96d758",
   "metadata": {},
   "outputs": [],
   "source": [
    "print('Best Score: ', grid_search_cv_fit.best_score_)\n",
    "print('Best Params: ', grid_search_cv_fit.best_params_)"
   ]
  },
  {
   "cell_type": "code",
   "execution_count": null,
   "id": "3ea8c5ec",
   "metadata": {},
   "outputs": [],
   "source": [
    "y_predict = grid_search_cv_fit.best_estimator_.predict(x_test)"
   ]
  },
  {
   "cell_type": "code",
   "execution_count": null,
   "id": "9cc8c696",
   "metadata": {},
   "outputs": [],
   "source": [
    "y_predict = (y_predict - y_predict.min()) / (y_predict.max() - y_predict.min())"
   ]
  },
  {
   "cell_type": "code",
   "execution_count": null,
   "id": "86cda8fd",
   "metadata": {},
   "outputs": [],
   "source": [
    "median_absolute_error(y_test, y_predict)"
   ]
  },
  {
   "cell_type": "code",
   "execution_count": null,
   "id": "e5cb958b",
   "metadata": {},
   "outputs": [],
   "source": [
    "np.sqrt(mean_squared_log_error(y_test, y_predict))"
   ]
  },
  {
   "cell_type": "code",
   "execution_count": null,
   "id": "63a0bc18",
   "metadata": {},
   "outputs": [],
   "source": [
    "r2_score(y_test, y_predict)"
   ]
  },
  {
   "cell_type": "markdown",
   "id": "291e3239",
   "metadata": {},
   "source": [
    "## Linear Regression"
   ]
  },
  {
   "cell_type": "code",
   "execution_count": null,
   "id": "f78ae905",
   "metadata": {},
   "outputs": [],
   "source": [
    "linear_regression = LinearRegression()"
   ]
  },
  {
   "cell_type": "code",
   "execution_count": null,
   "id": "ed9d6109",
   "metadata": {},
   "outputs": [],
   "source": [
    "linear_regression = linear_regression.fit(x_train, y_train)"
   ]
  },
  {
   "cell_type": "code",
   "execution_count": null,
   "id": "2955cf46",
   "metadata": {},
   "outputs": [],
   "source": [
    "y_predict = linear_regression.predict(x_test)"
   ]
  },
  {
   "cell_type": "code",
   "execution_count": null,
   "id": "b40b85a3",
   "metadata": {},
   "outputs": [],
   "source": [
    "y_predict = (y_predict - y_predict.min()) / (y_predict.max() - y_predict.min())"
   ]
  },
  {
   "cell_type": "code",
   "execution_count": null,
   "id": "ef8bf19a",
   "metadata": {},
   "outputs": [],
   "source": [
    "median_absolute_error(y_test, y_predict)"
   ]
  },
  {
   "cell_type": "code",
   "execution_count": null,
   "id": "bf257c08",
   "metadata": {},
   "outputs": [],
   "source": [
    "np.sqrt(mean_squared_log_error(y_test, y_predict))"
   ]
  },
  {
   "cell_type": "code",
   "execution_count": null,
   "id": "7417e5c9",
   "metadata": {},
   "outputs": [],
   "source": [
    "r2_score(y_test, y_predict)"
   ]
  },
  {
   "cell_type": "markdown",
   "id": "45a55980",
   "metadata": {},
   "source": [
    "## Decision Tree Regressor"
   ]
  },
  {
   "cell_type": "code",
   "execution_count": null,
   "id": "c72deb0a",
   "metadata": {},
   "outputs": [],
   "source": [
    "decision_tree = DecisionTreeRegressor()"
   ]
  },
  {
   "cell_type": "code",
   "execution_count": null,
   "id": "4497eb35",
   "metadata": {},
   "outputs": [],
   "source": [
    "param_grid = {\n",
    "    'criterion': ['squared_error', 'friedman_mse'],\n",
    "    'max_depth': range(10,20),\n",
    "    'min_samples_split': range(2,10),\n",
    "}\n",
    "\n",
    "grid_search_cv = GridSearchCV(estimator = decision_tree, param_grid = param_grid, cv = 5,\n",
    "                              scoring = ['neg_mean_squared_log_error', 'neg_median_absolute_error', 'r2'], refit = 'neg_mean_squared_log_error',\n",
    "                              verbose = 1, n_jobs = -1)\n",
    "\n",
    "grid_search_cv_fit = grid_search_cv.fit(x_train, y_train)"
   ]
  },
  {
   "cell_type": "code",
   "execution_count": null,
   "id": "a864a11c",
   "metadata": {},
   "outputs": [],
   "source": [
    "print('Best Score: ', grid_search_cv_fit.best_score_)\n",
    "print('Best Params: ', grid_search_cv_fit.best_params_)"
   ]
  },
  {
   "cell_type": "code",
   "execution_count": null,
   "id": "d274da7d",
   "metadata": {},
   "outputs": [],
   "source": [
    "y_predict = grid_search_cv_fit.best_estimator_.predict(x_test)"
   ]
  },
  {
   "cell_type": "code",
   "execution_count": null,
   "id": "7eb08b19",
   "metadata": {},
   "outputs": [],
   "source": [
    "y_predict = (y_predict - y_predict.min()) / (y_predict.max() - y_predict.min())"
   ]
  },
  {
   "cell_type": "code",
   "execution_count": null,
   "id": "b2de7e20",
   "metadata": {},
   "outputs": [],
   "source": [
    "median_absolute_error(y_test, y_predict)"
   ]
  },
  {
   "cell_type": "code",
   "execution_count": null,
   "id": "1d937296",
   "metadata": {},
   "outputs": [],
   "source": [
    "np.sqrt(mean_squared_log_error(y_test, y_predict))"
   ]
  },
  {
   "cell_type": "code",
   "execution_count": null,
   "id": "74206753",
   "metadata": {},
   "outputs": [],
   "source": [
    "r2_score(y_test, y_predict)"
   ]
  },
  {
   "cell_type": "markdown",
   "id": "73b0600a",
   "metadata": {},
   "source": [
    "## Water Spring"
   ]
  },
  {
   "cell_type": "code",
   "execution_count": null,
   "id": "fb055e5a",
   "metadata": {},
   "outputs": [],
   "source": [
    "water_spring.head()"
   ]
  },
  {
   "cell_type": "code",
   "execution_count": null,
   "id": "c5b9cf04",
   "metadata": {},
   "outputs": [],
   "source": [
    "water_spring['mean_rainfall'] = (water_spring['mean_rainfall'] - water_spring['mean_rainfall'].min()) / (water_spring['mean_rainfall'].max() - water_spring['mean_rainfall'].min())\n",
    "water_spring['mean_temperature'] = (water_spring['mean_temperature'] - water_spring['mean_temperature'].min()) / (water_spring['mean_temperature'].max() - water_spring['mean_temperature'].min())\n",
    "water_spring['actual_depth'] = (water_spring['actual_depth'] - water_spring['actual_depth'].min()) / (water_spring['actual_depth'].max() - water_spring['actual_depth'].min())\n",
    "water_spring['actual_flow_rate'] = (water_spring['actual_flow_rate'] - water_spring['actual_flow_rate'].min()) / (water_spring['actual_flow_rate'].max() - water_spring['actual_flow_rate'].min())"
   ]
  },
  {
   "cell_type": "code",
   "execution_count": null,
   "id": "5953ab0e",
   "metadata": {},
   "outputs": [],
   "source": [
    "water_spring.head()"
   ]
  },
  {
   "cell_type": "code",
   "execution_count": null,
   "id": "651379e6",
   "metadata": {},
   "outputs": [],
   "source": [
    "X = water_spring.drop(['Date', 'actual_flow_rate'], axis = 1)\n",
    "y = water_spring['actual_flow_rate']"
   ]
  },
  {
   "cell_type": "code",
   "execution_count": null,
   "id": "846be033",
   "metadata": {},
   "outputs": [],
   "source": [
    "x_train, x_test, y_train, y_test = train_test_split(X, y, test_size = 0.25, random_state = 42)"
   ]
  },
  {
   "cell_type": "markdown",
   "id": "b6d9997d",
   "metadata": {},
   "source": [
    "## KNN"
   ]
  },
  {
   "cell_type": "code",
   "execution_count": null,
   "id": "3f4a1542",
   "metadata": {},
   "outputs": [],
   "source": [
    "knn_classifier = KNeighborsRegressor()"
   ]
  },
  {
   "cell_type": "code",
   "execution_count": null,
   "id": "957f068f",
   "metadata": {},
   "outputs": [],
   "source": [
    "param_grid = {\n",
    "    'n_neighbors': [3, 5, 7, 9, 11, 13],\n",
    "    'weights': ['uniform', 'distance'],\n",
    "    'metric': ['euclidean', 'manhattan']\n",
    "}\n",
    "\n",
    "grid_search_cv = GridSearchCV(estimator = knn_classifier, param_grid = param_grid, cv = 5,\n",
    "                              scoring = ['neg_mean_squared_log_error', 'neg_median_absolute_error', 'r2'], refit = 'neg_mean_squared_log_error',\n",
    "                              verbose = 1, n_jobs = -1)\n",
    "\n",
    "grid_search_cv_fit = grid_search_cv.fit(x_train, y_train)"
   ]
  },
  {
   "cell_type": "code",
   "execution_count": null,
   "id": "070c11be",
   "metadata": {},
   "outputs": [],
   "source": [
    "print('Best Score: ', grid_search_cv_fit.best_score_)\n",
    "print('Best Params: ', grid_search_cv_fit.best_params_)"
   ]
  },
  {
   "cell_type": "code",
   "execution_count": null,
   "id": "262849fa",
   "metadata": {},
   "outputs": [],
   "source": [
    "y_predict = grid_search_cv_fit.best_estimator_.predict(x_test)"
   ]
  },
  {
   "cell_type": "code",
   "execution_count": null,
   "id": "4038e453",
   "metadata": {},
   "outputs": [],
   "source": [
    "y_predict = (y_predict - y_predict.min()) / (y_predict.max() - y_predict.min())"
   ]
  },
  {
   "cell_type": "code",
   "execution_count": null,
   "id": "56c2fa0a",
   "metadata": {},
   "outputs": [],
   "source": [
    "median_absolute_error(y_test, y_predict)"
   ]
  },
  {
   "cell_type": "code",
   "execution_count": null,
   "id": "db4fce14",
   "metadata": {},
   "outputs": [],
   "source": [
    "np.sqrt(mean_squared_log_error(y_test, y_predict))"
   ]
  },
  {
   "cell_type": "code",
   "execution_count": null,
   "id": "174ad50c",
   "metadata": {},
   "outputs": [],
   "source": [
    "r2_score(y_test, y_predict)"
   ]
  },
  {
   "cell_type": "markdown",
   "id": "a10cdd63",
   "metadata": {},
   "source": [
    "## Linear Regression"
   ]
  },
  {
   "cell_type": "code",
   "execution_count": null,
   "id": "c503c8d5",
   "metadata": {},
   "outputs": [],
   "source": [
    "linear_regression = LinearRegression()"
   ]
  },
  {
   "cell_type": "code",
   "execution_count": null,
   "id": "fdd0805d",
   "metadata": {},
   "outputs": [],
   "source": [
    "linear_regression = linear_regression.fit(x_train, y_train)"
   ]
  },
  {
   "cell_type": "code",
   "execution_count": null,
   "id": "d03e9e4d",
   "metadata": {},
   "outputs": [],
   "source": [
    "y_predict = linear_regression.predict(x_test)"
   ]
  },
  {
   "cell_type": "code",
   "execution_count": null,
   "id": "029cbc86",
   "metadata": {},
   "outputs": [],
   "source": [
    "y_predict = (y_predict - y_predict.min()) / (y_predict.max() - y_predict.min())"
   ]
  },
  {
   "cell_type": "code",
   "execution_count": null,
   "id": "d564f3fe",
   "metadata": {},
   "outputs": [],
   "source": [
    "median_absolute_error(y_test, y_predict)"
   ]
  },
  {
   "cell_type": "code",
   "execution_count": null,
   "id": "a9f48d52",
   "metadata": {},
   "outputs": [],
   "source": [
    "np.sqrt(mean_squared_log_error(y_test, y_predict))"
   ]
  },
  {
   "cell_type": "code",
   "execution_count": null,
   "id": "2c56eb3a",
   "metadata": {},
   "outputs": [],
   "source": [
    "r2_score(y_test, y_predict)"
   ]
  },
  {
   "cell_type": "markdown",
   "id": "bca6cb68",
   "metadata": {},
   "source": [
    "## Decision Tree Regressor"
   ]
  },
  {
   "cell_type": "code",
   "execution_count": null,
   "id": "23a1f084",
   "metadata": {},
   "outputs": [],
   "source": [
    "decision_tree = DecisionTreeRegressor()"
   ]
  },
  {
   "cell_type": "code",
   "execution_count": null,
   "id": "bd240fed",
   "metadata": {},
   "outputs": [],
   "source": [
    "param_grid = {\n",
    "    'criterion': ['squared_error', 'friedman_mse'],\n",
    "    'max_depth': range(10,20),\n",
    "    'min_samples_split': range(2,10),\n",
    "}\n",
    "\n",
    "grid_search_cv = GridSearchCV(estimator = decision_tree, param_grid = param_grid, cv = 5,\n",
    "                              scoring = ['neg_mean_squared_log_error', 'neg_median_absolute_error', 'r2'], refit = 'neg_mean_squared_log_error',\n",
    "                              verbose = 1, n_jobs = -1)\n",
    "\n",
    "grid_search_cv_fit = grid_search_cv.fit(x_train, y_train)"
   ]
  },
  {
   "cell_type": "code",
   "execution_count": null,
   "id": "8ea0a31a",
   "metadata": {},
   "outputs": [],
   "source": [
    "print('Best Score: ', grid_search_cv_fit.best_score_)\n",
    "print('Best Params: ', grid_search_cv_fit.best_params_)"
   ]
  },
  {
   "cell_type": "code",
   "execution_count": null,
   "id": "86b2344a",
   "metadata": {},
   "outputs": [],
   "source": [
    "y_predict = grid_search_cv_fit.best_estimator_.predict(x_test)"
   ]
  },
  {
   "cell_type": "code",
   "execution_count": null,
   "id": "29828713",
   "metadata": {},
   "outputs": [],
   "source": [
    "y_predict = (y_predict - y_predict.min()) / (y_predict.max() - y_predict.min())"
   ]
  },
  {
   "cell_type": "code",
   "execution_count": null,
   "id": "3a134d7a",
   "metadata": {},
   "outputs": [],
   "source": [
    "median_absolute_error(y_test, y_predict)"
   ]
  },
  {
   "cell_type": "code",
   "execution_count": null,
   "id": "3606b375",
   "metadata": {},
   "outputs": [],
   "source": [
    "np.sqrt(mean_squared_log_error(y_test, y_predict))"
   ]
  },
  {
   "cell_type": "code",
   "execution_count": null,
   "id": "367ce4af",
   "metadata": {},
   "outputs": [],
   "source": [
    "r2_score(y_test, y_predict)"
   ]
  }
 ],
 "metadata": {
  "kernelspec": {
   "display_name": "Python 3 (ipykernel)",
   "language": "python",
   "name": "python3"
  },
  "language_info": {
   "codemirror_mode": {
    "name": "ipython",
    "version": 3
   },
   "file_extension": ".py",
   "mimetype": "text/x-python",
   "name": "python",
   "nbconvert_exporter": "python",
   "pygments_lexer": "ipython3",
   "version": "3.9.7"
  }
 },
 "nbformat": 4,
 "nbformat_minor": 5
}
