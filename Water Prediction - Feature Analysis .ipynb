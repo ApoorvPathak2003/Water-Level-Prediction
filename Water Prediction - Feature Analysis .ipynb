{
 "cells": [
  {
   "cell_type": "code",
   "execution_count": null,
   "id": "651d67b4",
   "metadata": {},
   "outputs": [],
   "source": [
    "import numpy as np\n",
    "import pandas as pd\n",
    "import matplotlib.pyplot as plt\n",
    "import seaborn as sns\n",
    "from sklearn.model_selection import train_test_split\n",
    "from sklearn.ensemble import RandomForestRegressor\n",
    "from sklearn.metrics import median_absolute_error"
   ]
  },
  {
   "cell_type": "code",
   "execution_count": null,
   "id": "efe6cc44",
   "metadata": {},
   "outputs": [],
   "source": [
    "aquifer_auser = pd.read_csv(\"Preprocess Datasets/final_aquifer_auser.csv\")\n",
    "aquifer_doganella = pd.read_csv(\"Preprocess Datasets/final_aquifer_doganella.csv\")\n",
    "aquifer_luco = pd.read_csv(\"Preprocess Datasets/final_aquifer_luco.csv\")\n",
    "aquifer_petrignago = pd.read_csv(\"Preprocess Datasets/final_aquifer_petrignano.csv\")\n",
    "lake_bilancino = pd.read_csv(\"Preprocess Datasets/final_lake_bilancino.csv\")\n",
    "river_arno = pd.read_csv(\"Preprocess Datasets/final_river_arno.csv\")\n",
    "spring_amiata = pd.read_csv(\"Preprocess Datasets/final_water_spring_amiata.csv\")\n",
    "spring_lupa = pd.read_csv(\"Preprocess Datasets/final_water_spring_lupa.csv\")\n",
    "spring_madonna = pd.read_csv(\"Preprocess Datasets/final_water_spring_madonna_di_canneto.csv\")"
   ]
  },
  {
   "cell_type": "markdown",
   "id": "69d37491",
   "metadata": {},
   "source": [
    "# Daily Average"
   ]
  },
  {
   "cell_type": "markdown",
   "id": "4965b71b",
   "metadata": {},
   "source": [
    "## Aquifer Auser"
   ]
  },
  {
   "cell_type": "code",
   "execution_count": null,
   "id": "ec3f9101",
   "metadata": {},
   "outputs": [],
   "source": [
    "aquifer_auser_daily_avg = pd.DataFrame()\n",
    "aquifer_auser_daily_avg['Date'] = aquifer_auser['Date']\n",
    "\n",
    "aquifer_auser_daily_avg['mean_rainfall'] = aquifer_auser[['Rainfall_Gallicano', 'Rainfall_Pontetetto',\n",
    "       'Rainfall_Monte_Serra', 'Rainfall_Orentano', 'Rainfall_Borgo_a_Mozzano',\n",
    "       'Rainfall_Piaggione', 'Rainfall_Calavorno', 'Rainfall_Croce_Arcana',\n",
    "       'Rainfall_Tereglio_Coreglia_Antelminelli',\n",
    "       'Rainfall_Fabbriche_di_Vallico']].mean(axis = 1)\n",
    "aquifer_auser_daily_avg['mean_temperature'] = aquifer_auser[['Temperature_Orentano', 'Temperature_Monte_Serra',\n",
    "       'Temperature_Ponte_a_Moriano', 'Temperature_Lucca_Orto_Botanico']].mean(axis = 1)\n",
    "aquifer_auser_daily_avg['mean_volume'] = aquifer_auser[['Volume_POL', 'Volume_CC1', 'Volume_CC2', 'Volume_CSA', 'Volume_CSAL']].mean(axis = 1)\n",
    "aquifer_auser_daily_avg['mean_hydrometry'] = aquifer_auser[['Hydrometry_Monte_S_Quirico', 'Hydrometry_Piaggione']].mean(axis = 1)\n",
    "aquifer_auser_daily_avg['mean_depth_groundwater'] = aquifer_auser[['Depth_to_Groundwater_SAL', 'Depth_to_Groundwater_CoS',\n",
    "                                                                   'Depth_to_Groundwater_LT2', 'Depth_to_Groundwater_PAG',\n",
    "                                                                   'Depth_to_Groundwater_DIEC']].mean(axis = 1)\n",
    "\n",
    "aquifer_auser_daily_avg['Source'] = 'Auser'"
   ]
  },
  {
   "cell_type": "markdown",
   "id": "1535fc4f",
   "metadata": {},
   "source": [
    "## Aquifer Doganella"
   ]
  },
  {
   "cell_type": "code",
   "execution_count": null,
   "id": "109f8e96",
   "metadata": {},
   "outputs": [],
   "source": [
    "aquifer_doganella_daily_avg = pd.DataFrame()\n",
    "aquifer_doganella_daily_avg['Date'] = aquifer_doganella['Date']\n",
    "\n",
    "aquifer_doganella_daily_avg['mean_rainfall'] = aquifer_doganella[['Rainfall_Monteporzio', 'Rainfall_Velletri']].mean(axis = 1)\n",
    "aquifer_doganella_daily_avg['mean_temperature'] = aquifer_doganella[['Temperature_Monteporzio', 'Temperature_Velletri']].mean(axis = 1)\n",
    "aquifer_doganella_daily_avg['mean_volume'] = aquifer_doganella[['Volume_Pozzo_1', 'Volume_Pozzo_2', 'Volume_Pozzo_3',\n",
    "                                                                'Volume_Pozzo_4', 'Volume_Pozzo_5+6', 'Volume_Pozzo_7',\n",
    "                                                                'Volume_Pozzo_8', 'Volume_Pozzo_9']].mean(axis = 1)\n",
    "aquifer_doganella_daily_avg['mean_depth_groundwater'] = aquifer_doganella[['Depth_to_Groundwater_Pozzo_1', 'Depth_to_Groundwater_Pozzo_2',\n",
    "       'Depth_to_Groundwater_Pozzo_3', 'Depth_to_Groundwater_Pozzo_4',\n",
    "       'Depth_to_Groundwater_Pozzo_5', 'Depth_to_Groundwater_Pozzo_6',\n",
    "       'Depth_to_Groundwater_Pozzo_7', 'Depth_to_Groundwater_Pozzo_8',\n",
    "       'Depth_to_Groundwater_Pozzo_9']].mean(axis = 1)\n",
    "\n",
    "aquifer_doganella_daily_avg['Source'] = 'Doganella'"
   ]
  },
  {
   "cell_type": "markdown",
   "id": "dbda6f6c",
   "metadata": {},
   "source": [
    "## Aquifer Luco"
   ]
  },
  {
   "cell_type": "code",
   "execution_count": null,
   "id": "68d07697",
   "metadata": {},
   "outputs": [],
   "source": [
    "aquifer_luco_daily_avg = pd.DataFrame()\n",
    "aquifer_luco_daily_avg['Date'] = aquifer_luco['Date']\n",
    "\n",
    "aquifer_luco_daily_avg['mean_rainfall'] = aquifer_luco[['Rainfall_Simignano', 'Rainfall_Siena_Poggio_al_Vento',\n",
    "       'Rainfall_Mensano', 'Rainfall_Montalcinello', 'Rainfall_Monticiano_la_Pineta', 'Rainfall_Sovicille',\n",
    "       'Rainfall_Ponte_Orgia', 'Rainfall_Scorgiano', 'Rainfall_Pentolina', 'Rainfall_Monteroni_Arbia_Biena']].mean(axis = 1)\n",
    "aquifer_luco_daily_avg['mean_temperature'] = aquifer_luco[['Temperature_Siena_Poggio_al_Vento',\n",
    "       'Temperature_Mensano', 'Temperature_Pentolina', 'Temperature_Monteroni_Arbia_Biena']].mean(axis = 1)\n",
    "aquifer_luco_daily_avg['mean_volume'] = aquifer_luco[['Volume_Pozzo_1', 'Volume_Pozzo_3', 'Volume_Pozzo_4']].mean(axis = 1)\n",
    "aquifer_luco_daily_avg['mean_depth_groundwater'] = aquifer_luco[['Depth_to_Groundwater_Podere_Casetta',\n",
    "       'Depth_to_Groundwater_Pozzo_1', 'Depth_to_Groundwater_Pozzo_3', 'Depth_to_Groundwater_Pozzo_4']].mean(axis = 1)\n",
    "\n",
    "aquifer_luco_daily_avg['Source'] = 'Luco'"
   ]
  },
  {
   "cell_type": "markdown",
   "id": "a57688ba",
   "metadata": {},
   "source": [
    "## Aquifer Petrignago"
   ]
  },
  {
   "cell_type": "code",
   "execution_count": null,
   "id": "60c55cfe",
   "metadata": {},
   "outputs": [],
   "source": [
    "aquifer_petrignago_daily_avg = pd.DataFrame()\n",
    "aquifer_petrignago_daily_avg['Date'] = aquifer_petrignago['Date']\n",
    "\n",
    "aquifer_petrignago_daily_avg['mean_rainfall'] = aquifer_petrignago[['Rainfall_Bastia_Umbra']]\n",
    "aquifer_petrignago_daily_avg['mean_temperature'] = aquifer_petrignago[['Temperature_Bastia_Umbra', 'Temperature_Petrignano']].mean(axis = 1)\n",
    "aquifer_petrignago_daily_avg['mean_volume'] = aquifer_petrignago[['Volume_C10_Petrignano']]\n",
    "aquifer_petrignago_daily_avg['mean_hydrometry'] = aquifer_petrignago[['Hydrometry_Fiume_Chiascio_Petrignano']]\n",
    "aquifer_petrignago_daily_avg['mean_depth_groundwater'] = aquifer_petrignago[['Depth_to_Groundwater_P24',\n",
    "                                                                             'Depth_to_Groundwater_P25']].mean(axis = 1)\n",
    "\n",
    "aquifer_petrignago_daily_avg['Source'] = 'Petrignago'"
   ]
  },
  {
   "cell_type": "code",
   "execution_count": null,
   "id": "368abcb7",
   "metadata": {},
   "outputs": [],
   "source": [
    "combine_aquifier_daily_avg = pd.concat([aquifer_auser_daily_avg, aquifer_doganella_daily_avg, aquifer_luco_daily_avg, aquifer_petrignago_daily_avg])"
   ]
  },
  {
   "cell_type": "code",
   "execution_count": null,
   "id": "9195d6a2",
   "metadata": {
    "scrolled": true
   },
   "outputs": [],
   "source": [
    "combine_aquifier_daily_avg['Date'] = pd.to_datetime(combine_aquifier_daily_avg['Date']).dt.date\n",
    "aquifier_daily_avg = combine_aquifier_daily_avg.groupby('Date').mean()\n",
    "aquifier_daily_avg"
   ]
  },
  {
   "cell_type": "code",
   "execution_count": null,
   "id": "76e8e626",
   "metadata": {},
   "outputs": [],
   "source": [
    "aquifier_daily_avg.info()"
   ]
  },
  {
   "cell_type": "code",
   "execution_count": null,
   "id": "3c6d5bf1",
   "metadata": {},
   "outputs": [],
   "source": [
    "groundwater_depth = pd.DataFrame()\n",
    "\n",
    "for i in range(1, 32):\n",
    "    groundwater_depth['Depth_' + str(i)] = aquifier_daily_avg['mean_depth_groundwater'].shift(-i)\n",
    "    \n",
    "groundwater_depth = groundwater_depth.ffill()"
   ]
  },
  {
   "cell_type": "code",
   "execution_count": null,
   "id": "efa4a01a",
   "metadata": {},
   "outputs": [],
   "source": [
    "x = aquifier_daily_avg[['mean_rainfall', 'mean_temperature']]"
   ]
  },
  {
   "cell_type": "code",
   "execution_count": null,
   "id": "fdcb1f33",
   "metadata": {},
   "outputs": [],
   "source": [
    "median_error = []\n",
    "\n",
    "for i in range(1, 32):\n",
    "    y = groundwater_depth['Depth_' + str(i)]\n",
    "    x_train, x_test, y_train, y_test = train_test_split(x, y, test_size = 0.25, random_state = 0)\n",
    "    rf = RandomForestRegressor()\n",
    "    model = rf.fit(x_train, y_train)\n",
    "    model_predict = model.predict(x_test)\n",
    "    error = median_absolute_error(y_test, model_predict)\n",
    "    median_error.append(error)"
   ]
  },
  {
   "cell_type": "code",
   "execution_count": null,
   "id": "32927a3e",
   "metadata": {},
   "outputs": [],
   "source": [
    "plt.title(\"Median Absolute Error: Groundwater Feature\")\n",
    "plt.xlabel('Day')\n",
    "plt.ylabel('Median Absolute Error')\n",
    "plt.plot(median_error)"
   ]
  },
  {
   "cell_type": "code",
   "execution_count": null,
   "id": "d86e2825",
   "metadata": {},
   "outputs": [],
   "source": [
    "volume = pd.DataFrame()\n",
    "\n",
    "for i in range(1, 32):\n",
    "    volume['Volume_' + str(i)] = aquifier_daily_avg['mean_volume'].shift(-i)\n",
    "    \n",
    "volume = volume.ffill()"
   ]
  },
  {
   "cell_type": "code",
   "execution_count": null,
   "id": "701c07ae",
   "metadata": {},
   "outputs": [],
   "source": [
    "x = aquifier_daily_avg[['mean_rainfall', 'mean_temperature']]"
   ]
  },
  {
   "cell_type": "code",
   "execution_count": null,
   "id": "fa07a55b",
   "metadata": {},
   "outputs": [],
   "source": [
    "median_error = []\n",
    "\n",
    "for i in range(1, 32):\n",
    "    y = volume['Volume_' + str(i)]\n",
    "    x_train, x_test, y_train, y_test = train_test_split(x, y, test_size = 0.25, random_state = 0)\n",
    "    rf = RandomForestRegressor()\n",
    "    model = rf.fit(x_train, y_train)\n",
    "    model_predict = model.predict(x_test)\n",
    "    error = median_absolute_error(y_test, model_predict)\n",
    "    median_error.append(error)"
   ]
  },
  {
   "cell_type": "code",
   "execution_count": null,
   "id": "273d4fd6",
   "metadata": {},
   "outputs": [],
   "source": [
    "plt.title(\"Median Absolute Error: Volume Feature\")\n",
    "plt.xlabel('Day')\n",
    "plt.ylabel('Median Absolute Error')\n",
    "plt.plot(median_error)"
   ]
  },
  {
   "cell_type": "code",
   "execution_count": null,
   "id": "3d47940a",
   "metadata": {},
   "outputs": [],
   "source": [
    "hydrometry = pd.DataFrame()\n",
    "\n",
    "for i in range(1, 32):\n",
    "    hydrometry['Hydrometry_' + str(i)] = aquifier_daily_avg['mean_hydrometry'].shift(-i)\n",
    "    \n",
    "hydrometry = hydrometry.ffill()"
   ]
  },
  {
   "cell_type": "code",
   "execution_count": null,
   "id": "a5307ba1",
   "metadata": {},
   "outputs": [],
   "source": [
    "x = aquifier_daily_avg[['mean_rainfall', 'mean_temperature']]"
   ]
  },
  {
   "cell_type": "code",
   "execution_count": null,
   "id": "de599ad4",
   "metadata": {},
   "outputs": [],
   "source": [
    "median_error = []\n",
    "\n",
    "for i in range(1, 32):\n",
    "    y = hydrometry['Hydrometry_' + str(i)]\n",
    "    x_train, x_test, y_train, y_test = train_test_split(x, y, test_size = 0.25, random_state = 0)\n",
    "    rf = RandomForestRegressor()\n",
    "    model = rf.fit(x_train, y_train)\n",
    "    model_predict = model.predict(x_test)\n",
    "    error = median_absolute_error(y_test, model_predict)\n",
    "    median_error.append(error)"
   ]
  },
  {
   "cell_type": "code",
   "execution_count": null,
   "id": "48f41ec7",
   "metadata": {},
   "outputs": [],
   "source": [
    "plt.title(\"Median Absolute Error: Hydrometry Feature\")\n",
    "plt.xlabel('Day')\n",
    "plt.ylabel('Median Absolute Error')\n",
    "plt.plot(median_error)"
   ]
  },
  {
   "cell_type": "code",
   "execution_count": null,
   "id": "a0ec0ec7",
   "metadata": {},
   "outputs": [],
   "source": [
    "aquifier_daily_avg['actual_depth'] = aquifier_daily_avg['mean_depth_groundwater'].shift(-26)\n",
    "aquifier_daily_avg['actual_volume'] = aquifier_daily_avg['mean_volume'].shift(-26)\n",
    "aquifier_daily_avg['actual_hydrometry'] = aquifier_daily_avg['mean_hydrometry'].shift(-26)\n",
    "aquifier_daily_avg = aquifier_daily_avg.ffill()\n",
    "aquifier_daily_avg"
   ]
  },
  {
   "cell_type": "markdown",
   "id": "600c7906",
   "metadata": {},
   "source": [
    "## Lake Bilancino"
   ]
  },
  {
   "cell_type": "code",
   "execution_count": null,
   "id": "210528e1",
   "metadata": {},
   "outputs": [],
   "source": [
    "lake_bilancino_daily_avg = pd.DataFrame()\n",
    "lake_bilancino_daily_avg['Date'] = lake_bilancino['Date']\n",
    "\n",
    "lake_bilancino_daily_avg['mean_rainfall'] = lake_bilancino[['Rainfall_S_Piero', 'Rainfall_Mangona', 'Rainfall_S_Agata',\n",
    "                                                            'Rainfall_Cavallina', 'Rainfall_Le_Croci']].mean(axis = 1)\n",
    "lake_bilancino_daily_avg['mean_temperature'] = lake_bilancino[['Temperature_Le_Croci']].mean(axis = 1)\n",
    "lake_bilancino_daily_avg['mean_lake_level'] = lake_bilancino[['Lake_Level']]\n",
    "lake_bilancino_daily_avg['mean_flow_rate'] = lake_bilancino[['Flow_Rate']]\n",
    "\n",
    "lake_bilancino_daily_avg['Date'] = pd.to_datetime(lake_bilancino['Date']).dt.date"
   ]
  },
  {
   "cell_type": "code",
   "execution_count": null,
   "id": "ffb907df",
   "metadata": {},
   "outputs": [],
   "source": [
    "flow_rate = pd.DataFrame()\n",
    "\n",
    "for i in range(1, 32):\n",
    "    flow_rate['Flow_Rate_' + str(i)] = lake_bilancino_daily_avg['mean_flow_rate'].shift(-i)\n",
    "    \n",
    "flow_rate = flow_rate.ffill()"
   ]
  },
  {
   "cell_type": "code",
   "execution_count": null,
   "id": "1cf3c409",
   "metadata": {},
   "outputs": [],
   "source": [
    "x = lake_bilancino_daily_avg[['mean_rainfall', 'mean_temperature']]"
   ]
  },
  {
   "cell_type": "code",
   "execution_count": null,
   "id": "3faae775",
   "metadata": {},
   "outputs": [],
   "source": [
    "median_error = []\n",
    "\n",
    "for i in range(1, 32):\n",
    "    y = flow_rate['Flow_Rate_' + str(i)]\n",
    "    x_train, x_test, y_train, y_test = train_test_split(x, y, test_size = 0.25, random_state = 0)\n",
    "    rf = RandomForestRegressor()\n",
    "    model = rf.fit(x_train, y_train)\n",
    "    model_predict = model.predict(x_test)\n",
    "    error = median_absolute_error(y_test, model_predict)\n",
    "    median_error.append(error)"
   ]
  },
  {
   "cell_type": "code",
   "execution_count": null,
   "id": "9ce9ce9c",
   "metadata": {},
   "outputs": [],
   "source": [
    "plt.title(\"Median Absolute Error: Flow Rate Feature\")\n",
    "plt.xlabel('Day')\n",
    "plt.ylabel('Median Absolute Error')\n",
    "plt.plot(median_error)"
   ]
  },
  {
   "cell_type": "code",
   "execution_count": null,
   "id": "b637ac21",
   "metadata": {},
   "outputs": [],
   "source": [
    "flow_rate = pd.DataFrame()\n",
    "\n",
    "for i in range(1, 32):\n",
    "    flow_rate['Lake_Level_' + str(i)] = lake_bilancino_daily_avg['mean_lake_level'].shift(-i)\n",
    "    \n",
    "flow_rate = flow_rate.ffill()"
   ]
  },
  {
   "cell_type": "code",
   "execution_count": null,
   "id": "c393857b",
   "metadata": {},
   "outputs": [],
   "source": [
    "x = lake_bilancino_daily_avg[['mean_rainfall', 'mean_temperature']]"
   ]
  },
  {
   "cell_type": "code",
   "execution_count": null,
   "id": "f68382c8",
   "metadata": {},
   "outputs": [],
   "source": [
    "median_error = []\n",
    "\n",
    "for i in range(1, 32):\n",
    "    y = flow_rate['Lake_Level_' + str(i)]\n",
    "    x_train, x_test, y_train, y_test = train_test_split(x, y, test_size = 0.25, random_state = 0)\n",
    "    rf = RandomForestRegressor()\n",
    "    model = rf.fit(x_train, y_train)\n",
    "    model_predict = model.predict(x_test)\n",
    "    error = median_absolute_error(y_test, model_predict)\n",
    "    median_error.append(error)"
   ]
  },
  {
   "cell_type": "code",
   "execution_count": null,
   "id": "e7c72599",
   "metadata": {},
   "outputs": [],
   "source": [
    "plt.title(\"Median Absolute Error: Lake Level Feature\")\n",
    "plt.xlabel('Day')\n",
    "plt.ylabel('Median Absolute Error')\n",
    "plt.plot(median_error)"
   ]
  },
  {
   "cell_type": "code",
   "execution_count": null,
   "id": "0a7eb8e2",
   "metadata": {},
   "outputs": [],
   "source": [
    "lake_bilancino_daily_avg['actual_flow_rate'] = lake_bilancino_daily_avg['mean_flow_rate'].shift(-15)\n",
    "lake_bilancino_daily_avg['actual_lake_level'] = lake_bilancino_daily_avg['mean_lake_level'].shift(-15)\n",
    "lake_bilancino_daily_avg = lake_bilancino_daily_avg.ffill()\n",
    "lake_bilancino_daily_avg"
   ]
  },
  {
   "cell_type": "markdown",
   "id": "9d91ec30",
   "metadata": {},
   "source": [
    "## River Arno"
   ]
  },
  {
   "cell_type": "code",
   "execution_count": null,
   "id": "8c67cbad",
   "metadata": {},
   "outputs": [],
   "source": [
    "river_arno_daily_avg = pd.DataFrame()\n",
    "river_arno_daily_avg['Date'] = river_arno['Date']\n",
    "\n",
    "river_arno_daily_avg['mean_rainfall'] = river_arno[['Rainfall_Le_Croci', 'Rainfall_Cavallina', 'Rainfall_S_Agata',\n",
    "       'Rainfall_Mangona', 'Rainfall_S_Piero', 'Rainfall_Vernio', 'Rainfall_Stia', 'Rainfall_Consuma', 'Rainfall_Incisa',\n",
    "       'Rainfall_Montevarchi', 'Rainfall_S_Savino', 'Rainfall_Laterina', 'Rainfall_Bibbiena',\n",
    "       'Rainfall_Camaldoli']].mean(axis = 1)\n",
    "river_arno_daily_avg['mean_temperature'] = river_arno[['Temperature_Firenze']].mean(axis = 1)\n",
    "river_arno_daily_avg['mean_hydrometry'] = river_arno[['Hydrometry_Nave_di_Rosano']].mean(axis = 1)\n",
    "\n",
    "river_arno_daily_avg['Source'] = 'Arno'\n",
    "river_daily_avg = river_arno_daily_avg"
   ]
  },
  {
   "cell_type": "code",
   "execution_count": null,
   "id": "98dae136",
   "metadata": {},
   "outputs": [],
   "source": [
    "river_daily_avg.info()"
   ]
  },
  {
   "cell_type": "code",
   "execution_count": null,
   "id": "d5504ef4",
   "metadata": {},
   "outputs": [],
   "source": [
    "hydrometry = pd.DataFrame()\n",
    "\n",
    "for i in range(1, 32):\n",
    "    hydrometry['Hydrometry_' + str(i)] = river_daily_avg['mean_hydrometry'].shift(-i)\n",
    "    \n",
    "hydrometry = hydrometry.ffill()"
   ]
  },
  {
   "cell_type": "code",
   "execution_count": null,
   "id": "86e5b42b",
   "metadata": {},
   "outputs": [],
   "source": [
    "x = river_daily_avg[['mean_rainfall', 'mean_temperature']]"
   ]
  },
  {
   "cell_type": "code",
   "execution_count": null,
   "id": "f9ae1593",
   "metadata": {},
   "outputs": [],
   "source": [
    "median_error = []\n",
    "\n",
    "for i in range(1, 32):\n",
    "    y = hydrometry['Hydrometry_' + str(i)]\n",
    "    x_train, x_test, y_train, y_test = train_test_split(x, y, test_size = 0.25, random_state = 0)\n",
    "    rf = RandomForestRegressor()\n",
    "    model = rf.fit(x_train, y_train)\n",
    "    model_predict = model.predict(x_test)\n",
    "    error = median_absolute_error(y_test, model_predict)\n",
    "    median_error.append(error)"
   ]
  },
  {
   "cell_type": "code",
   "execution_count": null,
   "id": "bb9cae2f",
   "metadata": {},
   "outputs": [],
   "source": [
    "plt.title(\"Median Absolute Error: Hydrometry\")\n",
    "plt.xlabel('Day')\n",
    "plt.ylabel('Median Absolute Error')\n",
    "plt.plot(median_error)"
   ]
  },
  {
   "cell_type": "code",
   "execution_count": null,
   "id": "dd3b4570",
   "metadata": {},
   "outputs": [],
   "source": [
    "river_daily_avg['actual_hydrometry'] = river_daily_avg['mean_hydrometry'].shift(-14)\n",
    "river_daily_avg = river_daily_avg.ffill()\n",
    "river_daily_avg"
   ]
  },
  {
   "cell_type": "markdown",
   "id": "ede7555c",
   "metadata": {},
   "source": [
    "## Water Spring Amiata"
   ]
  },
  {
   "cell_type": "code",
   "execution_count": null,
   "id": "e6f03fca",
   "metadata": {},
   "outputs": [],
   "source": [
    "spring_amiata_daily_avg = pd.DataFrame()\n",
    "spring_amiata_daily_avg['Date'] = spring_amiata['Date']\n",
    "\n",
    "spring_amiata_daily_avg['mean_rainfall'] = spring_amiata[['Rainfall_Castel_del_Piano', 'Rainfall_Abbadia_S_Salvatore',\n",
    "       'Rainfall_S_Fiora', 'Rainfall_Laghetto_Verde', 'Rainfall_Vetta_Amiata']].mean(axis = 1)\n",
    "spring_amiata_daily_avg['mean_temperature'] = spring_amiata[['Temperature_Abbadia_S_Salvatore', 'Temperature_S_Fiora',\n",
    "       'Temperature_Laghetto_Verde']].mean(axis = 1)\n",
    "spring_amiata_daily_avg['mean_depth_groundwater'] = spring_amiata[['Depth_to_Groundwater_S_Fiora_8',\n",
    "        'Depth_to_Groundwater_S_Fiora_11bis', 'Depth_to_Groundwater_David_Lazzaretti']].mean(axis = 1)\n",
    "spring_amiata_daily_avg['mean_flow_rate'] = spring_amiata[['Flow_Rate_Bugnano', 'Flow_Rate_Arbure',\n",
    "                                                           'Flow_Rate_Ermicciolo', 'Flow_Rate_Galleria_Alta']].mean(axis = 1)\n",
    "\n",
    "spring_amiata_daily_avg['Source'] = 'Amita'"
   ]
  },
  {
   "cell_type": "markdown",
   "id": "9ce213c4",
   "metadata": {},
   "source": [
    "## Water Spring Lupa"
   ]
  },
  {
   "cell_type": "code",
   "execution_count": null,
   "id": "6170057e",
   "metadata": {},
   "outputs": [],
   "source": [
    "spring_lupa_daily_avg = pd.DataFrame()\n",
    "spring_lupa_daily_avg['Date'] = spring_lupa['Date']\n",
    "\n",
    "spring_lupa_daily_avg['mean_rainfall'] = spring_lupa[['Rainfall_Terni']].mean(axis = 1)\n",
    "spring_lupa_daily_avg['mean_flow_rate'] = spring_lupa[['Flow_Rate_Lupa']].mean(axis = 1)\n",
    "\n",
    "spring_lupa_daily_avg['Source'] = 'Lupa'"
   ]
  },
  {
   "cell_type": "markdown",
   "id": "803b98d2",
   "metadata": {},
   "source": [
    "## Water Spring Madonna Di Canneto"
   ]
  },
  {
   "cell_type": "code",
   "execution_count": null,
   "id": "ad323c2c",
   "metadata": {},
   "outputs": [],
   "source": [
    "spring_madonna_daily_avg = pd.DataFrame()\n",
    "spring_madonna_daily_avg['Date'] = spring_madonna['Date']\n",
    "\n",
    "spring_madonna_daily_avg['mean_rainfall'] = spring_madonna[['Rainfall_Settefrati']]\n",
    "spring_madonna_daily_avg['mean_temperature'] = spring_madonna[['Temperature_Settefrati']]\n",
    "spring_madonna_daily_avg['mean_flow_rate'] = spring_madonna[['Flow_Rate_Madonna_di_Canneto']]\n",
    "\n",
    "spring_madonna_daily_avg['Source'] = 'Madonna'"
   ]
  },
  {
   "cell_type": "code",
   "execution_count": null,
   "id": "94df6f36",
   "metadata": {},
   "outputs": [],
   "source": [
    "combine_water_spring_daily_avg = pd.concat([spring_amiata_daily_avg, spring_lupa_daily_avg, spring_madonna_daily_avg])"
   ]
  },
  {
   "cell_type": "code",
   "execution_count": null,
   "id": "4625045f",
   "metadata": {},
   "outputs": [],
   "source": [
    "combine_water_spring_daily_avg['Date'] = pd.to_datetime(combine_water_spring_daily_avg['Date']).dt.date\n",
    "water_spring_daily_avg = combine_water_spring_daily_avg.groupby('Date').mean()\n",
    "water_spring_daily_avg"
   ]
  },
  {
   "cell_type": "code",
   "execution_count": null,
   "id": "4e5cdd46",
   "metadata": {},
   "outputs": [],
   "source": [
    "water_spring_daily_avg.info()"
   ]
  },
  {
   "cell_type": "code",
   "execution_count": null,
   "id": "6989a239",
   "metadata": {},
   "outputs": [],
   "source": [
    "groundwater_depth = pd.DataFrame()\n",
    "\n",
    "for i in range(1, 32):\n",
    "    groundwater_depth['Depth_' + str(i)] = water_spring_daily_avg['mean_depth_groundwater'].shift(-i)\n",
    "    \n",
    "groundwater_depth = groundwater_depth.ffill()"
   ]
  },
  {
   "cell_type": "code",
   "execution_count": null,
   "id": "559ca053",
   "metadata": {},
   "outputs": [],
   "source": [
    "x = water_spring_daily_avg[['mean_rainfall', 'mean_temperature']]"
   ]
  },
  {
   "cell_type": "code",
   "execution_count": null,
   "id": "b24225fd",
   "metadata": {},
   "outputs": [],
   "source": [
    "median_error = []\n",
    "\n",
    "for i in range(1, 32):\n",
    "    y = groundwater_depth['Depth_' + str(i)]\n",
    "    x_train, x_test, y_train, y_test = train_test_split(x, y, test_size = 0.25, random_state = 0)\n",
    "    rf = RandomForestRegressor()\n",
    "    model = rf.fit(x_train, y_train)\n",
    "    model_predict = model.predict(x_test)\n",
    "    error = median_absolute_error(y_test, model_predict)\n",
    "    median_error.append(error)"
   ]
  },
  {
   "cell_type": "code",
   "execution_count": null,
   "id": "a7455b3a",
   "metadata": {},
   "outputs": [],
   "source": [
    "plt.title(\"Median Absolute Error: Groundwater Feature\")\n",
    "plt.xlabel('Day')\n",
    "plt.ylabel('Median Absolute Error')\n",
    "plt.plot(median_error)"
   ]
  },
  {
   "cell_type": "code",
   "execution_count": null,
   "id": "7cf4ff46",
   "metadata": {},
   "outputs": [],
   "source": [
    "flow_rate = pd.DataFrame()\n",
    "\n",
    "for i in range(1, 32):\n",
    "    flow_rate['Flow_Rate_' + str(i)] = water_spring_daily_avg['mean_flow_rate'].shift(-i)\n",
    "    \n",
    "flow_rate = flow_rate.ffill()"
   ]
  },
  {
   "cell_type": "code",
   "execution_count": null,
   "id": "9f381f15",
   "metadata": {},
   "outputs": [],
   "source": [
    "x = water_spring_daily_avg[['mean_rainfall', 'mean_temperature']]"
   ]
  },
  {
   "cell_type": "code",
   "execution_count": null,
   "id": "63f49d13",
   "metadata": {},
   "outputs": [],
   "source": [
    "plt.title(\"Median Absolute Error: Flow Rate\")\n",
    "plt.xlabel('Day')\n",
    "plt.ylabel('Median Absolute Error')\n",
    "plt.plot(median_error)"
   ]
  },
  {
   "cell_type": "code",
   "execution_count": null,
   "id": "576d999e",
   "metadata": {},
   "outputs": [],
   "source": [
    "water_spring_daily_avg['actual_depth'] = water_spring_daily_avg['mean_depth_groundwater'].shift(-14)\n",
    "water_spring_daily_avg['actual_flow_rate'] = water_spring_daily_avg['mean_flow_rate'].shift(-14)\n",
    "water_spring_daily_avg = water_spring_daily_avg.ffill()\n",
    "water_spring_daily_avg"
   ]
  },
  {
   "cell_type": "markdown",
   "id": "fce9f8d2",
   "metadata": {},
   "source": [
    "# Weekly Average"
   ]
  },
  {
   "cell_type": "markdown",
   "id": "d74eef4e",
   "metadata": {},
   "source": [
    "## Aquifer Auser"
   ]
  },
  {
   "cell_type": "code",
   "execution_count": null,
   "id": "a105d093",
   "metadata": {},
   "outputs": [],
   "source": [
    "aquifer_auser_weekly_avg = aquifer_auser.copy()\n",
    "aquifer_auser_weekly_avg['Week'] = pd.to_datetime(aquifer_auser['Date']).dt.week.values\n",
    "aquifer_auser_weekly_avg = aquifer_auser_weekly_avg.groupby('Week').mean()\n",
    "\n",
    "aquifer_auser_weekly_avg['mean_rainfall'] = aquifer_auser[['Rainfall_Gallicano', 'Rainfall_Pontetetto',\n",
    "       'Rainfall_Monte_Serra', 'Rainfall_Orentano', 'Rainfall_Borgo_a_Mozzano',\n",
    "       'Rainfall_Piaggione', 'Rainfall_Calavorno', 'Rainfall_Croce_Arcana',\n",
    "       'Rainfall_Tereglio_Coreglia_Antelminelli',\n",
    "       'Rainfall_Fabbriche_di_Vallico']].mean(axis = 1)\n",
    "aquifer_auser_weekly_avg['mean_temperature'] = aquifer_auser[['Temperature_Orentano', 'Temperature_Monte_Serra',\n",
    "       'Temperature_Ponte_a_Moriano', 'Temperature_Lucca_Orto_Botanico']].mean(axis = 1)\n",
    "aquifer_auser_weekly_avg['mean_volume'] = aquifer_auser[['Volume_POL', 'Volume_CC1', 'Volume_CC2', 'Volume_CSA',\n",
    "                                                         'Volume_CSAL']].mean(axis = 1)\n",
    "aquifer_auser_weekly_avg['mean_hydrometry'] = aquifer_auser[['Hydrometry_Monte_S_Quirico',\n",
    "                                                             'Hydrometry_Piaggione']].mean(axis = 1)\n",
    "aquifer_auser_weekly_avg['mean_depth_groundwater'] = aquifer_auser[['Depth_to_Groundwater_SAL', 'Depth_to_Groundwater_CoS',\n",
    "                                                                   'Depth_to_Groundwater_LT2', 'Depth_to_Groundwater_PAG',\n",
    "                                                                   'Depth_to_Groundwater_DIEC']].mean(axis = 1)\n",
    "\n",
    "aquifer_auser_weekly_avg['Source'] = 'Auser'\n",
    "\n",
    "aquifer_auser_weekly_avg.drop(columns = ['Rainfall_Gallicano', 'Rainfall_Pontetetto', 'Rainfall_Monte_Serra',\n",
    "        'Rainfall_Orentano', 'Rainfall_Borgo_a_Mozzano', 'Rainfall_Piaggione', 'Rainfall_Calavorno', 'Rainfall_Croce_Arcana',\n",
    "        'Rainfall_Tereglio_Coreglia_Antelminelli', 'Rainfall_Fabbriche_di_Vallico', 'Temperature_Orentano',\n",
    "        'Temperature_Monte_Serra', 'Temperature_Ponte_a_Moriano', 'Temperature_Lucca_Orto_Botanico', 'Volume_POL',\n",
    "        'Volume_CC1', 'Volume_CC2', 'Volume_CSA', 'Volume_CSAL', 'Hydrometry_Monte_S_Quirico', 'Hydrometry_Piaggione',\n",
    "        'Depth_to_Groundwater_SAL', 'Depth_to_Groundwater_CoS', 'Depth_to_Groundwater_LT2', 'Depth_to_Groundwater_PAG',\n",
    "        'Depth_to_Groundwater_DIEC'], inplace = True)"
   ]
  },
  {
   "cell_type": "markdown",
   "id": "58a4ded2",
   "metadata": {},
   "source": [
    "## Aquifer Doganella"
   ]
  },
  {
   "cell_type": "code",
   "execution_count": null,
   "id": "97ffa3fa",
   "metadata": {},
   "outputs": [],
   "source": [
    "aquifer_doganella_weekly_avg = aquifer_doganella.copy()\n",
    "aquifer_doganella_weekly_avg['Week'] = pd.to_datetime(aquifer_doganella['Date']).dt.week.values\n",
    "aquifer_doganella_weekly_avg = aquifer_doganella_weekly_avg.groupby('Week').mean()\n",
    "\n",
    "aquifer_doganella_weekly_avg['mean_rainfall'] = aquifer_doganella[['Rainfall_Monteporzio', 'Rainfall_Velletri']].mean(axis = 1)\n",
    "aquifer_doganella_weekly_avg['mean_temperature'] = aquifer_doganella[['Temperature_Monteporzio', 'Temperature_Velletri']].mean(axis = 1)\n",
    "aquifer_doganella_weekly_avg['mean_volume'] = aquifer_doganella[['Volume_Pozzo_1', 'Volume_Pozzo_2', 'Volume_Pozzo_3',\n",
    "                                                                'Volume_Pozzo_4', 'Volume_Pozzo_5+6', 'Volume_Pozzo_7',\n",
    "                                                                'Volume_Pozzo_8', 'Volume_Pozzo_9']].mean(axis = 1)\n",
    "aquifer_doganella_weekly_avg['mean_depth_groundwater'] = aquifer_doganella[['Depth_to_Groundwater_Pozzo_1', 'Depth_to_Groundwater_Pozzo_2',\n",
    "       'Depth_to_Groundwater_Pozzo_3', 'Depth_to_Groundwater_Pozzo_4', 'Depth_to_Groundwater_Pozzo_5',\n",
    "       'Depth_to_Groundwater_Pozzo_6', 'Depth_to_Groundwater_Pozzo_7', 'Depth_to_Groundwater_Pozzo_8',\n",
    "       'Depth_to_Groundwater_Pozzo_9']].mean(axis = 1)\n",
    "\n",
    "aquifer_doganella_weekly_avg['Source'] = 'Doganella'\n",
    "\n",
    "aquifer_doganella_weekly_avg.drop(columns = ['Rainfall_Monteporzio', 'Rainfall_Velletri', 'Temperature_Monteporzio',\n",
    "    'Temperature_Velletri', 'Volume_Pozzo_1', 'Volume_Pozzo_2', 'Volume_Pozzo_3', 'Volume_Pozzo_4', 'Volume_Pozzo_5+6',\n",
    "    'Volume_Pozzo_7', 'Volume_Pozzo_8', 'Volume_Pozzo_9', 'Depth_to_Groundwater_Pozzo_1', 'Depth_to_Groundwater_Pozzo_2',\n",
    "    'Depth_to_Groundwater_Pozzo_3', 'Depth_to_Groundwater_Pozzo_4', 'Depth_to_Groundwater_Pozzo_5',\n",
    "    'Depth_to_Groundwater_Pozzo_6', 'Depth_to_Groundwater_Pozzo_7', 'Depth_to_Groundwater_Pozzo_8',\n",
    "    'Depth_to_Groundwater_Pozzo_9'], inplace = True)"
   ]
  },
  {
   "cell_type": "markdown",
   "id": "354606b0",
   "metadata": {},
   "source": [
    "## Aquifer Luco"
   ]
  },
  {
   "cell_type": "code",
   "execution_count": null,
   "id": "08674269",
   "metadata": {},
   "outputs": [],
   "source": [
    "aquifer_luco_weekly_avg = aquifer_luco.copy()\n",
    "aquifer_luco_weekly_avg['Week'] = pd.to_datetime(aquifer_luco['Date']).dt.week.values\n",
    "aquifer_luco_weekly_avg = aquifer_luco_weekly_avg.groupby('Week').mean()\n",
    "\n",
    "aquifer_luco_weekly_avg['mean_rainfall'] = aquifer_luco[['Rainfall_Simignano', 'Rainfall_Siena_Poggio_al_Vento',\n",
    "       'Rainfall_Mensano', 'Rainfall_Montalcinello', 'Rainfall_Monticiano_la_Pineta', 'Rainfall_Sovicille',\n",
    "       'Rainfall_Ponte_Orgia', 'Rainfall_Scorgiano', 'Rainfall_Pentolina', 'Rainfall_Monteroni_Arbia_Biena']].mean(axis = 1)\n",
    "aquifer_luco_weekly_avg['mean_temperature'] = aquifer_luco[['Temperature_Siena_Poggio_al_Vento',\n",
    "       'Temperature_Mensano', 'Temperature_Pentolina', 'Temperature_Monteroni_Arbia_Biena']].mean(axis = 1)\n",
    "aquifer_luco_weekly_avg['mean_volume'] = aquifer_luco[['Volume_Pozzo_1', 'Volume_Pozzo_3', 'Volume_Pozzo_4']].mean(axis = 1)\n",
    "aquifer_luco_weekly_avg['mean_depth_groundwater'] = aquifer_luco[['Depth_to_Groundwater_Podere_Casetta',\n",
    "       'Depth_to_Groundwater_Pozzo_1', 'Depth_to_Groundwater_Pozzo_3', 'Depth_to_Groundwater_Pozzo_4']].mean(axis = 1)\n",
    "\n",
    "aquifer_luco_weekly_avg['Source'] = 'Luco'\n",
    "\n",
    "aquifer_luco_weekly_avg.drop(columns = ['Rainfall_Simignano', 'Rainfall_Siena_Poggio_al_Vento', 'Rainfall_Mensano',\n",
    "    'Rainfall_Montalcinello', 'Rainfall_Monticiano_la_Pineta', 'Rainfall_Sovicille', 'Rainfall_Ponte_Orgia',\n",
    "    'Rainfall_Scorgiano', 'Rainfall_Pentolina', 'Rainfall_Monteroni_Arbia_Biena', 'Temperature_Siena_Poggio_al_Vento',\n",
    "    'Temperature_Mensano', 'Temperature_Pentolina', 'Temperature_Monteroni_Arbia_Biena', 'Volume_Pozzo_1', 'Volume_Pozzo_3',\n",
    "    'Volume_Pozzo_4', 'Depth_to_Groundwater_Podere_Casetta', 'Depth_to_Groundwater_Pozzo_1', 'Depth_to_Groundwater_Pozzo_3',\n",
    "    'Depth_to_Groundwater_Pozzo_4'], inplace = True)"
   ]
  },
  {
   "cell_type": "markdown",
   "id": "98e135b1",
   "metadata": {},
   "source": [
    "## Aquifer Petrignago"
   ]
  },
  {
   "cell_type": "code",
   "execution_count": null,
   "id": "8ffa34c0",
   "metadata": {},
   "outputs": [],
   "source": [
    "aquifer_petrignago_weekly_avg = aquifer_petrignago.copy()\n",
    "aquifer_petrignago_weekly_avg['Week'] = pd.to_datetime(aquifer_petrignago['Date']).dt.week.values\n",
    "aquifer_petrignago_weekly_avg = aquifer_petrignago_weekly_avg.groupby('Week').mean()\n",
    "\n",
    "aquifer_petrignago_weekly_avg['mean_rainfall'] = aquifer_petrignago[['Rainfall_Bastia_Umbra']]\n",
    "aquifer_petrignago_weekly_avg['mean_temperature'] = aquifer_petrignago[['Temperature_Bastia_Umbra',\n",
    "                                                                        'Temperature_Petrignano']].mean(axis = 1)\n",
    "aquifer_petrignago_weekly_avg['mean_volume'] = aquifer_petrignago[['Volume_C10_Petrignano']]\n",
    "aquifer_petrignago_weekly_avg['mean_hydrometry'] = aquifer_petrignago[['Hydrometry_Fiume_Chiascio_Petrignano']]\n",
    "aquifer_petrignago_weekly_avg['mean_depth_groundwater'] = aquifer_petrignago[['Depth_to_Groundwater_P24',\n",
    "                                                                              'Depth_to_Groundwater_P25']].mean(axis = 1)\n",
    "\n",
    "aquifer_petrignago_weekly_avg['Source'] = 'Petrignago'\n",
    "\n",
    "aquifer_petrignago_weekly_avg.drop(columns = ['Rainfall_Bastia_Umbra', 'Temperature_Bastia_Umbra', 'Temperature_Petrignano',\n",
    "    'Volume_C10_Petrignano', 'Hydrometry_Fiume_Chiascio_Petrignano', 'Depth_to_Groundwater_P24', 'Depth_to_Groundwater_P25'], inplace = True)"
   ]
  },
  {
   "cell_type": "code",
   "execution_count": null,
   "id": "efb6d104",
   "metadata": {},
   "outputs": [],
   "source": [
    "combine_aquifier_weekly_avg = pd.concat([aquifer_auser_weekly_avg, aquifer_doganella_weekly_avg, aquifer_luco_weekly_avg, aquifer_petrignago_weekly_avg])\n",
    "combine_aquifier_weekly_avg"
   ]
  },
  {
   "cell_type": "code",
   "execution_count": null,
   "id": "3634e6ce",
   "metadata": {},
   "outputs": [],
   "source": [
    "aquifier_weekly_avg = combine_aquifier_weekly_avg.groupby('Week').mean()\n",
    "aquifier_weekly_avg"
   ]
  },
  {
   "cell_type": "code",
   "execution_count": null,
   "id": "16a2a2a8",
   "metadata": {},
   "outputs": [],
   "source": [
    "groundwater_depth = pd.DataFrame()\n",
    "\n",
    "for i in range(1, 53):\n",
    "    groundwater_depth['Depth_' + str(i)] = aquifier_weekly_avg['mean_depth_groundwater'].shift(-i)\n",
    "    \n",
    "groundwater_depth = groundwater_depth.ffill()"
   ]
  },
  {
   "cell_type": "code",
   "execution_count": null,
   "id": "9973411a",
   "metadata": {},
   "outputs": [],
   "source": [
    "x = aquifier_weekly_avg[['mean_rainfall', 'mean_temperature']]"
   ]
  },
  {
   "cell_type": "code",
   "execution_count": null,
   "id": "b8ef2f81",
   "metadata": {},
   "outputs": [],
   "source": [
    "median_error = []\n",
    "\n",
    "for i in range(1, 53):\n",
    "    y = groundwater_depth['Depth_' + str(i)]\n",
    "    x_train, x_test, y_train, y_test = train_test_split(x, y, test_size = 0.25, random_state = 0)\n",
    "    rf = RandomForestRegressor()\n",
    "    model = rf.fit(x_train, y_train)\n",
    "    model_predict = model.predict(x_test)\n",
    "    error = median_absolute_error(y_test, model_predict)\n",
    "    median_error.append(error)"
   ]
  },
  {
   "cell_type": "code",
   "execution_count": null,
   "id": "cb5f64a5",
   "metadata": {},
   "outputs": [],
   "source": [
    "plt.title(\"Median Absolute Error: Groundwater Feature\")\n",
    "plt.xlabel('Week')\n",
    "plt.ylabel('Median Absolute Error')\n",
    "plt.plot(median_error)"
   ]
  },
  {
   "cell_type": "code",
   "execution_count": null,
   "id": "795ad1e4",
   "metadata": {},
   "outputs": [],
   "source": [
    "volume = pd.DataFrame()\n",
    "\n",
    "for i in range(1, 53):\n",
    "    volume['Volume_' + str(i)] = aquifier_weekly_avg['mean_volume'].shift(-i)\n",
    "    \n",
    "volume = volume.ffill()"
   ]
  },
  {
   "cell_type": "code",
   "execution_count": null,
   "id": "c85c10d2",
   "metadata": {},
   "outputs": [],
   "source": [
    "x = aquifier_weekly_avg[['mean_rainfall', 'mean_temperature']]"
   ]
  },
  {
   "cell_type": "code",
   "execution_count": null,
   "id": "7a5d8dee",
   "metadata": {},
   "outputs": [],
   "source": [
    "median_error = []\n",
    "\n",
    "for i in range(1, 53):\n",
    "    y = volume['Volume_' + str(i)]\n",
    "    x_train, x_test, y_train, y_test = train_test_split(x, y, test_size = 0.25, random_state = 0)\n",
    "    rf = RandomForestRegressor()\n",
    "    model = rf.fit(x_train, y_train)\n",
    "    model_predict = model.predict(x_test)\n",
    "    error = median_absolute_error(y_test, model_predict)\n",
    "    median_error.append(error)"
   ]
  },
  {
   "cell_type": "code",
   "execution_count": null,
   "id": "5a108159",
   "metadata": {},
   "outputs": [],
   "source": [
    "plt.title(\"Median Absolute Error: Volume Feature\")\n",
    "plt.xlabel('Week')\n",
    "plt.ylabel('Median Absolute Error')\n",
    "plt.plot(median_error)"
   ]
  },
  {
   "cell_type": "code",
   "execution_count": null,
   "id": "6fdb4ab7",
   "metadata": {},
   "outputs": [],
   "source": [
    "hydrometry = pd.DataFrame()\n",
    "\n",
    "for i in range(1, 53):\n",
    "    hydrometry['Hydrometry_' + str(i)] = aquifier_weekly_avg['mean_hydrometry'].shift(-i)\n",
    "    \n",
    "hydrometry = hydrometry.ffill()"
   ]
  },
  {
   "cell_type": "code",
   "execution_count": null,
   "id": "0eaef327",
   "metadata": {},
   "outputs": [],
   "source": [
    "x = aquifier_weekly_avg[['mean_rainfall', 'mean_temperature']]"
   ]
  },
  {
   "cell_type": "code",
   "execution_count": null,
   "id": "505e259f",
   "metadata": {},
   "outputs": [],
   "source": [
    "median_error = []\n",
    "\n",
    "for i in range(1, 53):\n",
    "    y = hydrometry['Hydrometry_' + str(i)]\n",
    "    x_train, x_test, y_train, y_test = train_test_split(x, y, test_size = 0.25, random_state = 0)\n",
    "    rf = RandomForestRegressor()\n",
    "    model = rf.fit(x_train, y_train)\n",
    "    model_predict = model.predict(x_test)\n",
    "    error = median_absolute_error(y_test, model_predict)\n",
    "    median_error.append(error)"
   ]
  },
  {
   "cell_type": "code",
   "execution_count": null,
   "id": "d07b832d",
   "metadata": {},
   "outputs": [],
   "source": [
    "plt.title(\"Median Absolute Error: Hydrometry Feature\")\n",
    "plt.xlabel('Week')\n",
    "plt.ylabel('Median Absolute Error')\n",
    "plt.plot(median_error)"
   ]
  },
  {
   "cell_type": "code",
   "execution_count": null,
   "id": "b81e5ceb",
   "metadata": {},
   "outputs": [],
   "source": [
    "aquifier_weekly_avg['actual_depth'] = aquifier_weekly_avg['mean_depth_groundwater'].shift(-8)\n",
    "aquifier_weekly_avg['actual_volume'] = aquifier_weekly_avg['mean_volume'].shift(-8)\n",
    "aquifier_weekly_avg['actual_hydrometry'] = aquifier_weekly_avg['mean_hydrometry'].shift(-8)\n",
    "aquifier_weekly_avg = aquifier_weekly_avg.ffill()\n",
    "aquifier_weekly_avg"
   ]
  },
  {
   "cell_type": "markdown",
   "id": "a88677a0",
   "metadata": {},
   "source": [
    "## Lake Bilancino"
   ]
  },
  {
   "cell_type": "code",
   "execution_count": null,
   "id": "eed26ab4",
   "metadata": {},
   "outputs": [],
   "source": [
    "lake_bilancino_weekly_avg = lake_bilancino.copy()\n",
    "lake_bilancino_weekly_avg['Week'] = pd.to_datetime(lake_bilancino['Date']).dt.week\n",
    "lake_bilancino_weekly_avg = lake_bilancino_weekly_avg.groupby('Week').mean()\n",
    "\n",
    "lake_bilancino_weekly_avg['mean_rainfall'] = lake_bilancino_weekly_avg[['Rainfall_S_Piero', 'Rainfall_Mangona', 'Rainfall_S_Agata',\n",
    "                                                            'Rainfall_Cavallina', 'Rainfall_Le_Croci']].mean(axis = 1)\n",
    "lake_bilancino_weekly_avg['mean_temperature'] = lake_bilancino_weekly_avg[['Temperature_Le_Croci']]\n",
    "lake_bilancino_weekly_avg['mean_lake_level'] = lake_bilancino_weekly_avg[['Lake_Level']]\n",
    "lake_bilancino_weekly_avg['mean_flow_rate'] = lake_bilancino_weekly_avg[['Flow_Rate']]\n",
    "\n",
    "lake_bilancino_weekly_avg = lake_bilancino_weekly_avg.drop(columns = ['Rainfall_S_Piero', 'Rainfall_Mangona',\n",
    "                                                                      'Rainfall_S_Agata', 'Rainfall_Cavallina',\n",
    "                                                                      'Rainfall_Le_Croci', 'Temperature_Le_Croci',\n",
    "                                                                      'Lake_Level', 'Flow_Rate'])"
   ]
  },
  {
   "cell_type": "code",
   "execution_count": null,
   "id": "8834bdbb",
   "metadata": {},
   "outputs": [],
   "source": [
    "flow_rate = pd.DataFrame()\n",
    "\n",
    "for i in range(1, 53):\n",
    "    flow_rate['Flow_Rate_' + str(i)] = lake_bilancino_weekly_avg['mean_flow_rate'].shift(-i)\n",
    "    \n",
    "flow_rate = flow_rate.ffill()"
   ]
  },
  {
   "cell_type": "code",
   "execution_count": null,
   "id": "d2007908",
   "metadata": {},
   "outputs": [],
   "source": [
    "x = lake_bilancino_weekly_avg[['mean_rainfall', 'mean_temperature']]"
   ]
  },
  {
   "cell_type": "code",
   "execution_count": null,
   "id": "e6871f6b",
   "metadata": {},
   "outputs": [],
   "source": [
    "median_error = []\n",
    "\n",
    "for i in range(1, 53):\n",
    "    y = flow_rate['Flow_Rate_' + str(i)]\n",
    "    x_train, x_test, y_train, y_test = train_test_split(x, y, test_size = 0.25, random_state = 0)\n",
    "    rf = RandomForestRegressor()\n",
    "    model = rf.fit(x_train, y_train)\n",
    "    model_predict = model.predict(x_test)\n",
    "    error = median_absolute_error(y_test, model_predict)\n",
    "    median_error.append(error)"
   ]
  },
  {
   "cell_type": "code",
   "execution_count": null,
   "id": "485ab82c",
   "metadata": {},
   "outputs": [],
   "source": [
    "plt.title(\"Median Absolute Error: Flow Rate Feature\")\n",
    "plt.xlabel('Week')\n",
    "plt.ylabel('Median Absolute Error')\n",
    "plt.plot(median_error)"
   ]
  },
  {
   "cell_type": "code",
   "execution_count": null,
   "id": "a167c040",
   "metadata": {},
   "outputs": [],
   "source": [
    "lake_level = pd.DataFrame()\n",
    "\n",
    "for i in range(1, 53):\n",
    "    lake_level['Lake_Level_' + str(i)] = lake_bilancino_weekly_avg['mean_lake_level'].shift(-i)\n",
    "    \n",
    "lake_level = lake_level.ffill()"
   ]
  },
  {
   "cell_type": "code",
   "execution_count": null,
   "id": "388da5a2",
   "metadata": {},
   "outputs": [],
   "source": [
    "x = lake_bilancino_weekly_avg[['mean_rainfall', 'mean_temperature']]"
   ]
  },
  {
   "cell_type": "code",
   "execution_count": null,
   "id": "405d3ecb",
   "metadata": {},
   "outputs": [],
   "source": [
    "median_error = []\n",
    "\n",
    "for i in range(1, 53):\n",
    "    y = lake_level['Lake_Level_' + str(i)]\n",
    "    x_train, x_test, y_train, y_test = train_test_split(x, y, test_size = 0.25, random_state = 0)\n",
    "    rf = RandomForestRegressor()\n",
    "    model = rf.fit(x_train, y_train)\n",
    "    model_predict = model.predict(x_test)\n",
    "    error = median_absolute_error(y_test, model_predict)\n",
    "    median_error.append(error)"
   ]
  },
  {
   "cell_type": "code",
   "execution_count": null,
   "id": "47acaf99",
   "metadata": {},
   "outputs": [],
   "source": [
    "plt.title(\"Median Absolute Error: Lake Level Feature\")\n",
    "plt.xlabel('Week')\n",
    "plt.ylabel('Median Absolute Error')\n",
    "plt.plot(median_error)"
   ]
  },
  {
   "cell_type": "code",
   "execution_count": null,
   "id": "c05000da",
   "metadata": {},
   "outputs": [],
   "source": [
    "lake_bilancino_weekly_avg['actual_flow_rate'] = lake_bilancino_weekly_avg['mean_flow_rate'].shift(-10)\n",
    "lake_bilancino_weekly_avg['actual_lake_level'] = lake_bilancino_weekly_avg['mean_lake_level'].shift(-10)\n",
    "lake_bilancino_weekly_avg = lake_bilancino_weekly_avg.ffill()"
   ]
  },
  {
   "cell_type": "markdown",
   "id": "8ab5af1f",
   "metadata": {},
   "source": [
    "## River Arno"
   ]
  },
  {
   "cell_type": "code",
   "execution_count": null,
   "id": "83e96320",
   "metadata": {},
   "outputs": [],
   "source": [
    "river_arno_weekly_avg = river_arno.copy()\n",
    "river_arno_weekly_avg['Week'] = pd.to_datetime(river_arno['Date']).dt.week\n",
    "river_arno_weekly_avg = river_arno_weekly_avg.groupby('Week').mean()\n",
    "\n",
    "river_arno_weekly_avg['mean_rainfall'] = river_arno_weekly_avg[['Rainfall_Le_Croci', 'Rainfall_Cavallina', 'Rainfall_S_Agata',\n",
    "       'Rainfall_Mangona', 'Rainfall_S_Piero', 'Rainfall_Vernio', 'Rainfall_Stia', 'Rainfall_Consuma', 'Rainfall_Incisa',\n",
    "       'Rainfall_Montevarchi', 'Rainfall_S_Savino', 'Rainfall_Laterina', 'Rainfall_Bibbiena',\n",
    "       'Rainfall_Camaldoli']].mean(axis = 1)\n",
    "river_arno_weekly_avg['mean_temperature'] = river_arno_weekly_avg[['Temperature_Firenze']]\n",
    "river_arno_weekly_avg['mean_hydrometry'] = river_arno_weekly_avg[['Hydrometry_Nave_di_Rosano']]\n",
    "\n",
    "river_arno_weekly_avg['Source'] = 'Arno'\n",
    "\n",
    "river_arno_weekly_avg"
   ]
  },
  {
   "cell_type": "code",
   "execution_count": null,
   "id": "af485d2c",
   "metadata": {},
   "outputs": [],
   "source": [
    "hydrometry = pd.DataFrame()\n",
    "\n",
    "for i in range(1, 53):\n",
    "    hydrometry['Hydrometry_' + str(i)] = river_arno_weekly_avg['mean_hydrometry'].shift(-i)\n",
    "    \n",
    "hydrometry = hydrometry.ffill()"
   ]
  },
  {
   "cell_type": "code",
   "execution_count": null,
   "id": "aff647c8",
   "metadata": {},
   "outputs": [],
   "source": [
    "x = river_arno_weekly_avg[['mean_rainfall', 'mean_temperature']]"
   ]
  },
  {
   "cell_type": "code",
   "execution_count": null,
   "id": "c7bacecd",
   "metadata": {},
   "outputs": [],
   "source": [
    "median_error = []\n",
    "\n",
    "for i in range(1, 53):\n",
    "    y = hydrometry['Hydrometry_' + str(i)]\n",
    "    x_train, x_test, y_train, y_test = train_test_split(x, y, test_size = 0.25, random_state = 0)\n",
    "    rf = RandomForestRegressor()\n",
    "    model = rf.fit(x_train, y_train)\n",
    "    model_predict = model.predict(x_test)\n",
    "    error = median_absolute_error(y_test, model_predict)\n",
    "    median_error.append(error)"
   ]
  },
  {
   "cell_type": "code",
   "execution_count": null,
   "id": "f74d29f9",
   "metadata": {},
   "outputs": [],
   "source": [
    "plt.title(\"Median Absolute Error: Hydrometry\")\n",
    "plt.xlabel('Week')\n",
    "plt.ylabel('Median Absolute Error')\n",
    "plt.plot(median_error)"
   ]
  },
  {
   "cell_type": "code",
   "execution_count": null,
   "id": "3ef1e5cc",
   "metadata": {},
   "outputs": [],
   "source": [
    "river_arno_weekly_avg['actual_hydrometry'] = river_arno_weekly_avg['mean_hydrometry'].shift(-9)\n",
    "river_arno_weekly_avg = river_arno_weekly_avg.ffill()\n",
    "river_arno_weekly_avg"
   ]
  },
  {
   "cell_type": "markdown",
   "id": "10eae7a3",
   "metadata": {},
   "source": [
    "## Water Spring Amiata "
   ]
  },
  {
   "cell_type": "code",
   "execution_count": null,
   "id": "5124abc0",
   "metadata": {},
   "outputs": [],
   "source": [
    "spring_amiata_weekly_avg = spring_amiata.copy()\n",
    "spring_amiata_weekly_avg['Week'] = pd.to_datetime(spring_amiata['Date']).dt.week.values\n",
    "spring_amiata_weekly_avg = spring_amiata_weekly_avg.groupby('Week').mean()\n",
    "\n",
    "spring_amiata_weekly_avg['mean_rainfall'] = spring_amiata[['Rainfall_Castel_del_Piano', 'Rainfall_Abbadia_S_Salvatore',\n",
    "       'Rainfall_S_Fiora', 'Rainfall_Laghetto_Verde', 'Rainfall_Vetta_Amiata']].mean(axis = 1)\n",
    "spring_amiata_weekly_avg['mean_temperature'] = spring_amiata[['Temperature_Abbadia_S_Salvatore', 'Temperature_S_Fiora',\n",
    "       'Temperature_Laghetto_Verde']].mean(axis = 1)\n",
    "spring_amiata_weekly_avg['mean_flow_rate'] = spring_amiata[['Flow_Rate_Bugnano', 'Flow_Rate_Arbure',\n",
    "       'Flow_Rate_Ermicciolo', 'Flow_Rate_Galleria_Alta']].mean(axis = 1)\n",
    "spring_amiata_weekly_avg['mean_depth_groundwater'] = spring_amiata[['Depth_to_Groundwater_S_Fiora_8',\n",
    "       'Depth_to_Groundwater_S_Fiora_11bis', 'Depth_to_Groundwater_David_Lazzaretti']].mean(axis = 1)\n",
    "\n",
    "spring_amiata_weekly_avg['Source'] = 'Amiata'"
   ]
  },
  {
   "cell_type": "markdown",
   "id": "95208e53",
   "metadata": {},
   "source": [
    "## Water Spring Lupa"
   ]
  },
  {
   "cell_type": "code",
   "execution_count": null,
   "id": "468c97c7",
   "metadata": {},
   "outputs": [],
   "source": [
    "spring_lupa_weekly_avg = spring_lupa.copy()\n",
    "spring_lupa_weekly_avg['Week'] = pd.to_datetime(spring_lupa['Date']).dt.week.values\n",
    "spring_lupa_weekly_avg = spring_lupa_weekly_avg.groupby('Week').mean()\n",
    "\n",
    "spring_lupa_weekly_avg['mean_rainfall'] = spring_lupa[['Rainfall_Terni']].mean(axis = 1)\n",
    "spring_lupa_weekly_avg['mean_flow_rate'] = spring_lupa[['Flow_Rate_Lupa']].mean(axis = 1)\n",
    "\n",
    "spring_lupa_weekly_avg['Source'] = 'Lupa'"
   ]
  },
  {
   "cell_type": "markdown",
   "id": "0677c56b",
   "metadata": {},
   "source": [
    "## Water Spring Madonna Di Canneto"
   ]
  },
  {
   "cell_type": "code",
   "execution_count": null,
   "id": "7c4d56d2",
   "metadata": {},
   "outputs": [],
   "source": [
    "spring_madonna_weekly_avg = spring_madonna.copy()\n",
    "spring_madonna_weekly_avg['Week'] = pd.to_datetime(spring_madonna['Date']).dt.week.values\n",
    "spring_madonna_weekly_avg = spring_madonna_weekly_avg.groupby('Week').mean()\n",
    "\n",
    "spring_madonna_weekly_avg['mean_rainfall'] = spring_madonna[['Rainfall_Settefrati']]\n",
    "spring_madonna_weekly_avg['mean_temperature'] = spring_madonna[['Temperature_Settefrati']]\n",
    "spring_madonna_weekly_avg['mean_flow_rate'] = spring_madonna[['Flow_Rate_Madonna_di_Canneto']]\n",
    "\n",
    "spring_madonna_weekly_avg['Source'] = 'Madonna'"
   ]
  },
  {
   "cell_type": "code",
   "execution_count": null,
   "id": "d83b677b",
   "metadata": {},
   "outputs": [],
   "source": [
    "combine_water_spring_weekly_avg = pd.concat([spring_amiata_weekly_avg, spring_lupa_weekly_avg, spring_madonna_weekly_avg])\n",
    "water_spring_weekly_avg = combine_water_spring_weekly_avg.groupby('Week').mean()\n",
    "water_spring_weekly_avg"
   ]
  },
  {
   "cell_type": "code",
   "execution_count": null,
   "id": "87ab7707",
   "metadata": {},
   "outputs": [],
   "source": [
    "water_spring_weekly_avg.info()"
   ]
  },
  {
   "cell_type": "code",
   "execution_count": null,
   "id": "c1221b8a",
   "metadata": {},
   "outputs": [],
   "source": [
    "groundwater_depth = pd.DataFrame()\n",
    "\n",
    "for i in range(1, 53):\n",
    "    groundwater_depth['Depth_' + str(i)] = water_spring_weekly_avg['mean_depth_groundwater'].shift(-i)\n",
    "    \n",
    "groundwater_depth = groundwater_depth.ffill()"
   ]
  },
  {
   "cell_type": "code",
   "execution_count": null,
   "id": "5f0374a5",
   "metadata": {},
   "outputs": [],
   "source": [
    "x = water_spring_weekly_avg[['mean_rainfall', 'mean_temperature']]"
   ]
  },
  {
   "cell_type": "code",
   "execution_count": null,
   "id": "651b4b30",
   "metadata": {},
   "outputs": [],
   "source": [
    "median_error = []\n",
    "\n",
    "for i in range(1, 53):\n",
    "    y = groundwater_depth['Depth_' + str(i)]\n",
    "    x_train, x_test, y_train, y_test = train_test_split(x, y, test_size = 0.25, random_state = 0)\n",
    "    rf = RandomForestRegressor()\n",
    "    model = rf.fit(x_train, y_train)\n",
    "    model_predict = model.predict(x_test)\n",
    "    error = median_absolute_error(y_test, model_predict)\n",
    "    median_error.append(error)"
   ]
  },
  {
   "cell_type": "code",
   "execution_count": null,
   "id": "21f911ba",
   "metadata": {},
   "outputs": [],
   "source": [
    "plt.title(\"Median Absolute Error: Groundwater Feature\")\n",
    "plt.xlabel('Week')\n",
    "plt.ylabel('Median Absolute Error')\n",
    "plt.plot(median_error)"
   ]
  },
  {
   "cell_type": "code",
   "execution_count": null,
   "id": "45bb6b3b",
   "metadata": {},
   "outputs": [],
   "source": [
    "flow_rate = pd.DataFrame()\n",
    "\n",
    "for i in range(1, 32):\n",
    "    flow_rate['Flow_Rate_' + str(i)] = water_spring_weekly_avg['mean_flow_rate'].shift(-i)\n",
    "    \n",
    "flow_rate = flow_rate.ffill()"
   ]
  },
  {
   "cell_type": "code",
   "execution_count": null,
   "id": "c4b53ec6",
   "metadata": {},
   "outputs": [],
   "source": [
    "x = water_spring_weekly_avg[['mean_rainfall', 'mean_temperature']]"
   ]
  },
  {
   "cell_type": "code",
   "execution_count": null,
   "id": "39c4a0d5",
   "metadata": {},
   "outputs": [],
   "source": [
    "median_error = []\n",
    "\n",
    "for i in range(1, 32):\n",
    "    y = flow_rate['Flow_Rate_' + str(i)]\n",
    "    x_train, x_test, y_train, y_test = train_test_split(x, y, test_size = 0.25, random_state = 0)\n",
    "    rf = RandomForestRegressor()\n",
    "    model = rf.fit(x_train, y_train)\n",
    "    model_predict = model.predict(x_test)\n",
    "    error = median_absolute_error(y_test, model_predict)\n",
    "    median_error.append(error)"
   ]
  },
  {
   "cell_type": "code",
   "execution_count": null,
   "id": "3796eda9",
   "metadata": {},
   "outputs": [],
   "source": [
    "plt.title(\"Median Absolute Error: Flow Rate Feature\")\n",
    "plt.xlabel('Day')\n",
    "plt.ylabel('Median Absolute Error')\n",
    "plt.plot(median_error)"
   ]
  },
  {
   "cell_type": "code",
   "execution_count": null,
   "id": "9a9074f8",
   "metadata": {},
   "outputs": [],
   "source": [
    "water_spring_weekly_avg['actual_depth'] = water_spring_weekly_avg['mean_depth_groundwater'].shift(-3)\n",
    "water_spring_weekly_avg['actual_flow_rate'] = water_spring_weekly_avg['mean_flow_rate'].shift(-3)\n",
    "water_spring_weekly_avg = water_spring_weekly_avg.ffill()\n",
    "water_spring_weekly_avg"
   ]
  },
  {
   "cell_type": "markdown",
   "id": "2bebd88e",
   "metadata": {},
   "source": [
    "# Monthly Average"
   ]
  },
  {
   "cell_type": "markdown",
   "id": "c34dba92",
   "metadata": {},
   "source": [
    "## Aquifer Auser"
   ]
  },
  {
   "cell_type": "code",
   "execution_count": null,
   "id": "da9822ad",
   "metadata": {},
   "outputs": [],
   "source": [
    "aquifer_auser_monthly_avg = pd.DataFrame()\n",
    "aquifer_auser_monthly_avg['Date'] = aquifer_auser['Date']\n",
    "\n",
    "aquifer_auser_monthly_avg['mean_rainfall'] = aquifer_auser[['Rainfall_Gallicano', 'Rainfall_Pontetetto',\n",
    "       'Rainfall_Monte_Serra', 'Rainfall_Orentano', 'Rainfall_Borgo_a_Mozzano',\n",
    "       'Rainfall_Piaggione', 'Rainfall_Calavorno', 'Rainfall_Croce_Arcana',\n",
    "       'Rainfall_Tereglio_Coreglia_Antelminelli',\n",
    "       'Rainfall_Fabbriche_di_Vallico']].mean(axis = 1)\n",
    "aquifer_auser_monthly_avg['mean_temperature'] = aquifer_auser[['Temperature_Orentano', 'Temperature_Monte_Serra',\n",
    "       'Temperature_Ponte_a_Moriano', 'Temperature_Lucca_Orto_Botanico']].mean(axis = 1)\n",
    "aquifer_auser_monthly_avg['mean_volume'] = aquifer_auser[['Volume_POL', 'Volume_CC1', 'Volume_CC2', 'Volume_CSA', 'Volume_CSAL']].mean(axis = 1)\n",
    "aquifer_auser_monthly_avg['mean_hydrometry'] = aquifer_auser[['Hydrometry_Monte_S_Quirico', 'Hydrometry_Piaggione']].mean(axis = 1)\n",
    "aquifer_auser_monthly_avg['mean_depth_groundwater'] = aquifer_auser[['Depth_to_Groundwater_SAL', 'Depth_to_Groundwater_CoS',\n",
    "                                                                   'Depth_to_Groundwater_LT2', 'Depth_to_Groundwater_PAG',\n",
    "                                                                   'Depth_to_Groundwater_DIEC']].mean(axis = 1)\n",
    "\n",
    "aquifer_auser_monthly_avg['Source'] = 'Auser'"
   ]
  },
  {
   "cell_type": "markdown",
   "id": "3dfea7e4",
   "metadata": {},
   "source": [
    " ## Aquifer Doganella "
   ]
  },
  {
   "cell_type": "code",
   "execution_count": null,
   "id": "da264446",
   "metadata": {},
   "outputs": [],
   "source": [
    "aquifer_doganella_monthly_avg = pd.DataFrame()\n",
    "aquifer_doganella_monthly_avg['Date'] = aquifer_doganella['Date']\n",
    "\n",
    "aquifer_doganella_monthly_avg['mean_rainfall'] = aquifer_doganella[['Rainfall_Monteporzio', 'Rainfall_Velletri']].mean(axis = 1)\n",
    "aquifer_doganella_monthly_avg['mean_temperature'] = aquifer_doganella[['Temperature_Monteporzio', 'Temperature_Velletri']].mean(axis = 1)\n",
    "aquifer_doganella_monthly_avg['mean_volume'] = aquifer_doganella[['Volume_Pozzo_1', 'Volume_Pozzo_2', 'Volume_Pozzo_3',\n",
    "                                                                'Volume_Pozzo_4', 'Volume_Pozzo_5+6', 'Volume_Pozzo_7',\n",
    "                                                                'Volume_Pozzo_8', 'Volume_Pozzo_9']].mean(axis = 1)\n",
    "aquifer_doganella_monthly_avg['mean_depth_groundwater'] = aquifer_doganella[['Depth_to_Groundwater_Pozzo_1', 'Depth_to_Groundwater_Pozzo_2',\n",
    "       'Depth_to_Groundwater_Pozzo_3', 'Depth_to_Groundwater_Pozzo_4',\n",
    "       'Depth_to_Groundwater_Pozzo_5', 'Depth_to_Groundwater_Pozzo_6',\n",
    "       'Depth_to_Groundwater_Pozzo_7', 'Depth_to_Groundwater_Pozzo_8',\n",
    "       'Depth_to_Groundwater_Pozzo_9']].mean(axis = 1)\n",
    "\n",
    "aquifer_doganella_monthly_avg['Source'] = 'Doganella'"
   ]
  },
  {
   "cell_type": "markdown",
   "id": "8b206537",
   "metadata": {},
   "source": [
    "## Aquifer Luco"
   ]
  },
  {
   "cell_type": "code",
   "execution_count": null,
   "id": "3b488919",
   "metadata": {},
   "outputs": [],
   "source": [
    "aquifer_luco_monthly_avg = pd.DataFrame()\n",
    "aquifer_luco_monthly_avg['Date'] = aquifer_luco['Date']\n",
    "\n",
    "aquifer_luco_monthly_avg['mean_rainfall'] = aquifer_luco[['Rainfall_Simignano', 'Rainfall_Siena_Poggio_al_Vento',\n",
    "       'Rainfall_Mensano', 'Rainfall_Montalcinello',\n",
    "       'Rainfall_Monticiano_la_Pineta', 'Rainfall_Sovicille',\n",
    "       'Rainfall_Ponte_Orgia', 'Rainfall_Scorgiano', 'Rainfall_Pentolina',\n",
    "       'Rainfall_Monteroni_Arbia_Biena']].mean(axis = 1)\n",
    "aquifer_luco_monthly_avg['mean_temperature'] = aquifer_luco[['Temperature_Siena_Poggio_al_Vento',\n",
    "       'Temperature_Mensano', 'Temperature_Pentolina',\n",
    "       'Temperature_Monteroni_Arbia_Biena']].mean(axis = 1)\n",
    "aquifer_luco_monthly_avg['mean_volume'] = aquifer_luco[['Volume_Pozzo_1', 'Volume_Pozzo_3',\n",
    "       'Volume_Pozzo_4']].mean(axis = 1)\n",
    "aquifer_luco_monthly_avg['mean_depth_groundwater'] = aquifer_luco[['Depth_to_Groundwater_Podere_Casetta',\n",
    "       'Depth_to_Groundwater_Pozzo_1', 'Depth_to_Groundwater_Pozzo_3',\n",
    "       'Depth_to_Groundwater_Pozzo_4']].mean(axis = 1)\n",
    "\n",
    "aquifer_luco_monthly_avg['Source'] = 'Luco'"
   ]
  },
  {
   "cell_type": "markdown",
   "id": "27e6eebd",
   "metadata": {},
   "source": [
    "## Aquifer Petrignago"
   ]
  },
  {
   "cell_type": "code",
   "execution_count": null,
   "id": "d5c736a5",
   "metadata": {},
   "outputs": [],
   "source": [
    "aquifer_petrignago_monthly_avg = pd.DataFrame()\n",
    "aquifer_petrignago_monthly_avg['Date'] = aquifer_petrignago['Date']\n",
    "\n",
    "aquifer_petrignago_monthly_avg['mean_rainfall'] = aquifer_petrignago[['Rainfall_Bastia_Umbra']].mean(axis = 1)\n",
    "aquifer_petrignago_monthly_avg['mean_temperature'] = aquifer_petrignago[['Temperature_Bastia_Umbra', 'Temperature_Petrignano']].mean(axis = 1)\n",
    "aquifer_petrignago_monthly_avg['mean_volume'] = aquifer_petrignago[['Volume_C10_Petrignano']].mean(axis = 1)\n",
    "aquifer_petrignago_monthly_avg['mean_hydrometry'] = aquifer_petrignago[['Hydrometry_Fiume_Chiascio_Petrignano']].mean(axis = 1)\n",
    "aquifer_petrignago_monthly_avg['mean_depth_groundwater'] = aquifer_petrignago[['Depth_to_Groundwater_P24', 'Depth_to_Groundwater_P25']].mean(axis = 1)\n",
    "\n",
    "aquifer_petrignago_monthly_avg['Source'] = 'Petrignago'"
   ]
  },
  {
   "cell_type": "code",
   "execution_count": null,
   "id": "ee5aa115",
   "metadata": {},
   "outputs": [],
   "source": [
    "combine_aquifier_monthly_avg = pd.concat([aquifer_auser_monthly_avg, aquifer_doganella_monthly_avg, aquifer_luco_monthly_avg, aquifer_petrignago_monthly_avg])"
   ]
  },
  {
   "cell_type": "code",
   "execution_count": null,
   "id": "294b0eb9",
   "metadata": {},
   "outputs": [],
   "source": [
    "combine_aquifier_monthly_avg['Month'] = pd.to_datetime(combine_aquifier_monthly_avg['Date']).dt.month\n",
    "aquifier_monthly_avg = combine_aquifier_monthly_avg.groupby('Month').mean()\n",
    "aquifier_monthly_avg"
   ]
  },
  {
   "cell_type": "code",
   "execution_count": null,
   "id": "ed68fd87",
   "metadata": {},
   "outputs": [],
   "source": [
    "groundwater_depth = pd.DataFrame()\n",
    "\n",
    "for i in range(1, 12):\n",
    "    groundwater_depth['Depth_' + str(i)] = aquifier_monthly_avg['mean_depth_groundwater'].shift(-i)\n",
    "    \n",
    "groundwater_depth = groundwater_depth.ffill()"
   ]
  },
  {
   "cell_type": "code",
   "execution_count": null,
   "id": "a4fecb95",
   "metadata": {},
   "outputs": [],
   "source": [
    "x = aquifier_monthly_avg[['mean_rainfall', 'mean_temperature']]"
   ]
  },
  {
   "cell_type": "code",
   "execution_count": null,
   "id": "2f4548ad",
   "metadata": {},
   "outputs": [],
   "source": [
    "median_error = []\n",
    "\n",
    "for i in range(1, 12):\n",
    "    y = groundwater_depth['Depth_' + str(i)]\n",
    "    x_train, x_test, y_train, y_test = train_test_split(x, y, test_size = 0.25, random_state = 0)\n",
    "    rf = RandomForestRegressor()\n",
    "    model = rf.fit(x_train, y_train)\n",
    "    model_predict = model.predict(x_test)\n",
    "    error = median_absolute_error(y_test, model_predict)\n",
    "    median_error.append(error)"
   ]
  },
  {
   "cell_type": "code",
   "execution_count": null,
   "id": "f33888e8",
   "metadata": {},
   "outputs": [],
   "source": [
    "plt.title(\"Median Absolute Error: Groundwater Feature\")\n",
    "plt.xlabel('Month')\n",
    "plt.ylabel('Median Absolute Error')\n",
    "plt.plot(median_error)"
   ]
  },
  {
   "cell_type": "code",
   "execution_count": null,
   "id": "6b90c04a",
   "metadata": {},
   "outputs": [],
   "source": [
    "volume = pd.DataFrame()\n",
    "\n",
    "for i in range(1, 12):\n",
    "    volume['Volume_' + str(i)] = aquifier_monthly_avg['mean_volume'].shift(-i)\n",
    "    \n",
    "volume = volume.ffill()"
   ]
  },
  {
   "cell_type": "code",
   "execution_count": null,
   "id": "fba722dd",
   "metadata": {},
   "outputs": [],
   "source": [
    "x = aquifier_monthly_avg[['mean_rainfall', 'mean_temperature']]"
   ]
  },
  {
   "cell_type": "code",
   "execution_count": null,
   "id": "d810bb5a",
   "metadata": {},
   "outputs": [],
   "source": [
    "median_error = []\n",
    "\n",
    "for i in range(1, 12):\n",
    "    y = volume['Volume_' + str(i)]\n",
    "    x_train, x_test, y_train, y_test = train_test_split(x, y, test_size = 0.25, random_state = 0)\n",
    "    rf = RandomForestRegressor()\n",
    "    model = rf.fit(x_train, y_train)\n",
    "    model_predict = model.predict(x_test)\n",
    "    error = median_absolute_error(y_test, model_predict)\n",
    "    median_error.append(error)"
   ]
  },
  {
   "cell_type": "code",
   "execution_count": null,
   "id": "f6d88851",
   "metadata": {},
   "outputs": [],
   "source": [
    "plt.title(\"Median Absolute Error: Volume Feature\")\n",
    "plt.xlabel('Month')\n",
    "plt.ylabel('Median Absolute Error')\n",
    "plt.plot(median_error)"
   ]
  },
  {
   "cell_type": "code",
   "execution_count": null,
   "id": "2cd4ad6e",
   "metadata": {},
   "outputs": [],
   "source": [
    "hydrometry = pd.DataFrame()\n",
    "\n",
    "for i in range(1, 12):\n",
    "    hydrometry['Hydrometry' + str(i)] = aquifier_monthly_avg['mean_hydrometry'].shift(-i)\n",
    "    \n",
    "hydrometry = hydrometry.ffill()"
   ]
  },
  {
   "cell_type": "code",
   "execution_count": null,
   "id": "865cb68f",
   "metadata": {},
   "outputs": [],
   "source": [
    "x = aquifier_monthly_avg[['mean_rainfall', 'mean_temperature']]"
   ]
  },
  {
   "cell_type": "code",
   "execution_count": null,
   "id": "51ce41e0",
   "metadata": {},
   "outputs": [],
   "source": [
    "median_error = []\n",
    "\n",
    "for i in range(1, 12):\n",
    "    y = hydrometry['Hydrometry' + str(i)]\n",
    "    x_train, x_test, y_train, y_test = train_test_split(x, y, test_size = 0.25, random_state = 0)\n",
    "    rf = RandomForestRegressor()\n",
    "    model = rf.fit(x_train, y_train)\n",
    "    model_predict = model.predict(x_test)\n",
    "    error = median_absolute_error(y_test, model_predict)\n",
    "    median_error.append(error)"
   ]
  },
  {
   "cell_type": "code",
   "execution_count": null,
   "id": "b78c5efe",
   "metadata": {},
   "outputs": [],
   "source": [
    "plt.title(\"Median Absolute Error: Hydrometry Feature\")\n",
    "plt.xlabel('Month')\n",
    "plt.ylabel('Median Absolute Error')\n",
    "plt.plot(median_error)"
   ]
  },
  {
   "cell_type": "code",
   "execution_count": null,
   "id": "2905f529",
   "metadata": {},
   "outputs": [],
   "source": [
    "aquifier_monthly_avg['actual_depth'] = aquifier_monthly_avg['mean_depth_groundwater'].shift(-3)\n",
    "aquifier_monthly_avg['actual_volume'] = aquifier_monthly_avg['mean_volume'].shift(-3)\n",
    "aquifier_monthly_avg['actual_hydrometry'] = aquifier_monthly_avg['mean_hydrometry'].shift(-3)\n",
    "aquifier_monthly_avg = aquifier_monthly_avg.ffill()\n",
    "aquifier_monthly_avg"
   ]
  },
  {
   "cell_type": "markdown",
   "id": "ee043f7f",
   "metadata": {},
   "source": [
    "## Lake Bilancino"
   ]
  },
  {
   "cell_type": "code",
   "execution_count": null,
   "id": "698a2aec",
   "metadata": {},
   "outputs": [],
   "source": [
    "lake_bilancino_monthly_avg = lake_bilancino.copy()\n",
    "lake_bilancino_monthly_avg['Month'] = pd.to_datetime(lake_bilancino['Date']).dt.month\n",
    "lake_bilancino_monthly_avg = lake_bilancino_monthly_avg.groupby('Month').mean()\n",
    "\n",
    "lake_bilancino_monthly_avg['mean_rainfall'] = lake_bilancino_monthly_avg[['Rainfall_S_Piero', 'Rainfall_Mangona', 'Rainfall_S_Agata',\n",
    "                                                            'Rainfall_Cavallina', 'Rainfall_Le_Croci']].mean(axis = 1)\n",
    "lake_bilancino_monthly_avg['mean_temperature'] = lake_bilancino_monthly_avg[['Temperature_Le_Croci']]\n",
    "lake_bilancino_monthly_avg['mean_lake_level'] = lake_bilancino_monthly_avg[['Lake_Level']]\n",
    "lake_bilancino_monthly_avg['mean_flow_rate'] = lake_bilancino_monthly_avg[['Flow_Rate']]\n",
    "\n",
    "lake_bilancino_monthly_avg = lake_bilancino_monthly_avg.drop(columns = ['Rainfall_S_Piero', 'Rainfall_Mangona',\n",
    "                                                                      'Rainfall_S_Agata', 'Rainfall_Cavallina',\n",
    "                                                                      'Rainfall_Le_Croci', 'Temperature_Le_Croci',\n",
    "                                                                      'Lake_Level', 'Flow_Rate'])"
   ]
  },
  {
   "cell_type": "code",
   "execution_count": null,
   "id": "3c7bc92d",
   "metadata": {},
   "outputs": [],
   "source": [
    "flow_rate = pd.DataFrame()\n",
    "\n",
    "for i in range(1, 12):\n",
    "    flow_rate['Flow_Rate_' + str(i)] = lake_bilancino_monthly_avg['mean_flow_rate'].shift(-i)\n",
    "    \n",
    "flow_rate = flow_rate.ffill()"
   ]
  },
  {
   "cell_type": "code",
   "execution_count": null,
   "id": "459f4fd3",
   "metadata": {},
   "outputs": [],
   "source": [
    "x = lake_bilancino_monthly_avg[['mean_rainfall', 'mean_temperature']]"
   ]
  },
  {
   "cell_type": "code",
   "execution_count": null,
   "id": "42652166",
   "metadata": {},
   "outputs": [],
   "source": [
    "median_error = []\n",
    "\n",
    "for i in range(1, 12):\n",
    "    y = flow_rate['Flow_Rate_' + str(i)]\n",
    "    x_train, x_test, y_train, y_test = train_test_split(x, y, test_size = 0.25, random_state = 0)\n",
    "    rf = RandomForestRegressor()\n",
    "    model = rf.fit(x_train, y_train)\n",
    "    model_predict = model.predict(x_test)\n",
    "    error = median_absolute_error(y_test, model_predict)\n",
    "    median_error.append(error)"
   ]
  },
  {
   "cell_type": "code",
   "execution_count": null,
   "id": "917b5288",
   "metadata": {},
   "outputs": [],
   "source": [
    "plt.title(\"Median Absolute Error: Flow Rate Feature\")\n",
    "plt.xlabel('Month')\n",
    "plt.ylabel('Median Absolute Error')\n",
    "plt.plot(median_error)"
   ]
  },
  {
   "cell_type": "code",
   "execution_count": null,
   "id": "e5ef377a",
   "metadata": {},
   "outputs": [],
   "source": [
    "lake_level = pd.DataFrame()\n",
    "\n",
    "for i in range(1, 12):\n",
    "    lake_level['Lake_Level_' + str(i)] = lake_bilancino_monthly_avg['mean_lake_level'].shift(-i)\n",
    "    \n",
    "lake_level = lake_level.ffill()"
   ]
  },
  {
   "cell_type": "code",
   "execution_count": null,
   "id": "2b28520a",
   "metadata": {},
   "outputs": [],
   "source": [
    "x = lake_bilancino_monthly_avg[['mean_rainfall', 'mean_temperature']]"
   ]
  },
  {
   "cell_type": "code",
   "execution_count": null,
   "id": "80d58b15",
   "metadata": {},
   "outputs": [],
   "source": [
    "median_error = []\n",
    "\n",
    "for i in range(1, 12):\n",
    "    y = lake_level['Lake_Level_' + str(i)]\n",
    "    x_train, x_test, y_train, y_test = train_test_split(x, y, test_size = 0.25, random_state = 0)\n",
    "    rf = RandomForestRegressor()\n",
    "    model = rf.fit(x_train, y_train)\n",
    "    model_predict = model.predict(x_test)\n",
    "    error = median_absolute_error(y_test, model_predict)\n",
    "    median_error.append(error)"
   ]
  },
  {
   "cell_type": "code",
   "execution_count": null,
   "id": "6e8f4944",
   "metadata": {},
   "outputs": [],
   "source": [
    "plt.title(\"Median Absolute Error: Lake Level Feature\")\n",
    "plt.xlabel('Month')\n",
    "plt.ylabel('Median Absolute Error')\n",
    "plt.plot(median_error)"
   ]
  },
  {
   "cell_type": "code",
   "execution_count": null,
   "id": "d096946e",
   "metadata": {},
   "outputs": [],
   "source": [
    "lake_bilancino_monthly_avg['actual_flow_rate'] = lake_bilancino_monthly_avg['mean_flow_rate'].shift(-2)\n",
    "lake_bilancino_monthly_avg['actual_lake_level'] = lake_bilancino_monthly_avg['mean_lake_level'].shift(-2)\n",
    "lake_bilancino_monthly_avg = lake_bilancino_monthly_avg.ffill()"
   ]
  },
  {
   "cell_type": "markdown",
   "id": "f1596aa1",
   "metadata": {},
   "source": [
    "## River Arno"
   ]
  },
  {
   "cell_type": "code",
   "execution_count": null,
   "id": "ef8bb6fc",
   "metadata": {},
   "outputs": [],
   "source": [
    "river_arno_monthly_avg = river_arno.copy()\n",
    "river_arno_monthly_avg['Month'] = pd.to_datetime(river_arno['Date']).dt.month\n",
    "river_arno_monthly_avg = river_arno_monthly_avg.groupby('Month').mean()\n",
    "\n",
    "river_arno_monthly_avg['mean_rainfall'] = river_arno_monthly_avg[['Rainfall_Le_Croci', 'Rainfall_Cavallina', 'Rainfall_S_Agata',\n",
    "       'Rainfall_Mangona', 'Rainfall_S_Piero', 'Rainfall_Vernio', 'Rainfall_Stia', 'Rainfall_Consuma', 'Rainfall_Incisa',\n",
    "       'Rainfall_Montevarchi', 'Rainfall_S_Savino', 'Rainfall_Laterina', 'Rainfall_Bibbiena',\n",
    "       'Rainfall_Camaldoli']].mean(axis = 1)\n",
    "river_arno_monthly_avg['mean_temperature'] = river_arno_monthly_avg[['Temperature_Firenze']]\n",
    "river_arno_monthly_avg['mean_hydrometry'] = river_arno_monthly_avg[['Hydrometry_Nave_di_Rosano']]\n",
    "\n",
    "river_arno_monthly_avg['Source'] = 'Arno'\n",
    "river_arno_monthly_avg"
   ]
  },
  {
   "cell_type": "code",
   "execution_count": null,
   "id": "97163738",
   "metadata": {},
   "outputs": [],
   "source": [
    "hydrometry = pd.DataFrame()\n",
    "\n",
    "for i in range(1, 12):\n",
    "    hydrometry['Hydrometry_' + str(i)] = river_arno_monthly_avg['mean_hydrometry'].shift(-i)\n",
    "    \n",
    "hydrometry = hydrometry.ffill()"
   ]
  },
  {
   "cell_type": "code",
   "execution_count": null,
   "id": "13ccfcd1",
   "metadata": {},
   "outputs": [],
   "source": [
    "x = river_arno_monthly_avg[['mean_rainfall', 'mean_temperature']]"
   ]
  },
  {
   "cell_type": "code",
   "execution_count": null,
   "id": "783d95b1",
   "metadata": {},
   "outputs": [],
   "source": [
    "median_error = []\n",
    "\n",
    "for i in range(1, 12):\n",
    "    y = hydrometry['Hydrometry_' + str(i)]\n",
    "    x_train, x_test, y_train, y_test = train_test_split(x, y, test_size = 0.25, random_state = 0)\n",
    "    rf = RandomForestRegressor()\n",
    "    model = rf.fit(x_train, y_train)\n",
    "    model_predict = model.predict(x_test)\n",
    "    error = median_absolute_error(y_test, model_predict)\n",
    "    median_error.append(error)"
   ]
  },
  {
   "cell_type": "code",
   "execution_count": null,
   "id": "7d600a9d",
   "metadata": {},
   "outputs": [],
   "source": [
    "plt.title(\"Median Absolute Error: Groundwater Feature\")\n",
    "plt.xlabel('Month')\n",
    "plt.ylabel('Median Absolute Error')\n",
    "plt.plot(median_error)"
   ]
  },
  {
   "cell_type": "code",
   "execution_count": null,
   "id": "d3ca1602",
   "metadata": {
    "scrolled": true
   },
   "outputs": [],
   "source": [
    "aquifier_monthly_avg['actual_hydrometry'] = aquifier_monthly_avg['mean_hydrometry'].shift(-1)\n",
    "aquifier_monthly_avg = aquifier_monthly_avg.ffill()\n",
    "aquifier_monthly_avg"
   ]
  },
  {
   "cell_type": "markdown",
   "id": "16fa668d",
   "metadata": {},
   "source": [
    "## Water Spring Amiata"
   ]
  },
  {
   "cell_type": "code",
   "execution_count": null,
   "id": "e4bb95d5",
   "metadata": {},
   "outputs": [],
   "source": [
    "spring_amiata_monthly_avg = spring_amiata.copy()\n",
    "spring_amiata_monthly_avg['Month'] = pd.to_datetime(spring_amiata['Date']).dt.month\n",
    "spring_amiata_monthly_avg = spring_amiata_monthly_avg.groupby('Month').mean()\n",
    "\n",
    "spring_amiata_monthly_avg['mean_rainfall'] = spring_amiata[['Rainfall_Castel_del_Piano', 'Rainfall_Abbadia_S_Salvatore',\n",
    "       'Rainfall_S_Fiora', 'Rainfall_Laghetto_Verde', 'Rainfall_Vetta_Amiata']].mean(axis = 1)\n",
    "spring_amiata_monthly_avg['mean_temperature'] = spring_amiata[['Temperature_Abbadia_S_Salvatore', 'Temperature_S_Fiora',\n",
    "       'Temperature_Laghetto_Verde']].mean(axis = 1)\n",
    "spring_amiata_monthly_avg['mean_depth_groundwater'] = spring_amiata[['Depth_to_Groundwater_S_Fiora_8',\n",
    "        'Depth_to_Groundwater_S_Fiora_11bis', 'Depth_to_Groundwater_David_Lazzaretti']].mean(axis = 1)\n",
    "spring_amiata_monthly_avg['mean_flow_rate'] = spring_amiata[['Flow_Rate_Bugnano', 'Flow_Rate_Arbure',\n",
    "                                                           'Flow_Rate_Ermicciolo', 'Flow_Rate_Galleria_Alta']].mean(axis = 1)\n",
    "\n",
    "spring_amiata_monthly_avg['Source'] = 'Amita'"
   ]
  },
  {
   "cell_type": "markdown",
   "id": "291fc509",
   "metadata": {},
   "source": [
    "## Water Spring Lupa"
   ]
  },
  {
   "cell_type": "code",
   "execution_count": null,
   "id": "18f9bf36",
   "metadata": {},
   "outputs": [],
   "source": [
    "spring_lupa_monthly_avg = spring_lupa.copy()\n",
    "spring_lupa_monthly_avg['Month'] = pd.to_datetime(spring_lupa['Date']).dt.month\n",
    "spring_lupa_monthly_avg = spring_lupa_monthly_avg.groupby('Month').mean()\n",
    "\n",
    "spring_lupa_monthly_avg['mean_rainfall'] = spring_lupa[['Rainfall_Terni']]\n",
    "spring_lupa_monthly_avg['mean_flow_rate'] = spring_lupa[['Flow_Rate_Lupa']]\n",
    "\n",
    "spring_lupa_monthly_avg['Source'] = 'Lupa'"
   ]
  },
  {
   "cell_type": "markdown",
   "id": "43ac5dc0",
   "metadata": {},
   "source": [
    "## Water Spring Madonna Di Canneto"
   ]
  },
  {
   "cell_type": "code",
   "execution_count": null,
   "id": "49fc40d5",
   "metadata": {},
   "outputs": [],
   "source": [
    "spring_madonna_monthly_avg = spring_madonna.copy()\n",
    "spring_madonna_monthly_avg['Month'] = pd.to_datetime(spring_madonna['Date']).dt.month\n",
    "spring_madonna_monthly_avg = spring_madonna_monthly_avg.groupby('Month').mean()\n",
    "\n",
    "spring_madonna_monthly_avg['mean_rainfall'] = spring_madonna[['Rainfall_Settefrati']]\n",
    "spring_madonna_monthly_avg['mean_temperature'] = spring_madonna[['Temperature_Settefrati']]\n",
    "spring_madonna_monthly_avg['mean_flow_rate'] = spring_madonna[['Flow_Rate_Madonna_di_Canneto']]\n",
    "\n",
    "spring_madonna_monthly_avg['Source'] = 'Madonna'\n",
    "\n",
    "spring_madonna_monthly_avg.drop(columns = ['Rainfall_Settefrati', 'Temperature_Settefrati',\n",
    "                                           'Flow_Rate_Madonna_di_Canneto'],inplace = True)"
   ]
  },
  {
   "cell_type": "code",
   "execution_count": null,
   "id": "6e8dc6d8",
   "metadata": {},
   "outputs": [],
   "source": [
    "combine_water_spring_monthly_avg = pd.concat([spring_amiata_monthly_avg, spring_lupa_monthly_avg, spring_madonna_monthly_avg])\n",
    "water_spring_monthly_avg = combine_water_spring_monthly_avg.groupby('Month').mean()\n",
    "water_spring_monthly_avg"
   ]
  },
  {
   "cell_type": "code",
   "execution_count": null,
   "id": "008a29ad",
   "metadata": {},
   "outputs": [],
   "source": [
    "water_spring_monthly_avg.info()"
   ]
  },
  {
   "cell_type": "code",
   "execution_count": null,
   "id": "19af8643",
   "metadata": {},
   "outputs": [],
   "source": [
    "groundwater_depth = pd.DataFrame()\n",
    "\n",
    "for i in range(1, 12):\n",
    "    groundwater_depth['Depth_' + str(i)] = water_spring_monthly_avg['mean_depth_groundwater'].shift(-i)\n",
    "    \n",
    "groundwater_depth = groundwater_depth.ffill()"
   ]
  },
  {
   "cell_type": "code",
   "execution_count": null,
   "id": "f4d541b6",
   "metadata": {},
   "outputs": [],
   "source": [
    "x = water_spring_monthly_avg[['mean_rainfall', 'mean_temperature']]"
   ]
  },
  {
   "cell_type": "code",
   "execution_count": null,
   "id": "da685709",
   "metadata": {},
   "outputs": [],
   "source": [
    "median_error = []\n",
    "\n",
    "for i in range(1, 12):\n",
    "    y = groundwater_depth['Depth_' + str(i)]\n",
    "    x_train, x_test, y_train, y_test = train_test_split(x, y, test_size = 0.25, random_state = 0)\n",
    "    rf = RandomForestRegressor()\n",
    "    model = rf.fit(x_train, y_train)\n",
    "    model_predict = model.predict(x_test)\n",
    "    error = median_absolute_error(y_test, model_predict)\n",
    "    median_error.append(error)"
   ]
  },
  {
   "cell_type": "code",
   "execution_count": null,
   "id": "9214c21b",
   "metadata": {},
   "outputs": [],
   "source": [
    "plt.title(\"Median Absolute Error: Groundwater Feature\")\n",
    "plt.xlabel('Month')\n",
    "plt.ylabel('Median Absolute Error')\n",
    "plt.plot(median_error)"
   ]
  },
  {
   "cell_type": "code",
   "execution_count": null,
   "id": "9aaeb0ec",
   "metadata": {},
   "outputs": [],
   "source": [
    "flow_rate = pd.DataFrame()\n",
    "\n",
    "for i in range(1, 12):\n",
    "    flow_rate['Flow_Rate_' + str(i)] = water_spring_monthly_avg['mean_flow_rate'].shift(-i)\n",
    "    \n",
    "flow_rate = flow_rate.ffill()"
   ]
  },
  {
   "cell_type": "code",
   "execution_count": null,
   "id": "de7b4a83",
   "metadata": {},
   "outputs": [],
   "source": [
    "x = water_spring_monthly_avg[['mean_rainfall', 'mean_temperature']]"
   ]
  },
  {
   "cell_type": "code",
   "execution_count": null,
   "id": "ccbad35d",
   "metadata": {},
   "outputs": [],
   "source": [
    "median_error = []\n",
    "\n",
    "for i in range(1, 12):\n",
    "    y = flow_rate['Flow_Rate_' + str(i)]\n",
    "    x_train, x_test, y_train, y_test = train_test_split(x, y, test_size = 0.25, random_state = 0)\n",
    "    rf = RandomForestRegressor()\n",
    "    model = rf.fit(x_train, y_train)\n",
    "    model_predict = model.predict(x_test)\n",
    "    error = median_absolute_error(y_test, model_predict)\n",
    "    median_error.append(error)"
   ]
  },
  {
   "cell_type": "code",
   "execution_count": null,
   "id": "535c71ae",
   "metadata": {},
   "outputs": [],
   "source": [
    "plt.title(\"Median Absolute Error: Groundwater Feature\")\n",
    "plt.xlabel('Month')\n",
    "plt.ylabel('Median Absolute Error')\n",
    "plt.plot(median_error)"
   ]
  },
  {
   "cell_type": "markdown",
   "id": "95b78eea",
   "metadata": {},
   "source": [
    "# Yearly Average"
   ]
  },
  {
   "cell_type": "markdown",
   "id": "513cb196",
   "metadata": {},
   "source": [
    "## Aquifer Auser"
   ]
  },
  {
   "cell_type": "code",
   "execution_count": null,
   "id": "192d8482",
   "metadata": {},
   "outputs": [],
   "source": [
    "aquifer_auser_yearly_avg = pd.DataFrame()\n",
    "aquifer_auser_yearly_avg['Date'] = aquifer_auser['Date']\n",
    "\n",
    "aquifer_auser_yearly_avg['mean_rainfall'] = aquifer_auser[['Rainfall_Gallicano', 'Rainfall_Pontetetto',\n",
    "       'Rainfall_Monte_Serra', 'Rainfall_Orentano', 'Rainfall_Borgo_a_Mozzano',\n",
    "       'Rainfall_Piaggione', 'Rainfall_Calavorno', 'Rainfall_Croce_Arcana',\n",
    "       'Rainfall_Tereglio_Coreglia_Antelminelli',\n",
    "       'Rainfall_Fabbriche_di_Vallico']].mean(axis = 1)\n",
    "aquifer_auser_yearly_avg['mean_temperature'] = aquifer_auser[['Temperature_Orentano', 'Temperature_Monte_Serra',\n",
    "       'Temperature_Ponte_a_Moriano', 'Temperature_Lucca_Orto_Botanico']].mean(axis = 1)\n",
    "aquifer_auser_yearly_avg['mean_volume'] = aquifer_auser[['Volume_POL', 'Volume_CC1', 'Volume_CC2', 'Volume_CSA', 'Volume_CSAL']].mean(axis = 1)\n",
    "aquifer_auser_yearly_avg['mean_hydrometry'] = aquifer_auser[['Hydrometry_Monte_S_Quirico', 'Hydrometry_Piaggione']].mean(axis = 1)\n",
    "aquifer_auser_yearly_avg['mean_depth_groundwater'] = aquifer_auser[['Depth_to_Groundwater_SAL', 'Depth_to_Groundwater_CoS',\n",
    "                                                                   'Depth_to_Groundwater_LT2', 'Depth_to_Groundwater_PAG',\n",
    "                                                                   'Depth_to_Groundwater_DIEC']].mean(axis = 1)\n",
    "\n",
    "aquifer_auser_yearly_avg['Source'] = 'Auser'"
   ]
  },
  {
   "cell_type": "markdown",
   "id": "381be470",
   "metadata": {},
   "source": [
    "## Aquifer Doganella"
   ]
  },
  {
   "cell_type": "code",
   "execution_count": null,
   "id": "c1c20b50",
   "metadata": {},
   "outputs": [],
   "source": [
    "aquifer_doganella_yearly_avg = pd.DataFrame()\n",
    "aquifer_doganella_yearly_avg['Date'] = aquifer_doganella['Date']\n",
    "\n",
    "aquifer_doganella_yearly_avg['mean_rainfall'] = aquifer_doganella[['Rainfall_Monteporzio', 'Rainfall_Velletri']].mean(axis = 1)\n",
    "aquifer_doganella_yearly_avg['mean_temperature'] = aquifer_doganella[['Temperature_Monteporzio', 'Temperature_Velletri']].mean(axis = 1)\n",
    "aquifer_doganella_yearly_avg['mean_volume'] = aquifer_doganella[['Volume_Pozzo_1', 'Volume_Pozzo_2', 'Volume_Pozzo_3',\n",
    "                                                                'Volume_Pozzo_4', 'Volume_Pozzo_5+6', 'Volume_Pozzo_7',\n",
    "                                                                'Volume_Pozzo_8', 'Volume_Pozzo_9']].mean(axis = 1)\n",
    "aquifer_doganella_yearly_avg['mean_depth_groundwater'] = aquifer_doganella[['Depth_to_Groundwater_Pozzo_1', 'Depth_to_Groundwater_Pozzo_2',\n",
    "       'Depth_to_Groundwater_Pozzo_3', 'Depth_to_Groundwater_Pozzo_4',\n",
    "       'Depth_to_Groundwater_Pozzo_5', 'Depth_to_Groundwater_Pozzo_6',\n",
    "       'Depth_to_Groundwater_Pozzo_7', 'Depth_to_Groundwater_Pozzo_8',\n",
    "       'Depth_to_Groundwater_Pozzo_9']].mean(axis = 1)\n",
    "\n",
    "aquifer_doganella_yearly_avg['Source'] = 'Doganella'"
   ]
  },
  {
   "cell_type": "markdown",
   "id": "11e3fe51",
   "metadata": {},
   "source": [
    "## Aquifer Luco"
   ]
  },
  {
   "cell_type": "code",
   "execution_count": null,
   "id": "9429ef41",
   "metadata": {},
   "outputs": [],
   "source": [
    "aquifer_luco_yearly_avg = pd.DataFrame()\n",
    "aquifer_luco_yearly_avg['Date'] = aquifer_luco['Date']\n",
    "\n",
    "aquifer_luco_yearly_avg['mean_rainfall'] = aquifer_luco[['Rainfall_Simignano', 'Rainfall_Siena_Poggio_al_Vento',\n",
    "       'Rainfall_Mensano', 'Rainfall_Montalcinello', 'Rainfall_Monticiano_la_Pineta', 'Rainfall_Sovicille',\n",
    "       'Rainfall_Ponte_Orgia', 'Rainfall_Scorgiano', 'Rainfall_Pentolina',\n",
    "       'Rainfall_Monteroni_Arbia_Biena']].mean(axis = 1)\n",
    "aquifer_luco_yearly_avg['mean_temperature'] = aquifer_luco[['Temperature_Siena_Poggio_al_Vento',\n",
    "       'Temperature_Mensano', 'Temperature_Pentolina',\n",
    "       'Temperature_Monteroni_Arbia_Biena']].mean(axis = 1)\n",
    "aquifer_luco_yearly_avg['mean_volume'] = aquifer_luco[['Volume_Pozzo_1', 'Volume_Pozzo_3', 'Volume_Pozzo_4']].mean(axis = 1)\n",
    "aquifer_luco_yearly_avg['mean_depth_groundwater'] = aquifer_luco[['Depth_to_Groundwater_Podere_Casetta',\n",
    "       'Depth_to_Groundwater_Pozzo_1', 'Depth_to_Groundwater_Pozzo_3',\n",
    "       'Depth_to_Groundwater_Pozzo_4']].mean(axis = 1)\n",
    "\n",
    "aquifer_luco_yearly_avg['Source'] = 'Luco'"
   ]
  },
  {
   "cell_type": "markdown",
   "id": "96c0af50",
   "metadata": {},
   "source": [
    "## Aquifer Petrignago"
   ]
  },
  {
   "cell_type": "code",
   "execution_count": null,
   "id": "3925988b",
   "metadata": {},
   "outputs": [],
   "source": [
    "aquifer_petrignago_yearly_avg = pd.DataFrame()\n",
    "aquifer_petrignago_yearly_avg['Date'] = aquifer_petrignago['Date']\n",
    "\n",
    "aquifer_petrignago_yearly_avg['mean_rainfall'] = aquifer_petrignago[['Rainfall_Bastia_Umbra']].mean(axis = 1)\n",
    "aquifer_petrignago_yearly_avg['mean_temperature'] = aquifer_petrignago[['Temperature_Bastia_Umbra', 'Temperature_Petrignano']].mean(axis = 1)\n",
    "aquifer_petrignago_yearly_avg['mean_volume'] = aquifer_petrignago[['Volume_C10_Petrignano']].mean(axis = 1)\n",
    "aquifer_petrignago_yearly_avg['mean_hydrometry'] = aquifer_petrignago[['Hydrometry_Fiume_Chiascio_Petrignano']].mean(axis = 1)\n",
    "aquifer_petrignago_yearly_avg['mean_depth_groundwater'] = aquifer_petrignago[['Depth_to_Groundwater_P24', 'Depth_to_Groundwater_P25']].mean(axis = 1)\n",
    "\n",
    "aquifer_petrignago_yearly_avg['Source'] = 'Petrignago'"
   ]
  },
  {
   "cell_type": "code",
   "execution_count": null,
   "id": "367f1919",
   "metadata": {},
   "outputs": [],
   "source": [
    "combine_aquifier_yearly_avg = pd.concat([aquifer_auser_yearly_avg, aquifer_doganella_yearly_avg, aquifer_luco_yearly_avg, aquifer_petrignago_yearly_avg])"
   ]
  },
  {
   "cell_type": "code",
   "execution_count": null,
   "id": "e6a8b22d",
   "metadata": {},
   "outputs": [],
   "source": [
    "combine_aquifier_yearly_avg['Year'] = pd.to_datetime(combine_aquifier_monthly_avg['Date']).dt.year\n",
    "aquifier_yearly_avg = combine_aquifier_yearly_avg.groupby('Year').mean()\n",
    "aquifier_yearly_avg"
   ]
  },
  {
   "cell_type": "code",
   "execution_count": null,
   "id": "f68531a5",
   "metadata": {},
   "outputs": [],
   "source": [
    "combine_aquifier_yearly_avg.describe()"
   ]
  },
  {
   "cell_type": "markdown",
   "id": "b55049a8",
   "metadata": {},
   "source": [
    "## Lake Bilancino"
   ]
  },
  {
   "cell_type": "code",
   "execution_count": null,
   "id": "aea2e794",
   "metadata": {},
   "outputs": [],
   "source": [
    "lake_bilancino_yearly_avg = lake_bilancino.copy()\n",
    "lake_bilancino_yearly_avg['Year'] = pd.to_datetime(lake_bilancino['Date']).dt.year\n",
    "lake_bilancino_yearly_avg = lake_bilancino_yearly_avg.groupby('Year').mean()\n",
    "\n",
    "lake_bilancino_yearly_avg['mean_rainfall'] = lake_bilancino_yearly_avg[['Rainfall_S_Piero', 'Rainfall_Mangona', 'Rainfall_S_Agata',\n",
    "                                                            'Rainfall_Cavallina', 'Rainfall_Le_Croci']].mean(axis = 1)\n",
    "lake_bilancino_yearly_avg['mean_temperature'] = lake_bilancino_yearly_avg[['Temperature_Le_Croci']]\n",
    "lake_bilancino_yearly_avg['mean_lake_level'] = lake_bilancino_yearly_avg[['Lake_Level']]\n",
    "lake_bilancino_yearly_avg['mean_flow_rate'] = lake_bilancino_yearly_avg[['Flow_Rate']]\n",
    "\n",
    "lake_bilancino_yearly_avg = lake_bilancino_yearly_avg.drop(columns = ['Rainfall_S_Piero', 'Rainfall_Mangona',\n",
    "                                                                      'Rainfall_S_Agata', 'Rainfall_Cavallina',\n",
    "                                                                      'Rainfall_Le_Croci', 'Temperature_Le_Croci',\n",
    "                                                                      'Lake_Level', 'Flow_Rate'])"
   ]
  },
  {
   "cell_type": "code",
   "execution_count": null,
   "id": "c2f33909",
   "metadata": {},
   "outputs": [],
   "source": [
    "lake_bilancino_yearly_avg.describe()"
   ]
  },
  {
   "cell_type": "markdown",
   "id": "c377d438",
   "metadata": {},
   "source": [
    "## River Arno"
   ]
  },
  {
   "cell_type": "code",
   "execution_count": null,
   "id": "5c95e163",
   "metadata": {},
   "outputs": [],
   "source": [
    "river_arno_yearly_avg = river_arno.copy()\n",
    "river_arno_yearly_avg['Year'] = pd.to_datetime(river_arno['Date']).dt.year\n",
    "river_arno_yearly_avg = river_arno_yearly_avg.groupby('Year').mean()\n",
    "\n",
    "river_arno_yearly_avg['mean_rainfall'] = river_arno_yearly_avg[['Rainfall_Le_Croci', 'Rainfall_Cavallina', 'Rainfall_S_Agata',\n",
    "       'Rainfall_Mangona', 'Rainfall_S_Piero', 'Rainfall_Vernio', 'Rainfall_Stia', 'Rainfall_Consuma', 'Rainfall_Incisa',\n",
    "       'Rainfall_Montevarchi', 'Rainfall_S_Savino', 'Rainfall_Laterina', 'Rainfall_Bibbiena',\n",
    "       'Rainfall_Camaldoli']].mean(axis = 1)\n",
    "river_arno_yearly_avg['mean_temperature'] = river_arno_yearly_avg[['Temperature_Firenze']]\n",
    "river_arno_yearly_avg['mean_hydrometry'] = river_arno_yearly_avg[['Hydrometry_Nave_di_Rosano']]\n",
    "\n",
    "river_arno_yearly_avg['Source'] = 'Arno'"
   ]
  },
  {
   "cell_type": "code",
   "execution_count": null,
   "id": "4b4f15d7",
   "metadata": {},
   "outputs": [],
   "source": [
    "river_arno_yearly_avg.describe()"
   ]
  },
  {
   "cell_type": "markdown",
   "id": "8de84213",
   "metadata": {},
   "source": [
    "## Water Spring Amiata"
   ]
  },
  {
   "cell_type": "code",
   "execution_count": null,
   "id": "61699798",
   "metadata": {},
   "outputs": [],
   "source": [
    "spring_amiata_yearly_avg = spring_amiata.copy()\n",
    "spring_amiata_yearly_avg['Year'] = pd.to_datetime(spring_amiata['Date']).dt.year\n",
    "spring_amiata_yearly_avg = spring_amiata_yearly_avg.groupby('Year').mean()\n",
    "\n",
    "spring_amiata_yearly_avg['mean_rainfall'] = spring_amiata[['Rainfall_Castel_del_Piano', 'Rainfall_Abbadia_S_Salvatore',\n",
    "       'Rainfall_S_Fiora', 'Rainfall_Laghetto_Verde', 'Rainfall_Vetta_Amiata']].mean(axis = 1)\n",
    "spring_amiata_yearly_avg['mean_temperature'] = spring_amiata[['Temperature_Abbadia_S_Salvatore', 'Temperature_S_Fiora',\n",
    "       'Temperature_Laghetto_Verde']].mean(axis = 1)\n",
    "spring_amiata_yearly_avg['mean_depth_groundwater'] = spring_amiata[['Depth_to_Groundwater_S_Fiora_8',\n",
    "       'Depth_to_Groundwater_S_Fiora_11bis', 'Depth_to_Groundwater_David_Lazzaretti']].mean(axis = 1)\n",
    "spring_amiata_yearly_avg['mean_flow_rate'] = spring_amiata[['Flow_Rate_Bugnano', 'Flow_Rate_Arbure',\n",
    "       'Flow_Rate_Ermicciolo', 'Flow_Rate_Galleria_Alta']].mean(axis = 1)"
   ]
  },
  {
   "cell_type": "markdown",
   "id": "209ac7ad",
   "metadata": {},
   "source": [
    "## Water Spring Lupa"
   ]
  },
  {
   "cell_type": "code",
   "execution_count": null,
   "id": "a99353e5",
   "metadata": {},
   "outputs": [],
   "source": [
    "spring_lupa_yearly_avg = spring_lupa.copy()\n",
    "spring_lupa_yearly_avg['Year'] = pd.to_datetime(spring_lupa['Date']).dt.year\n",
    "spring_lupa_yearly_avg = spring_lupa_yearly_avg.groupby('Year').mean()\n",
    "\n",
    "spring_lupa_yearly_avg['mean_rainfall'] = spring_lupa[['Rainfall_Terni']]\n",
    "spring_lupa_yearly_avg['mean_flow_rate'] = spring_lupa[['Flow_Rate_Lupa']]"
   ]
  },
  {
   "cell_type": "markdown",
   "id": "fc22c51c",
   "metadata": {},
   "source": [
    "## Water Spring Madonna Di Canneto"
   ]
  },
  {
   "cell_type": "code",
   "execution_count": null,
   "id": "5018d17a",
   "metadata": {},
   "outputs": [],
   "source": [
    "spring_madonna_yearly_avg = spring_madonna.copy()\n",
    "spring_madonna_yearly_avg['Year'] = pd.to_datetime(spring_madonna['Date']).dt.year\n",
    "spring_madonna_yearly_avg = spring_madonna_yearly_avg.groupby('Year').mean()\n",
    "\n",
    "spring_madonna_yearly_avg['mean_rainfall'] = spring_madonna[['Rainfall_Settefrati']]\n",
    "spring_madonna_yearly_avg['mean_temperature'] = spring_madonna[['Temperature_Settefrati']]\n",
    "spring_madonna_yearly_avg['mean_flow_rate'] = spring_madonna[['Flow_Rate_Madonna_di_Canneto']]"
   ]
  },
  {
   "cell_type": "code",
   "execution_count": null,
   "id": "ce695671",
   "metadata": {},
   "outputs": [],
   "source": [
    "combine_water_spring_yearly_avg = pd.concat([spring_amiata_yearly_avg, spring_lupa_yearly_avg, spring_amiata_yearly_avg])\n",
    "water_spring_yearly_avg = combine_water_spring_yearly_avg.groupby('Year').mean()\n",
    "water_spring_yearly_avg"
   ]
  },
  {
   "cell_type": "code",
   "execution_count": null,
   "id": "c33a64f6",
   "metadata": {},
   "outputs": [],
   "source": [
    "water_spring_yearly_avg.info()"
   ]
  },
  {
   "cell_type": "markdown",
   "id": "fe57e6a7",
   "metadata": {},
   "source": [
    "## Feature Dataset Arrangement"
   ]
  },
  {
   "cell_type": "code",
   "execution_count": null,
   "id": "e6173ac0",
   "metadata": {},
   "outputs": [],
   "source": [
    "lake_bilancino_daily_avg['actual_lake_level'] = lake_bilancino_daily_avg['mean_lake_level'].shift(-60)\n",
    "lake_bilancino_daily_avg['actual_flow_rate'] = lake_bilancino_daily_avg['mean_flow_rate'].shift(-60)\n",
    "lake_bilancino_daily_avg = lake_bilancino_daily_avg.ffill()\n",
    "lake_bilancino_daily_avg"
   ]
  },
  {
   "cell_type": "code",
   "execution_count": null,
   "id": "a6df446e",
   "metadata": {},
   "outputs": [],
   "source": [
    "aquifier_daily_avg['actual_depth'] = aquifier_daily_avg['mean_depth_groundwater'].shift(-56)\n",
    "aquifier_daily_avg['actual_volume'] = aquifier_daily_avg['mean_volume'].shift(-56)\n",
    "aquifier_daily_avg['actual_hydrometry'] = aquifier_daily_avg['mean_hydrometry'].shift(-56)\n",
    "aquifier_daily_avg = aquifier_daily_avg.ffill()\n",
    "aquifier_daily_avg = aquifier_daily_avg.drop(['mean_depth_groundwater', 'mean_volume', 'mean_hydrometry'], axis = 1)\n",
    "aquifier_daily_avg['Date'] = aquifier_daily_avg.index\n",
    "aquifier_daily_avg"
   ]
  },
  {
   "cell_type": "code",
   "execution_count": null,
   "id": "41e3400d",
   "metadata": {},
   "outputs": [],
   "source": [
    "river_daily_avg['actual_hydrometry'] = river_daily_avg['mean_hydrometry'].shift(-30)\n",
    "river_daily_avg = river_daily_avg.ffill()\n",
    "river_daily_avg = river_daily_avg.drop(['mean_hydrometry'], axis = 1)\n",
    "river_daily_avg['Date'] = river_daily_avg.index\n",
    "river_daily_avg"
   ]
  },
  {
   "cell_type": "code",
   "execution_count": null,
   "id": "02d429af",
   "metadata": {},
   "outputs": [],
   "source": [
    "water_spring_daily_avg['actual_depth'] = water_spring_daily_avg['mean_depth_groundwater'].shift(-21)\n",
    "water_spring_daily_avg['actual_flow_rate'] = water_spring_daily_avg['mean_flow_rate'].shift(-21)\n",
    "water_spring_daily_avg = water_spring_daily_avg.ffill()\n",
    "water_spring_daily_avg = water_spring_daily_avg.drop(['mean_depth_groundwater', 'mean_flow_rate'], axis = 1)\n",
    "water_spring_daily_avg['Date'] = water_spring_daily_avg.index\n",
    "water_spring_daily_avg"
   ]
  },
  {
   "cell_type": "code",
   "execution_count": null,
   "id": "e6060ed7",
   "metadata": {},
   "outputs": [],
   "source": [
    "aquifier_daily_avg.to_csv('Feature Analysis/aquifier.csv', index = False)\n",
    "lake_bilancino_daily_avg.to_csv('Feature Analysis/lake.csv', index = False)\n",
    "river_daily_avg.to_csv('Feature Analysis/river.csv', index = False)\n",
    "water_spring_daily_avg.to_csv('Feature Analysis/water_spring.csv', index = False)"
   ]
  },
  {
   "cell_type": "code",
   "execution_count": null,
   "id": "770e907f",
   "metadata": {},
   "outputs": [],
   "source": []
  }
 ],
 "metadata": {
  "kernelspec": {
   "display_name": "Python 3 (ipykernel)",
   "language": "python",
   "name": "python3"
  },
  "language_info": {
   "codemirror_mode": {
    "name": "ipython",
    "version": 3
   },
   "file_extension": ".py",
   "mimetype": "text/x-python",
   "name": "python",
   "nbconvert_exporter": "python",
   "pygments_lexer": "ipython3",
   "version": "3.9.7"
  }
 },
 "nbformat": 4,
 "nbformat_minor": 5
}
