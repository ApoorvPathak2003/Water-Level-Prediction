{
 "cells": [
  {
   "cell_type": "code",
   "execution_count": null,
   "id": "8269ac7b",
   "metadata": {},
   "outputs": [],
   "source": [
    "import pandas as pd\n",
    "import numpy as np\n",
    "import matplotlib.pyplot as plt\n",
    "import seaborn as sns"
   ]
  },
  {
   "cell_type": "code",
   "execution_count": null,
   "id": "a969045b",
   "metadata": {},
   "outputs": [],
   "source": [
    "aquifer_auser = pd.read_csv(\"Aquifer Dataset\\Aquifer_Auser.csv\")\n",
    "aquifer_doganella = pd.read_csv(\"Aquifer Dataset\\Aquifer_Doganella.csv\")\n",
    "aquifer_luco = pd.read_csv(\"Aquifer Dataset\\Aquifer_Luco.csv\")\n",
    "aquifer_petrignano = pd.read_csv(\"Aquifer Dataset\\Aquifer_Petrignano.csv\")\n",
    "lake_bilancino = pd.read_csv(\"Lake Dataset\\Lake_Bilancino.csv\")\n",
    "river_arno = pd.read_csv(\"River Dataset\\River_Arno.csv\")\n",
    "water_spring_amiata = pd.read_csv(\"Water Spring Dataset\\Water_Spring_Amiata.csv\")\n",
    "water_spring_lupa = pd.read_csv(\"Water Spring Dataset\\Water_Spring_Lupa.csv\")\n",
    "water_spring_madonna_di_canneto = pd.read_csv(\"Water Spring Dataset\\Water_Spring_Madonna_di_Canneto.csv\")"
   ]
  },
  {
   "cell_type": "code",
   "execution_count": null,
   "id": "7603c111",
   "metadata": {},
   "outputs": [],
   "source": [
    "water_body_datasets = [aquifer_auser, aquifer_doganella, aquifer_luco, aquifer_petrignano, lake_bilancino, river_arno, water_spring_amiata, water_spring_lupa, water_spring_madonna_di_canneto]\n",
    "water_body_names = ['Aquifer_Auser', 'Aquifer_Doganella', 'Aquifer_Luco', 'Aquifer_Petrignano', 'Lake_Bilancino', 'River_Arno', 'Water_Spring_Amiata', 'Water_Spring_Lupa', 'Water_Spring_Madonna_di_Canneto']"
   ]
  },
  {
   "cell_type": "code",
   "execution_count": null,
   "id": "183e4987",
   "metadata": {},
   "outputs": [],
   "source": [
    "for wb in range(9):\n",
    "    missing_count = water_body_datasets[wb].isnull().sum()\n",
    "    missing_percent = (missing_count / len(water_body_datasets[wb])) * 100\n",
    "    \n",
    "    missing_dataframe = pd.DataFrame(missing_count, missing_percent)\n",
    "    \n",
    "    print('*' * 50, water_body_names[wb].upper(), '*' * 50)\n",
    "    \n",
    "    if(len(water_body_datasets[wb].columns) > 5):\n",
    "        plt.figure(figsize=(15,15))\n",
    "    \n",
    "    sns.barplot(x = missing_percent, y = missing_count.index, data = missing_dataframe)\n",
    "    \n",
    "    plt.title('Missing Values')\n",
    "    plt.xlabel('Missing Percent')\n",
    "    plt.ylabel('Features')\n",
    "    plt.show()"
   ]
  },
  {
   "cell_type": "code",
   "execution_count": null,
   "id": "d03fc78a",
   "metadata": {},
   "outputs": [],
   "source": [
    "for wb in range(9):\n",
    "    print('*' * 50, water_body_names[wb].upper(), '*' * 50)\n",
    "    if(len(water_body_datasets[wb].columns) > 8):\n",
    "        plt.figure(figsize=(15,15))\n",
    "    sns.heatmap(water_body_datasets[wb].corr(), annot = True, fmt = '.2f', vmin = -1, vmax = 1, square = True)\n",
    "    plt.show()"
   ]
  },
  {
   "cell_type": "code",
   "execution_count": null,
   "id": "a62793c7",
   "metadata": {},
   "outputs": [],
   "source": [
    "for wb in range(9):\n",
    "    print('*' * 50, water_body_names[wb].upper(), '*' * 50)\n",
    "    \n",
    "    water_body_dataset = water_body_datasets[wb].drop(['Date'], axis = 1)\n",
    "    \n",
    "    for i in water_body_dataset.columns:\n",
    "        fig, axes = plt.subplots(1, 1, figsize = (8, 8))\n",
    "        fig.suptitle('Boxplot for outlier detection: ' + i)\n",
    "        sns.boxplot(water_body_dataset[i], ax = axes)\n",
    "        axes.set_title('Boxplot')\n",
    "        plt.show()"
   ]
  },
  {
   "cell_type": "markdown",
   "id": "df95f30b",
   "metadata": {},
   "source": [
    "## Aquifer Auser"
   ]
  },
  {
   "cell_type": "code",
   "execution_count": null,
   "id": "4f276180",
   "metadata": {},
   "outputs": [],
   "source": [
    "fig, axes = plt.subplots(5, 2, figsize = (18, 8))\n",
    "fig.suptitle('Rainfall Feature in Aquifer Auser')\n",
    "\n",
    "sns.lineplot(x = pd.to_datetime(aquifer_auser['Date']), y = aquifer_auser['Rainfall_Gallicano'].replace({np.nan: np.inf}), label = 'Rainfall_Gallicano',ax = axes[0][0])\n",
    "sns.lineplot(x = pd.to_datetime(aquifer_auser['Date']), y = aquifer_auser['Rainfall_Pontetetto'].replace({np.nan: np.inf}), label = 'Rainfall_Pontetetto',ax = axes[0][1])\n",
    "sns.lineplot(x = pd.to_datetime(aquifer_auser['Date']), y = aquifer_auser['Rainfall_Monte_Serra'].replace({np.nan: np.inf}), label = 'Rainfall_Monte_Serra',ax = axes[1][0])\n",
    "sns.lineplot(x = pd.to_datetime(aquifer_auser['Date']), y = aquifer_auser['Rainfall_Orentano'].replace({np.nan: np.inf}), label = 'Rainfall_Orentano',ax = axes[1][1])\n",
    "sns.lineplot(x = pd.to_datetime(aquifer_auser['Date']), y = aquifer_auser['Rainfall_Borgo_a_Mozzano'].replace({np.nan: np.inf}), label = 'Rainfall_Borgo_a_Mozzano',ax = axes[2][0])\n",
    "sns.lineplot(x = pd.to_datetime(aquifer_auser['Date']), y = aquifer_auser['Rainfall_Piaggione'].replace({np.nan: np.inf}), label = 'Rainfall_Piaggione',ax = axes[2][1])\n",
    "sns.lineplot(x = pd.to_datetime(aquifer_auser['Date']), y = aquifer_auser['Rainfall_Calavorno'].replace({np.nan: np.inf}), label = 'Rainfall_Calavorno',ax = axes[3][0])\n",
    "sns.lineplot(x = pd.to_datetime(aquifer_auser['Date']), y = aquifer_auser['Rainfall_Croce_Arcana'].replace({np.nan: np.inf}), label = 'Rainfall_Croce_Arcana',ax = axes[3][1])\n",
    "sns.lineplot(x = pd.to_datetime(aquifer_auser['Date']), y = aquifer_auser['Rainfall_Tereglio_Coreglia_Antelminelli'].replace({np.nan: np.inf}), label = 'Rainfall_Tereglio_Coreglia_Antelminelli',ax = axes[4][0])\n",
    "sns.lineplot(x = pd.to_datetime(aquifer_auser['Date']), y = aquifer_auser['Rainfall_Fabbriche_di_Vallico'].replace({np.nan: np.inf}), label = 'Rainfall_Fabbriche_di_Vallico',ax = axes[4][1])\n",
    "\n",
    "plt.show()"
   ]
  },
  {
   "cell_type": "code",
   "execution_count": null,
   "id": "627a42e4",
   "metadata": {},
   "outputs": [],
   "source": [
    "fig, axes = plt.subplots(2, 2, figsize = (18, 8))\n",
    "fig.suptitle('Temperature Feature in Aquifer Auser')\n",
    "\n",
    "sns.lineplot(x = pd.to_datetime(aquifer_auser['Date']), y = aquifer_auser['Temperature_Orentano'].replace({np.nan: np.inf}), label = 'Temperature_Orentano',ax = axes[0][0])\n",
    "sns.lineplot(x = pd.to_datetime(aquifer_auser['Date']), y = aquifer_auser['Temperature_Monte_Serra'].replace({np.nan: np.inf}), label = 'Temperature_Monte_Serra',ax = axes[0][1])\n",
    "sns.lineplot(x = pd.to_datetime(aquifer_auser['Date']), y = aquifer_auser['Temperature_Ponte_a_Moriano'].replace({np.nan: np.inf}), label = 'Temperature_Ponte_a_Moriano',ax = axes[1][0])\n",
    "sns.lineplot(x = pd.to_datetime(aquifer_auser['Date']), y = aquifer_auser['Temperature_Lucca_Orto_Botanico'].replace({np.nan: np.inf}), label = 'Temperature_Lucca_Orto_Botanico',ax = axes[1][1])\n",
    "\n",
    "plt.show()"
   ]
  },
  {
   "cell_type": "code",
   "execution_count": null,
   "id": "a8c7d158",
   "metadata": {},
   "outputs": [],
   "source": [
    "fig, axes = plt.subplots(3, 2, figsize = (18, 8))\n",
    "fig.suptitle('Volume Feature in Aquifer Auser')\n",
    "\n",
    "sns.lineplot(x = pd.to_datetime(aquifer_auser['Date']), y = aquifer_auser['Volume_POL'].replace({np.nan: np.inf}), label = 'Volume_POL',ax = axes[0][0])\n",
    "sns.lineplot(x = pd.to_datetime(aquifer_auser['Date']), y = aquifer_auser['Volume_CC1'].replace({np.nan: np.inf}), label = 'Volume_CC1',ax = axes[0][1])\n",
    "sns.lineplot(x = pd.to_datetime(aquifer_auser['Date']), y = aquifer_auser['Volume_CC2'].replace({np.nan: np.inf}), label = 'Volume_CC2',ax = axes[1][0])\n",
    "sns.lineplot(x = pd.to_datetime(aquifer_auser['Date']), y = aquifer_auser['Volume_CSA'].replace({np.nan: np.inf}), label = 'Volume_CSA',ax = axes[1][1])\n",
    "sns.lineplot(x = pd.to_datetime(aquifer_auser['Date']), y = aquifer_auser['Volume_CSAL'].replace({np.nan: np.inf}), label = 'Volume_CSAL',ax = axes[2][0])\n",
    "\n",
    "plt.show()"
   ]
  },
  {
   "cell_type": "code",
   "execution_count": null,
   "id": "4247d984",
   "metadata": {},
   "outputs": [],
   "source": [
    "fig, axes = plt.subplots(1, 2, figsize = (18, 8))\n",
    "fig.suptitle('Hydrometry Feature in Aquifer Auser')\n",
    "\n",
    "sns.lineplot(x = pd.to_datetime(aquifer_auser['Date']), y = aquifer_auser['Hydrometry_Monte_S_Quirico'].replace({np.nan: np.inf}), label = 'Hydrometry_Monte_S_Quirico',ax = axes[0])\n",
    "sns.lineplot(x = pd.to_datetime(aquifer_auser['Date']), y = aquifer_auser['Hydrometry_Piaggione'].replace({np.nan: np.inf}), label = 'Hydrometry_Piaggione',ax = axes[1])\n",
    "\n",
    "plt.show()"
   ]
  },
  {
   "cell_type": "code",
   "execution_count": null,
   "id": "d8251ee3",
   "metadata": {},
   "outputs": [],
   "source": [
    "aquifer_auser_yearly = aquifer_auser.copy()\n",
    "aquifer_auser_yearly['Year'] = pd.to_datetime(aquifer_auser_yearly['Date']).dt.year.values\n",
    "aquifer_auser_yearly = aquifer_auser_yearly.groupby('Year').mean()\n",
    "\n",
    "aquifer_auser_yearly['mean_rainfall'] = aquifer_auser_yearly[['Rainfall_Gallicano', 'Rainfall_Pontetetto',\n",
    "       'Rainfall_Monte_Serra', 'Rainfall_Orentano', 'Rainfall_Borgo_a_Mozzano',\n",
    "       'Rainfall_Piaggione', 'Rainfall_Calavorno', 'Rainfall_Croce_Arcana',\n",
    "       'Rainfall_Tereglio_Coreglia_Antelminelli',\n",
    "       'Rainfall_Fabbriche_di_Vallico']].mean(axis = 1)\n",
    "aquifer_auser_yearly['mean_temperature'] = aquifer_auser_yearly[['Temperature_Orentano', 'Temperature_Monte_Serra',\n",
    "       'Temperature_Ponte_a_Moriano', 'Temperature_Lucca_Orto_Botanico']].mean(axis = 1)\n",
    "aquifer_auser_yearly['mean_volume'] = aquifer_auser_yearly[['Volume_POL', 'Volume_CC1', 'Volume_CC2', 'Volume_CSA', 'Volume_CSAL']].mean(axis = 1)\n",
    "aquifer_auser_yearly['mean_hydrometry'] = aquifer_auser_yearly[['Hydrometry_Monte_S_Quirico', 'Hydrometry_Piaggione']].mean(axis = 1)\n",
    "aquifer_auser_yearly['mean_depth_groundwater'] = aquifer_auser_yearly[['Depth_to_Groundwater_SAL', 'Depth_to_Groundwater_CoS', 'Depth_to_Groundwater_LT2', 'Depth_to_Groundwater_PAG',\n",
    "       'Depth_to_Groundwater_DIEC']].mean(axis = 1)\n",
    "\n",
    "aquifer_auser_yearly = aquifer_auser_yearly.reset_index()"
   ]
  },
  {
   "cell_type": "code",
   "execution_count": null,
   "id": "2049245c",
   "metadata": {},
   "outputs": [],
   "source": [
    "fig, axes_1 = plt.subplots(figsize = (12, 6))\n",
    "axes_1.set_title('Average Rainfall and Average Volume: Yearly basis in \\'Aquifer Auser\\'', fontsize = 15)\n",
    "axes_1.set_xlabel('Year')\n",
    "axes_1.set_ylabel('Average Rainfall', fontsize = 15)\n",
    "axes_1 = sns.lineplot(x = 'Year', y = 'mean_rainfall', data = aquifer_auser_yearly, color = 'blue')\n",
    "axes_1.tick_params(axis = 'both')\n",
    "\n",
    "axes_2 = axes_1.twinx()\n",
    "axes_2.set_ylabel('Average Volume', fontsize = 15)\n",
    "axes_2 = sns.lineplot(x = 'Year', y = 'mean_volume', data = aquifer_auser_yearly, color = 'red')\n",
    "axes_1.tick_params(axis = 'both')\n",
    "plt.show()\n",
    "\n",
    "plt.figure(figsize = (12, 6))\n",
    "sns.lineplot(x = 'Year', y = 'mean_depth_groundwater', data = aquifer_auser_yearly, color = 'green')\n",
    "plt.xlabel('Year')\n",
    "plt.ylabel('Mean Depth to Groundwater', fontsize = 15)\n",
    "plt.show()"
   ]
  },
  {
   "cell_type": "code",
   "execution_count": null,
   "id": "f3c5c6e8",
   "metadata": {},
   "outputs": [],
   "source": [
    "aquifer_auser_monthly = aquifer_auser.copy()\n",
    "aquifer_auser_monthly['Month'] = pd.to_datetime(aquifer_auser_monthly['Date']).dt.month.values\n",
    "aquifer_auser_monthly = aquifer_auser_monthly.groupby('Month').mean()\n",
    "\n",
    "aquifer_auser_monthly['mean_rainfall'] = aquifer_auser_monthly[['Rainfall_Gallicano', 'Rainfall_Pontetetto',\n",
    "       'Rainfall_Monte_Serra', 'Rainfall_Orentano', 'Rainfall_Borgo_a_Mozzano',\n",
    "       'Rainfall_Piaggione', 'Rainfall_Calavorno', 'Rainfall_Croce_Arcana',\n",
    "       'Rainfall_Tereglio_Coreglia_Antelminelli',\n",
    "       'Rainfall_Fabbriche_di_Vallico']].mean(axis = 1)\n",
    "aquifer_auser_monthly['mean_temperature'] = aquifer_auser_monthly[['Temperature_Orentano', 'Temperature_Monte_Serra',\n",
    "       'Temperature_Ponte_a_Moriano', 'Temperature_Lucca_Orto_Botanico']].mean(axis = 1)\n",
    "aquifer_auser_monthly['mean_volume'] = aquifer_auser_monthly[['Volume_POL', 'Volume_CC1', 'Volume_CC2', 'Volume_CSA', 'Volume_CSAL']].mean(axis = 1)\n",
    "aquifer_auser_monthly['mean_hydrometry'] = aquifer_auser_monthly[['Hydrometry_Monte_S_Quirico', 'Hydrometry_Piaggione']].mean(axis = 1)\n",
    "aquifer_auser_monthly['mean_depth_groundwater'] = aquifer_auser_monthly[['Depth_to_Groundwater_SAL', 'Depth_to_Groundwater_CoS', 'Depth_to_Groundwater_LT2', 'Depth_to_Groundwater_PAG',\n",
    "       'Depth_to_Groundwater_DIEC']].mean(axis = 1)\n",
    "\n",
    "aquifer_auser_monthly = aquifer_auser_monthly.reset_index()"
   ]
  },
  {
   "cell_type": "code",
   "execution_count": null,
   "id": "7e515b9d",
   "metadata": {},
   "outputs": [],
   "source": [
    "fig, axes_1 = plt.subplots(figsize = (12, 6))\n",
    "axes_1.set_title('Average Rainfall and Average Volume: Monthly basis in \\'Aquifer Auser\\'', fontsize = 15)\n",
    "axes_1.set_xlabel('Month')\n",
    "axes_1.set_ylabel('Average Rainfall', fontsize = 15)\n",
    "axes_1 = sns.lineplot(x = 'Month', y = 'mean_rainfall', data = aquifer_auser_monthly, color = 'blue')\n",
    "axes_1.tick_params(axis = 'both')\n",
    "\n",
    "axes_2 = axes_1.twinx()\n",
    "axes_2.set_ylabel('Average Volume', fontsize = 15)\n",
    "axes_2 = sns.lineplot(x = 'Month', y = 'mean_volume', data = aquifer_auser_monthly, color = 'red')\n",
    "axes_1.tick_params(axis = 'both')\n",
    "plt.show()\n",
    "\n",
    "plt.figure(figsize = (12, 6))\n",
    "sns.lineplot(x = 'Month', y = 'mean_depth_groundwater', data = aquifer_auser_monthly, color = 'green')\n",
    "plt.xlabel('Month')\n",
    "plt.ylabel('Mean Depth to Groundwater', fontsize = 15)\n",
    "plt.show()"
   ]
  },
  {
   "cell_type": "markdown",
   "id": "95946852",
   "metadata": {},
   "source": [
    "## Aquifer Doganella"
   ]
  },
  {
   "cell_type": "code",
   "execution_count": null,
   "id": "88fafdc9",
   "metadata": {},
   "outputs": [],
   "source": [
    "fig, axes = plt.subplots(1, 2, figsize = (18, 8))\n",
    "fig.suptitle('Rainfall Feature in Aquifer Doganella')\n",
    "\n",
    "sns.lineplot(x = pd.to_datetime(aquifer_doganella['Date']), y = aquifer_doganella['Rainfall_Monteporzio'].replace({np.nan: np.inf}), label = 'Rainfall_Monteporzio',ax = axes[0])\n",
    "sns.lineplot(x = pd.to_datetime(aquifer_doganella['Date']), y = aquifer_doganella['Rainfall_Velletri'].replace({np.nan: np.inf}), label = 'Rainfall_Velletri',ax = axes[1])\n",
    "\n",
    "plt.show()"
   ]
  },
  {
   "cell_type": "code",
   "execution_count": null,
   "id": "fed81a2b",
   "metadata": {},
   "outputs": [],
   "source": [
    "fig, axes = plt.subplots(1, 2, figsize = (18, 8))\n",
    "fig.suptitle('Temperature Feature in Aquifer Doganella')\n",
    "\n",
    "sns.lineplot(x = pd.to_datetime(aquifer_doganella['Date']), y = aquifer_doganella['Temperature_Monteporzio'].replace({np.nan: np.inf}), label = 'Temperature_Monteporzio',ax = axes[0])\n",
    "sns.lineplot(x = pd.to_datetime(aquifer_doganella['Date']), y = aquifer_doganella['Temperature_Velletri'].replace({np.nan: np.inf}), label = 'Temperature_Velletri',ax = axes[1])\n",
    "\n",
    "plt.show()"
   ]
  },
  {
   "cell_type": "code",
   "execution_count": null,
   "id": "6085571e",
   "metadata": {},
   "outputs": [],
   "source": [
    "fig, axes = plt.subplots(4, 2, figsize = (18, 8))\n",
    "fig.suptitle('Volume Feature in Aquifer Doganella')\n",
    "\n",
    "sns.lineplot(x = pd.to_datetime(aquifer_doganella['Date']), y = aquifer_doganella['Volume_Pozzo_1'].replace({np.nan: np.inf}), label = 'Volume_Pozzo_1',ax = axes[0][0])\n",
    "sns.lineplot(x = pd.to_datetime(aquifer_doganella['Date']), y = aquifer_doganella['Volume_Pozzo_2'].replace({np.nan: np.inf}), label = 'Volume_Pozzo_2',ax = axes[0][1])\n",
    "sns.lineplot(x = pd.to_datetime(aquifer_doganella['Date']), y = aquifer_doganella['Volume_Pozzo_3'].replace({np.nan: np.inf}), label = 'Volume_Pozzo_3',ax = axes[1][0])\n",
    "sns.lineplot(x = pd.to_datetime(aquifer_doganella['Date']), y = aquifer_doganella['Volume_Pozzo_4'].replace({np.nan: np.inf}), label = 'Volume_Pozzo_4',ax = axes[1][1])\n",
    "sns.lineplot(x = pd.to_datetime(aquifer_doganella['Date']), y = aquifer_doganella['Volume_Pozzo_5+6'].replace({np.nan: np.inf}), label = 'Volume_Pozzo_5+6',ax = axes[2][0])\n",
    "sns.lineplot(x = pd.to_datetime(aquifer_doganella['Date']), y = aquifer_doganella['Volume_Pozzo_7'].replace({np.nan: np.inf}), label = 'Volume_Pozzo_7',ax = axes[2][1])\n",
    "sns.lineplot(x = pd.to_datetime(aquifer_doganella['Date']), y = aquifer_doganella['Volume_Pozzo_8'].replace({np.nan: np.inf}), label = 'Volume_Pozzo_8',ax = axes[3][0])\n",
    "sns.lineplot(x = pd.to_datetime(aquifer_doganella['Date']), y = aquifer_doganella['Volume_Pozzo_9'].replace({np.nan: np.inf}), label = 'Volume_Pozzo_9',ax = axes[3][1])\n",
    "\n",
    "plt.show()"
   ]
  },
  {
   "cell_type": "code",
   "execution_count": null,
   "id": "bfd31bbd",
   "metadata": {},
   "outputs": [],
   "source": [
    "aquifer_doganella_yearly = aquifer_doganella.copy()\n",
    "aquifer_doganella_yearly['Year'] = pd.to_datetime(aquifer_doganella_yearly['Date']).dt.year.values\n",
    "aquifer_doganella_yearly = aquifer_doganella_yearly.groupby('Year').mean()\n",
    "\n",
    "aquifer_doganella_yearly['mean_rainfall'] = aquifer_doganella_yearly[['Rainfall_Monteporzio', 'Rainfall_Velletri']].mean(axis = 1)\n",
    "aquifer_doganella_yearly['mean_temperature'] = aquifer_doganella_yearly[['Temperature_Monteporzio', 'Temperature_Velletri']].mean(axis = 1)\n",
    "aquifer_doganella_yearly['mean_volume'] = aquifer_doganella_yearly[['Volume_Pozzo_1', 'Volume_Pozzo_2',\n",
    "       'Volume_Pozzo_3', 'Volume_Pozzo_4', 'Volume_Pozzo_5+6',\n",
    "       'Volume_Pozzo_7', 'Volume_Pozzo_8', 'Volume_Pozzo_9']].mean(axis = 1)\n",
    "aquifer_doganella_yearly['mean_depth_groundwater'] = aquifer_doganella_yearly[['Depth_to_Groundwater_Pozzo_1', 'Depth_to_Groundwater_Pozzo_2',\n",
    "       'Depth_to_Groundwater_Pozzo_3', 'Depth_to_Groundwater_Pozzo_4',\n",
    "       'Depth_to_Groundwater_Pozzo_5', 'Depth_to_Groundwater_Pozzo_6',\n",
    "       'Depth_to_Groundwater_Pozzo_7', 'Depth_to_Groundwater_Pozzo_8',\n",
    "       'Depth_to_Groundwater_Pozzo_9']].mean(axis = 1)\n",
    "\n",
    "aquifer_auser_yearly = aquifer_doganella_yearly.reset_index()"
   ]
  },
  {
   "cell_type": "code",
   "execution_count": null,
   "id": "5a553139",
   "metadata": {},
   "outputs": [],
   "source": [
    "fig, axes_1 = plt.subplots(figsize = (12, 6))\n",
    "axes_1.set_title('Average Rainfall and Average Volume: Yearly basis in \\'Aquifer Doganella\\'', fontsize = 15)\n",
    "axes_1.set_xlabel('Year')\n",
    "axes_1.set_ylabel('Average Rainfall', fontsize = 15)\n",
    "axes_1 = sns.lineplot(x = 'Year', y = 'mean_rainfall', data = aquifer_doganella_yearly, color = 'blue')\n",
    "axes_1.tick_params(axis = 'both')\n",
    "\n",
    "axes_2 = axes_1.twinx()\n",
    "axes_2.set_ylabel('Average Volume', fontsize = 15)\n",
    "axes_2 = sns.lineplot(x = 'Year', y = 'mean_volume', data = aquifer_doganella_yearly, color = 'red')\n",
    "axes_1.tick_params(axis = 'both')\n",
    "plt.show()\n",
    "\n",
    "plt.figure(figsize = (12, 6))\n",
    "sns.lineplot(x = 'Year', y = 'mean_temperature', data = aquifer_doganella_yearly, color = 'green')\n",
    "plt.xlabel('Year')\n",
    "plt.ylabel('Mean Temperature', fontsize = 15)\n",
    "plt.show()"
   ]
  },
  {
   "cell_type": "code",
   "execution_count": null,
   "id": "4c2655fe",
   "metadata": {},
   "outputs": [],
   "source": [
    "aquifer_doganella_monthly = aquifer_doganella.copy()\n",
    "aquifer_doganella_monthly['Month'] = pd.to_datetime(aquifer_doganella_monthly['Date']).dt.month.values\n",
    "aquifer_doganella_monthly = aquifer_doganella_monthly.groupby('Month').mean()\n",
    "\n",
    "aquifer_doganella_monthly['mean_rainfall'] = aquifer_doganella_monthly[['Rainfall_Monteporzio', 'Rainfall_Velletri']].mean(axis = 1)\n",
    "aquifer_doganella_monthly['mean_temperature'] = aquifer_doganella_monthly[['Temperature_Monteporzio', 'Temperature_Velletri']].mean(axis = 1)\n",
    "aquifer_doganella_monthly['mean_volume'] = aquifer_doganella_monthly[['Volume_Pozzo_1', 'Volume_Pozzo_2',\n",
    "       'Volume_Pozzo_3', 'Volume_Pozzo_4', 'Volume_Pozzo_5+6',\n",
    "       'Volume_Pozzo_7', 'Volume_Pozzo_8', 'Volume_Pozzo_9']].mean(axis = 1)\n",
    "aquifer_doganella_monthly['mean_depth_groundwater'] = aquifer_doganella_monthly[['Depth_to_Groundwater_Pozzo_1', 'Depth_to_Groundwater_Pozzo_2',\n",
    "       'Depth_to_Groundwater_Pozzo_3', 'Depth_to_Groundwater_Pozzo_4',\n",
    "       'Depth_to_Groundwater_Pozzo_5', 'Depth_to_Groundwater_Pozzo_6',\n",
    "       'Depth_to_Groundwater_Pozzo_7', 'Depth_to_Groundwater_Pozzo_8',\n",
    "       'Depth_to_Groundwater_Pozzo_9']].mean(axis = 1)\n",
    "\n",
    "aquifer_petrignano_monthly = aquifer_doganella_monthly.reset_index()"
   ]
  },
  {
   "cell_type": "code",
   "execution_count": null,
   "id": "199d5c1e",
   "metadata": {},
   "outputs": [],
   "source": [
    "fig, axes_1 = plt.subplots(figsize = (12, 6))\n",
    "axes_1.set_title('Average Rainfall and Average Volume: Monthly basis in \\'Aquifer Doganella\\'', fontsize = 15)\n",
    "axes_1.set_xlabel('Month')\n",
    "axes_1.set_ylabel('Average Rainfall', fontsize = 15)\n",
    "axes_1 = sns.lineplot(x = 'Month', y = 'mean_rainfall', data = aquifer_doganella_monthly, color = 'blue')\n",
    "axes_1.tick_params(axis = 'both')\n",
    "\n",
    "axes_2 = axes_1.twinx()\n",
    "axes_2.set_ylabel('Average Volume', fontsize = 15)\n",
    "axes_2 = sns.lineplot(x = 'Month', y = 'mean_volume', data = aquifer_doganella_monthly, color = 'red')\n",
    "axes_1.tick_params(axis = 'both')\n",
    "plt.show()\n",
    "\n",
    "plt.figure(figsize = (12, 6))\n",
    "sns.lineplot(x = 'Month', y = 'mean_temperature', data = aquifer_doganella_monthly, color = 'green')\n",
    "plt.xlabel('Month')\n",
    "plt.ylabel('Mean Temperature', fontsize = 15)\n",
    "plt.show()"
   ]
  },
  {
   "cell_type": "markdown",
   "id": "09dcfbbc",
   "metadata": {},
   "source": [
    "## Aquifer Luco"
   ]
  },
  {
   "cell_type": "code",
   "execution_count": null,
   "id": "7668c7da",
   "metadata": {},
   "outputs": [],
   "source": [
    "fig, axes = plt.subplots(5, 2, figsize = (18, 8))\n",
    "fig.suptitle('Rainfall Feature in Aquifer Luco')\n",
    "\n",
    "sns.lineplot(x = pd.to_datetime(aquifer_luco['Date']), y = aquifer_luco['Rainfall_Simignano'].replace({np.nan: np.inf}), label = 'Rainfall_Simignano',ax = axes[0][0])\n",
    "sns.lineplot(x = pd.to_datetime(aquifer_luco['Date']), y = aquifer_luco['Rainfall_Siena_Poggio_al_Vento'].replace({np.nan: np.inf}), label = 'Rainfall_Siena_Poggio_al_Vento',ax = axes[0][1])\n",
    "sns.lineplot(x = pd.to_datetime(aquifer_luco['Date']), y = aquifer_luco['Rainfall_Mensano'].replace({np.nan: np.inf}), label = 'Rainfall_Mensano',ax = axes[1][0])\n",
    "sns.lineplot(x = pd.to_datetime(aquifer_luco['Date']), y = aquifer_luco['Rainfall_Montalcinello'].replace({np.nan: np.inf}), label = 'Rainfall_Montalcinello',ax = axes[1][1])\n",
    "sns.lineplot(x = pd.to_datetime(aquifer_luco['Date']), y = aquifer_luco['Rainfall_Monticiano_la_Pineta'].replace({np.nan: np.inf}), label = 'Rainfall_Monticiano_la_Pineta',ax = axes[2][0])\n",
    "sns.lineplot(x = pd.to_datetime(aquifer_luco['Date']), y = aquifer_luco['Rainfall_Sovicille'].replace({np.nan: np.inf}), label = 'Rainfall_Sovicille',ax = axes[2][1])\n",
    "sns.lineplot(x = pd.to_datetime(aquifer_luco['Date']), y = aquifer_luco['Rainfall_Ponte_Orgia'].replace({np.nan: np.inf}), label = 'Rainfall_Ponte_Orgia',ax = axes[3][0])\n",
    "sns.lineplot(x = pd.to_datetime(aquifer_luco['Date']), y = aquifer_luco['Rainfall_Scorgiano'].replace({np.nan: np.inf}), label = 'Rainfall_Scorgiano',ax = axes[3][1])\n",
    "sns.lineplot(x = pd.to_datetime(aquifer_luco['Date']), y = aquifer_luco['Rainfall_Pentolina'].replace({np.nan: np.inf}), label = 'Rainfall_Pentolina',ax = axes[4][0])\n",
    "sns.lineplot(x = pd.to_datetime(aquifer_luco['Date']), y = aquifer_luco['Rainfall_Monteroni_Arbia_Biena'].replace({np.nan: np.inf}), label = 'Rainfall_Monteroni_Arbia_Biena',ax = axes[4][1])\n",
    "\n",
    "plt.show()"
   ]
  },
  {
   "cell_type": "code",
   "execution_count": null,
   "id": "717dc35b",
   "metadata": {},
   "outputs": [],
   "source": [
    "fig, axes = plt.subplots(2, 2, figsize = (18, 8))\n",
    "fig.suptitle('Temperature Feature in Aquifer Luco')\n",
    "\n",
    "sns.lineplot(x = pd.to_datetime(aquifer_luco['Date']), y = aquifer_luco['Temperature_Siena_Poggio_al_Vento'].replace({np.nan: np.inf}), label = 'Temperature_Siena_Poggio_al_Vento',ax = axes[0][0])\n",
    "sns.lineplot(x = pd.to_datetime(aquifer_luco['Date']), y = aquifer_luco['Temperature_Mensano'].replace({np.nan: np.inf}), label = 'Temperature_Mensano',ax = axes[0][1])\n",
    "sns.lineplot(x = pd.to_datetime(aquifer_luco['Date']), y = aquifer_luco['Temperature_Pentolina'].replace({np.nan: np.inf}), label = 'Temperature_Pentolina',ax = axes[1][0])\n",
    "sns.lineplot(x = pd.to_datetime(aquifer_luco['Date']), y = aquifer_luco['Temperature_Monteroni_Arbia_Biena'].replace({np.nan: np.inf}), label = 'Temperature_Monteroni_Arbia_Biena',ax = axes[1][1])\n",
    "\n",
    "plt.show()"
   ]
  },
  {
   "cell_type": "code",
   "execution_count": null,
   "id": "4c0d3e5b",
   "metadata": {},
   "outputs": [],
   "source": [
    "fig, axes = plt.subplots(2, 2, figsize = (18, 8))\n",
    "fig.suptitle('Volume Feature in Aquifer Luco')\n",
    "\n",
    "sns.lineplot(x = pd.to_datetime(aquifer_luco['Date']), y = aquifer_luco['Volume_Pozzo_1'].replace({np.nan: np.inf}), label = 'Volume_Pozzo_1',ax = axes[0][0])\n",
    "sns.lineplot(x = pd.to_datetime(aquifer_luco['Date']), y = aquifer_luco['Volume_Pozzo_3'].replace({np.nan: np.inf}), label = 'Volume_Pozzo_3',ax = axes[0][1])\n",
    "sns.lineplot(x = pd.to_datetime(aquifer_luco['Date']), y = aquifer_luco['Volume_Pozzo_4'].replace({np.nan: np.inf}), label = 'Volume_Pozzo_4',ax = axes[1][0])\n",
    "\n",
    "plt.show()"
   ]
  },
  {
   "cell_type": "code",
   "execution_count": null,
   "id": "b4f8c266",
   "metadata": {},
   "outputs": [],
   "source": [
    "aquifer_luco_yearly = aquifer_luco.copy()\n",
    "aquifer_luco_yearly['Year'] = pd.to_datetime(aquifer_luco_yearly['Date']).dt.year.values\n",
    "aquifer_luco_yearly = aquifer_luco_yearly.groupby('Year').mean()\n",
    "\n",
    "aquifer_luco_yearly['mean_rainfall'] = aquifer_luco_yearly[['Rainfall_Simignano', 'Rainfall_Siena_Poggio_al_Vento',\n",
    "       'Rainfall_Mensano', 'Rainfall_Montalcinello',\n",
    "       'Rainfall_Monticiano_la_Pineta', 'Rainfall_Sovicille',\n",
    "       'Rainfall_Ponte_Orgia', 'Rainfall_Scorgiano', 'Rainfall_Pentolina',\n",
    "       'Rainfall_Monteroni_Arbia_Biena']].mean(axis = 1)\n",
    "aquifer_luco_yearly['mean_temperature'] = aquifer_luco_yearly[['Temperature_Siena_Poggio_al_Vento',\n",
    "'Temperature_Mensano', 'Temperature_Pentolina',\n",
    "'Temperature_Monteroni_Arbia_Biena']].mean(axis = 1)\n",
    "aquifer_luco_yearly['mean_volume'] = aquifer_luco_yearly[['Volume_Pozzo_1', 'Volume_Pozzo_3', 'Volume_Pozzo_4']].mean(axis = 1)\n",
    "aquifer_luco_yearly['mean_depth_groundwater'] = aquifer_luco_yearly[['Depth_to_Groundwater_Podere_Casetta',\n",
    "       'Depth_to_Groundwater_Pozzo_1', 'Depth_to_Groundwater_Pozzo_3',\n",
    "       'Depth_to_Groundwater_Pozzo_4']].mean(axis = 1)\n",
    "\n",
    "aquifer_luco_yearly = aquifer_luco_yearly.reset_index()"
   ]
  },
  {
   "cell_type": "code",
   "execution_count": null,
   "id": "5ff49730",
   "metadata": {},
   "outputs": [],
   "source": [
    "fig, axes_1 = plt.subplots(figsize = (12, 6))\n",
    "axes_1.set_title('Average Rainfall and Average Volume: Yearly basis in \\'Aquifer Doganella\\'', fontsize = 15)\n",
    "axes_1.set_xlabel('Year')\n",
    "axes_1.set_ylabel('Average Rainfall', fontsize = 15)\n",
    "axes_1 = sns.lineplot(x = 'Year', y = 'mean_rainfall', data = aquifer_luco_yearly, color = 'blue')\n",
    "axes_1.tick_params(axis = 'both')\n",
    "\n",
    "axes_2 = axes_1.twinx()\n",
    "axes_2.set_ylabel('Average Volume', fontsize = 15)\n",
    "axes_2 = sns.lineplot(x = 'Year', y = 'mean_volume', data = aquifer_luco_yearly, color = 'red')\n",
    "axes_1.tick_params(axis = 'both')\n",
    "plt.show()\n",
    "\n",
    "plt.figure(figsize = (12, 6))\n",
    "sns.lineplot(x = 'Year', y = 'mean_temperature', data = aquifer_luco_yearly, color = 'green')\n",
    "plt.xlabel('Year')\n",
    "plt.ylabel('Mean Temperature', fontsize = 15)\n",
    "plt.show()"
   ]
  },
  {
   "cell_type": "code",
   "execution_count": null,
   "id": "857f279d",
   "metadata": {},
   "outputs": [],
   "source": [
    "aquifer_luco_monthly = aquifer_luco.copy()\n",
    "aquifer_luco_monthly['Month'] = pd.to_datetime(aquifer_luco_monthly['Date']).dt.month.values\n",
    "aquifer_luco_monthly = aquifer_luco_monthly.groupby('Month').mean()\n",
    "\n",
    "aquifer_luco_monthly['mean_rainfall'] = aquifer_luco_monthly[['Rainfall_Simignano', 'Rainfall_Siena_Poggio_al_Vento',\n",
    "       'Rainfall_Mensano', 'Rainfall_Montalcinello',\n",
    "       'Rainfall_Monticiano_la_Pineta', 'Rainfall_Sovicille',\n",
    "       'Rainfall_Ponte_Orgia', 'Rainfall_Scorgiano', 'Rainfall_Pentolina',\n",
    "       'Rainfall_Monteroni_Arbia_Biena']].mean(axis = 1)\n",
    "aquifer_luco_monthly['mean_temperature'] = aquifer_luco_monthly[['Temperature_Siena_Poggio_al_Vento',\n",
    "'Temperature_Mensano', 'Temperature_Pentolina',\n",
    "'Temperature_Monteroni_Arbia_Biena']].mean(axis = 1)\n",
    "aquifer_luco_monthly['mean_volume'] = aquifer_luco_monthly[['Volume_Pozzo_1', 'Volume_Pozzo_3', 'Volume_Pozzo_4']].mean(axis = 1)\n",
    "aquifer_luco_monthly['mean_depth_groundwater'] = aquifer_luco_monthly[['Depth_to_Groundwater_Podere_Casetta',\n",
    "       'Depth_to_Groundwater_Pozzo_1', 'Depth_to_Groundwater_Pozzo_3',\n",
    "       'Depth_to_Groundwater_Pozzo_4']].mean(axis = 1)\n",
    "\n",
    "aquifer_luco_monthly = aquifer_luco_monthly.reset_index()"
   ]
  },
  {
   "cell_type": "code",
   "execution_count": null,
   "id": "a1b6ff0c",
   "metadata": {},
   "outputs": [],
   "source": [
    "fig, axes_1 = plt.subplots(figsize = (12, 6))\n",
    "axes_1.set_title('Average Rainfall and Average Volume: Monthly basis in \\'Aquifer Luco\\'', fontsize = 15)\n",
    "axes_1.set_xlabel('Month')\n",
    "axes_1.set_ylabel('Average Rainfall', fontsize = 15)\n",
    "axes_1 = sns.lineplot(x = 'Month', y = 'mean_rainfall', data = aquifer_luco_monthly, color = 'blue')\n",
    "axes_1.tick_params(axis = 'both')\n",
    "\n",
    "axes_2 = axes_1.twinx()\n",
    "axes_2.set_ylabel('Average Volume', fontsize = 15)\n",
    "axes_2 = sns.lineplot(x = 'Month', y = 'mean_volume', data = aquifer_luco_monthly, color = 'red')\n",
    "axes_1.tick_params(axis = 'both')\n",
    "plt.show()\n",
    "\n",
    "plt.figure(figsize = (12, 6))\n",
    "sns.lineplot(x = 'Month', y = 'mean_temperature', data = aquifer_luco_monthly, color = 'green')\n",
    "plt.xlabel('Month')\n",
    "plt.ylabel('Mean Temperature', fontsize = 15)\n",
    "plt.show()"
   ]
  },
  {
   "cell_type": "markdown",
   "id": "70fb72ec",
   "metadata": {},
   "source": [
    "## Aquifer Petrignano"
   ]
  },
  {
   "cell_type": "code",
   "execution_count": null,
   "id": "6a622368",
   "metadata": {},
   "outputs": [],
   "source": [
    "plt.title('Rainfall Feature in Aquifer Petrignano')\n",
    "\n",
    "sns.lineplot(x = pd.to_datetime(aquifer_petrignano['Date']), y = aquifer_petrignano['Rainfall_Bastia_Umbra'].replace({np.nan: np.inf}), label = 'Rainfall_Bastia_Umbra')\n",
    "\n",
    "plt.show()"
   ]
  },
  {
   "cell_type": "code",
   "execution_count": null,
   "id": "dd0f8bdb",
   "metadata": {},
   "outputs": [],
   "source": [
    "fig, axes = plt.subplots(1, 2, figsize = (18, 8))\n",
    "fig.suptitle('Temperature Feature in Aquifer Petrignano')\n",
    "\n",
    "sns.lineplot(x = pd.to_datetime(aquifer_petrignano['Date']), y = aquifer_petrignano['Temperature_Bastia_Umbra'].replace({np.nan: np.inf}), label = 'Temperature_Bastia_Umbra',ax = axes[0])\n",
    "sns.lineplot(x = pd.to_datetime(aquifer_petrignano['Date']), y = aquifer_petrignano['Temperature_Petrignano'].replace({np.nan: np.inf}), label = 'Temperature_Petrignano',ax = axes[1])\n",
    "\n",
    "plt.show()"
   ]
  },
  {
   "cell_type": "code",
   "execution_count": null,
   "id": "f849beb1",
   "metadata": {},
   "outputs": [],
   "source": [
    "plt.title('Volume Feature in Aquifer Petrignano')\n",
    "\n",
    "sns.lineplot(x = pd.to_datetime(aquifer_petrignano['Date']), y = aquifer_petrignano['Volume_C10_Petrignano'].replace({np.nan: np.inf}), label = 'Volume_C10_Petrignano')\n",
    "\n",
    "plt.show()"
   ]
  },
  {
   "cell_type": "code",
   "execution_count": null,
   "id": "0e0b185c",
   "metadata": {},
   "outputs": [],
   "source": [
    "plt.title('Hydrometry Feature in Aquifer Petrignano')\n",
    "\n",
    "sns.lineplot(x = pd.to_datetime(aquifer_petrignano['Date']), y = aquifer_petrignano['Hydrometry_Fiume_Chiascio_Petrignano'].replace({np.nan: np.inf}), label = 'Hydrometry_Fiume_Chiascio_Petrignano')\n",
    "\n",
    "plt.show()"
   ]
  },
  {
   "cell_type": "code",
   "execution_count": null,
   "id": "3eceb1d7",
   "metadata": {},
   "outputs": [],
   "source": [
    "aquifer_petrignano_yearly = aquifer_petrignano.copy()\n",
    "aquifer_petrignano_yearly['Year'] = pd.to_datetime(aquifer_petrignano_yearly['Date']).dt.year.values\n",
    "\n",
    "aquifer_petrignano_yearly['mean_rainfall'] = aquifer_petrignano_yearly[['Rainfall_Bastia_Umbra']].mean(axis = 1)\n",
    "aquifer_petrignano_yearly['mean_temperature'] = aquifer_petrignano_yearly[['Temperature_Bastia_Umbra', 'Temperature_Petrignano']].mean(axis = 1)\n",
    "aquifer_petrignano_yearly['mean_volume'] = aquifer_petrignano_yearly[['Volume_C10_Petrignano']].mean(axis = 1)\n",
    "aquifer_petrignano_yearly['mean_hydrometry'] = aquifer_petrignano_yearly[['Hydrometry_Fiume_Chiascio_Petrignano']].mean(axis = 1)\n",
    "aquifer_petrignano_yearly['mean_depth_groundwater'] = aquifer_petrignano_yearly[['Depth_to_Groundwater_P24', 'Depth_to_Groundwater_P25']].mean(axis = 1)\n",
    "\n",
    "aquifer_petrignano_yearly = aquifer_petrignano_yearly.reset_index()"
   ]
  },
  {
   "cell_type": "code",
   "execution_count": null,
   "id": "41eeea68",
   "metadata": {},
   "outputs": [],
   "source": [
    "fig, axes_1 = plt.subplots(figsize = (12, 6))\n",
    "axes_1.set_title('Average Rainfall and Average Volume: Yearly basis in \\'Aquifer Petrignano\\'', fontsize = 15)\n",
    "axes_1.set_xlabel('Year')\n",
    "axes_1.set_ylabel('Average Rainfall', fontsize = 15)\n",
    "axes_1 = sns.lineplot(x = 'Year', y = 'mean_rainfall', data = aquifer_petrignano_yearly, color = 'blue')\n",
    "axes_1.tick_params(axis = 'both')\n",
    "\n",
    "axes_2 = axes_1.twinx()\n",
    "axes_2.set_ylabel('Average Volume', fontsize = 15)\n",
    "axes_2 = sns.lineplot(x = 'Year', y = 'mean_volume', data = aquifer_petrignano_yearly, color = 'red')\n",
    "axes_1.tick_params(axis = 'both')\n",
    "plt.show()\n",
    "\n",
    "plt.figure(figsize = (12, 6))\n",
    "sns.lineplot(x = 'Year', y = 'mean_temperature', data = aquifer_petrignano_yearly, color = 'green')\n",
    "plt.xlabel('Year')\n",
    "plt.ylabel('Mean Temperature', fontsize = 15)\n",
    "plt.show()"
   ]
  },
  {
   "cell_type": "code",
   "execution_count": null,
   "id": "2aafa790",
   "metadata": {},
   "outputs": [],
   "source": [
    "aquifer_petrignano_monthly = aquifer_petrignano.copy()\n",
    "aquifer_petrignano_monthly['Month'] = pd.to_datetime(aquifer_petrignano_monthly['Date']).dt.month.values\n",
    "aquifer_petrignano_monthly = aquifer_petrignano_monthly.groupby('Month').mean()\n",
    "\n",
    "aquifer_petrignano_monthly['mean_rainfall'] = aquifer_petrignano_monthly[['Rainfall_Bastia_Umbra']].mean(axis = 1)\n",
    "aquifer_petrignano_monthly['mean_temperature'] = aquifer_petrignano_monthly[['Temperature_Bastia_Umbra', 'Temperature_Petrignano']].mean(axis = 1)\n",
    "aquifer_petrignano_monthly['mean_volume'] = aquifer_petrignano_monthly[['Volume_C10_Petrignano']].mean(axis = 1)\n",
    "aquifer_petrignano_monthly['mean_hydrometry'] = aquifer_petrignano_monthly[['Hydrometry_Fiume_Chiascio_Petrignano']].mean(axis = 1)\n",
    "aquifer_petrignano_monthly['mean_depth_groundwater'] = aquifer_petrignano_monthly[['Depth_to_Groundwater_P24', 'Depth_to_Groundwater_P25']].mean(axis = 1)\n",
    "\n",
    "aquifer_petrignano_monthly = aquifer_petrignano_monthly.reset_index()"
   ]
  },
  {
   "cell_type": "code",
   "execution_count": null,
   "id": "bc59d214",
   "metadata": {},
   "outputs": [],
   "source": [
    "fig, axes_1 = plt.subplots(figsize = (12, 6))\n",
    "axes_1.set_title('Average Rainfall and Average Volume: Monthly basis in \\'Aquifer Petrignano\\'', fontsize = 15)\n",
    "axes_1.set_xlabel('Month')\n",
    "axes_1.set_ylabel('Average Rainfall', fontsize = 15)\n",
    "axes_1 = sns.lineplot(x = 'Month', y = 'mean_rainfall', data = aquifer_petrignano_monthly, color = 'blue')\n",
    "axes_1.tick_params(axis = 'both')\n",
    "\n",
    "axes_2 = axes_1.twinx()\n",
    "axes_2.set_ylabel('Average Volume', fontsize = 15)\n",
    "axes_2 = sns.lineplot(x = 'Month', y = 'mean_volume', data = aquifer_petrignano_monthly, color = 'red')\n",
    "axes_1.tick_params(axis = 'both')\n",
    "plt.show()\n",
    "\n",
    "plt.figure(figsize = (12, 6))\n",
    "sns.lineplot(x = 'Month', y = 'mean_temperature', data = aquifer_petrignano_monthly, color = 'green')\n",
    "plt.xlabel('Month')\n",
    "plt.ylabel('Mean Temperature', fontsize = 15)\n",
    "plt.show()"
   ]
  },
  {
   "cell_type": "markdown",
   "id": "ef2aa754",
   "metadata": {},
   "source": [
    "## Lake Bilancino"
   ]
  },
  {
   "cell_type": "code",
   "execution_count": null,
   "id": "1cdf0eb3",
   "metadata": {},
   "outputs": [],
   "source": [
    "fig, axes = plt.subplots(3, 2, figsize = (18, 8))\n",
    "fig.suptitle('Rainfall Feature in Lake Bilancino')\n",
    "\n",
    "sns.lineplot(x = pd.to_datetime(lake_bilancino['Date']), y = lake_bilancino['Rainfall_S_Piero'].replace({np.nan: np.inf}), label = 'Rainfall_S_Piero',ax = axes[0][0])\n",
    "sns.lineplot(x = pd.to_datetime(lake_bilancino['Date']), y = lake_bilancino['Rainfall_Mangona'].replace({np.nan: np.inf}), label = 'Rainfall_Mangona',ax = axes[0][1])\n",
    "sns.lineplot(x = pd.to_datetime(lake_bilancino['Date']), y = lake_bilancino['Rainfall_S_Agata'].replace({np.nan: np.inf}), label = 'Rainfall_S_Agata',ax = axes[1][0])\n",
    "sns.lineplot(x = pd.to_datetime(lake_bilancino['Date']), y = lake_bilancino['Rainfall_Cavallina'].replace({np.nan: np.inf}), label = 'Rainfall_Cavallina',ax = axes[1][1])\n",
    "sns.lineplot(x = pd.to_datetime(lake_bilancino['Date']), y = lake_bilancino['Rainfall_Le_Croci'].replace({np.nan: np.inf}), label = 'Rainfall_Le_Croci',ax = axes[2][0])\n",
    "\n",
    "plt.show()"
   ]
  },
  {
   "cell_type": "code",
   "execution_count": null,
   "id": "b1769a6d",
   "metadata": {},
   "outputs": [],
   "source": [
    "fig, axes = plt.subplots(1, 1, figsize = (18, 8))\n",
    "fig.suptitle('Temperature Feature in Lake Bilancino')\n",
    "\n",
    "sns.lineplot(x = pd.to_datetime(lake_bilancino['Date']), y = lake_bilancino['Temperature_Le_Croci'].replace({np.nan: np.inf}), label = 'Temperature_Le_Croci',ax = axes)\n",
    "\n",
    "plt.show()"
   ]
  },
  {
   "cell_type": "code",
   "execution_count": null,
   "id": "94e624f9",
   "metadata": {},
   "outputs": [],
   "source": [
    "lake_bilancino_yearly = lake_bilancino.copy()\n",
    "lake_bilancino_yearly['Year'] = pd.to_datetime(lake_bilancino_yearly['Date']).dt.year.values\n",
    "\n",
    "lake_bilancino_yearly['mean_rainfall'] = lake_bilancino_yearly[['Rainfall_S_Piero', 'Rainfall_Mangona', 'Rainfall_S_Agata',\n",
    "       'Rainfall_Cavallina', 'Rainfall_Le_Croci']].mean(axis = 1)\n",
    "lake_bilancino_yearly['mean_temperature'] = lake_bilancino_yearly[['Temperature_Le_Croci']].mean(axis = 1)\n",
    "lake_bilancino_yearly['mean_lake_level'] = lake_bilancino_yearly[['Lake_Level']].mean(axis = 1)\n",
    "lake_bilancino_yearly['mean_flow_rate'] = lake_bilancino_yearly[['Flow_Rate']].mean(axis = 1)\n",
    "\n",
    "lake_bilancino_yearly = lake_bilancino_yearly.reset_index()"
   ]
  },
  {
   "cell_type": "code",
   "execution_count": null,
   "id": "993320a3",
   "metadata": {},
   "outputs": [],
   "source": [
    "fig, axes_1 = plt.subplots(figsize = (12, 6))\n",
    "axes_1.set_title('Average Rainfall and Average Temperature: Yearly basis in \\'Lake Bilancino\\'', fontsize = 15)\n",
    "axes_1.set_xlabel('Year')\n",
    "axes_1.set_ylabel('Average Rainfall', fontsize = 15)\n",
    "axes_1 = sns.lineplot(x = 'Year', y = 'mean_rainfall', data = lake_bilancino_yearly, color = 'blue')\n",
    "axes_1.tick_params(axis = 'both')\n",
    "\n",
    "axes_2 = axes_1.twinx()\n",
    "axes_2.set_ylabel('Average Temperature', fontsize = 15)\n",
    "axes_2 = sns.lineplot(x = 'Year', y = 'mean_temperature', data = lake_bilancino_yearly, color = 'red')\n",
    "axes_1.tick_params(axis = 'both')\n",
    "plt.show()\n",
    "\n",
    "fig, axes_1 = plt.subplots(figsize = (12, 6))\n",
    "axes_1.set_title('Average Lake Level and Average Flow Rate: Yearly basis in \\'Lake Bilancino\\'', fontsize = 15)\n",
    "axes_1.set_xlabel('Year')\n",
    "axes_1.set_ylabel('Average Lake Level', fontsize = 15)\n",
    "axes_1 = sns.lineplot(x = 'Year', y = 'mean_lake_level', data = lake_bilancino_yearly, color = 'green')\n",
    "axes_1.tick_params(axis = 'both')\n",
    "\n",
    "axes_2 = axes_1.twinx()\n",
    "axes_2.set_ylabel('Average Flow Rate', fontsize = 15)\n",
    "axes_2 = sns.lineplot(x = 'Year', y = 'mean_flow_rate', data = lake_bilancino_yearly, color = 'blue')\n",
    "axes_1.tick_params(axis = 'both')\n",
    "plt.show()"
   ]
  },
  {
   "cell_type": "code",
   "execution_count": null,
   "id": "4971ca22",
   "metadata": {},
   "outputs": [],
   "source": [
    "lake_bilancino_monthly = lake_bilancino.copy()\n",
    "lake_bilancino_monthly['Year'] = pd.to_datetime(lake_bilancino_monthly['Date']).dt.month.values\n",
    "lake_bilancino_monthly = lake_bilancino_monthly.groupby('Year').mean()\n",
    "\n",
    "lake_bilancino_monthly['mean_rainfall'] = lake_bilancino_monthly[['Rainfall_S_Piero', 'Rainfall_Mangona', 'Rainfall_S_Agata',\n",
    "       'Rainfall_Cavallina', 'Rainfall_Le_Croci']].mean(axis = 1)\n",
    "lake_bilancino_monthly['mean_temperature'] = lake_bilancino_monthly[['Temperature_Le_Croci']]\n",
    "lake_bilancino_monthly['mean_lake_level'] = lake_bilancino_monthly[['Lake_Level']]\n",
    "lake_bilancino_monthly['mean_flow_rate'] = lake_bilancino_monthly[['Flow_Rate']]\n",
    "\n",
    "lake_bilancino_monthly = lake_bilancino_monthly.reset_index()"
   ]
  },
  {
   "cell_type": "code",
   "execution_count": null,
   "id": "b60f7dca",
   "metadata": {},
   "outputs": [],
   "source": [
    "fig, axes_1 = plt.subplots(figsize = (12, 6))\n",
    "axes_1.set_title('Average Rainfall and Average Temperature: Monthly basis in \\'Lake Bilancino\\'', fontsize = 15)\n",
    "axes_1.set_xlabel('Year')\n",
    "axes_1.set_ylabel('Average Rainfall', fontsize = 15)\n",
    "axes_1 = sns.lineplot(x = 'Year', y = 'mean_rainfall', data = lake_bilancino_monthly, color = 'blue')\n",
    "axes_1.tick_params(axis = 'both')\n",
    "\n",
    "axes_2 = axes_1.twinx()\n",
    "axes_2.set_ylabel('Average Temperature', fontsize = 15)\n",
    "axes_2 = sns.lineplot(x = 'Year', y = 'mean_temperature', data = lake_bilancino_monthly, color = 'red')\n",
    "axes_1.tick_params(axis = 'both')\n",
    "plt.show()\n",
    "\n",
    "fig, axes_1 = plt.subplots(figsize = (12, 6))\n",
    "axes_1.set_title('Average Lake Level and Average Flow Rate: Monthly basis in \\'Lake Bilancino\\'', fontsize = 15)\n",
    "axes_1.set_xlabel('Year')\n",
    "axes_1.set_ylabel('Average Lake Level', fontsize = 15)\n",
    "axes_1 = sns.lineplot(x = 'Year', y = 'mean_lake_level', data = lake_bilancino_monthly, color = 'green')\n",
    "axes_1.tick_params(axis = 'both')\n",
    "\n",
    "axes_2 = axes_1.twinx()\n",
    "axes_2.set_ylabel('Average Flow Rate', fontsize = 15)\n",
    "axes_2 = sns.lineplot(x = 'Year', y = 'mean_flow_rate', data = lake_bilancino_monthly, color = 'blue')\n",
    "axes_1.tick_params(axis = 'both')\n",
    "plt.show()"
   ]
  },
  {
   "cell_type": "markdown",
   "id": "902b69f4",
   "metadata": {},
   "source": [
    "## River Arno"
   ]
  },
  {
   "cell_type": "code",
   "execution_count": null,
   "id": "e34e834c",
   "metadata": {},
   "outputs": [],
   "source": [
    "fig, axes = plt.subplots(7, 2, figsize = (18, 12))\n",
    "fig.suptitle('Rainfall Feature in River Arno')\n",
    "\n",
    "sns.lineplot(x = pd.to_datetime(river_arno['Date']), y = river_arno['Rainfall_Le_Croci'].replace({np.nan: np.inf}), label = 'Rainfall_Le_Croci', ax = axes[0][0])\n",
    "sns.lineplot(x = pd.to_datetime(river_arno['Date']), y = river_arno['Rainfall_Cavallina'].replace({np.nan: np.inf}), label = 'Rainfall_Cavallina', ax = axes[0][1])\n",
    "sns.lineplot(x = pd.to_datetime(river_arno['Date']), y = river_arno['Rainfall_S_Agata'].replace({np.nan: np.inf}), label = 'Rainfall_S_Agata', ax = axes[1][0])\n",
    "sns.lineplot(x = pd.to_datetime(river_arno['Date']), y = river_arno['Rainfall_Mangona'].replace({np.nan: np.inf}), label = 'Rainfall_Mangona', ax = axes[1][1])\n",
    "sns.lineplot(x = pd.to_datetime(river_arno['Date']), y = river_arno['Rainfall_S_Piero'].replace({np.nan: np.inf}), label = 'Rainfall_S_Piero', ax = axes[2][0])\n",
    "sns.lineplot(x = pd.to_datetime(river_arno['Date']), y = river_arno['Rainfall_Vernio'].replace({np.nan: np.inf}), label = 'Rainfall_Vernio', ax = axes[2][1])\n",
    "sns.lineplot(x = pd.to_datetime(river_arno['Date']), y = river_arno['Rainfall_Stia'].replace({np.nan: np.inf}), label = 'Rainfall_Stia', ax = axes[3][0])\n",
    "sns.lineplot(x = pd.to_datetime(river_arno['Date']), y = river_arno['Rainfall_Consuma'].replace({np.nan: np.inf}), label = 'Rainfall_Consuma', ax = axes[3][1])\n",
    "sns.lineplot(x = pd.to_datetime(river_arno['Date']), y = river_arno['Rainfall_Incisa'].replace({np.nan: np.inf}), label = 'Rainfall_Incisa', ax = axes[4][0])\n",
    "sns.lineplot(x = pd.to_datetime(river_arno['Date']), y = river_arno['Rainfall_Montevarchi'].replace({np.nan: np.inf}), label = 'Rainfall_Montevarchi', ax = axes[4][1])\n",
    "sns.lineplot(x = pd.to_datetime(river_arno['Date']), y = river_arno['Rainfall_S_Savino'].replace({np.nan: np.inf}), label = 'Rainfall_S_Savino', ax = axes[5][0])\n",
    "sns.lineplot(x = pd.to_datetime(river_arno['Date']), y = river_arno['Rainfall_Laterina'].replace({np.nan: np.inf}), label = 'Rainfall_Laterina', ax = axes[5][1])\n",
    "sns.lineplot(x = pd.to_datetime(river_arno['Date']), y = river_arno['Rainfall_Bibbiena'].replace({np.nan: np.inf}), label = 'Rainfall_Bibbiena', ax = axes[6][0])\n",
    "sns.lineplot(x = pd.to_datetime(river_arno['Date']), y = river_arno['Rainfall_Camaldoli'].replace({np.nan: np.inf}), label = 'Rainfall_Camaldoli', ax = axes[6][1])\n",
    "\n",
    "plt.show()"
   ]
  },
  {
   "cell_type": "code",
   "execution_count": null,
   "id": "6f1ad251",
   "metadata": {},
   "outputs": [],
   "source": [
    "fig, axes = plt.subplots(1, 1, figsize = (18, 8))\n",
    "fig.suptitle('Temperature Feature in River Arno')\n",
    "\n",
    "sns.lineplot(x = pd.to_datetime(river_arno['Date']), y = river_arno['Temperature_Firenze'].replace({np.nan: np.inf}), label = 'Temperature_Firenze',ax = axes)\n",
    "\n",
    "plt.show()"
   ]
  },
  {
   "cell_type": "code",
   "execution_count": null,
   "id": "bdefcc78",
   "metadata": {},
   "outputs": [],
   "source": [
    "fig, axes = plt.subplots(1, 1, figsize = (18, 8))\n",
    "fig.suptitle('Hydrometry Feature in River Arno')\n",
    "\n",
    "sns.lineplot(x = pd.to_datetime(river_arno['Date']), y = river_arno['Hydrometry_Nave_di_Rosano'].replace({np.nan: np.inf}), label = 'Hydrometry_Nave_di_Rosano',ax = axes)\n",
    "\n",
    "plt.show()"
   ]
  },
  {
   "cell_type": "code",
   "execution_count": null,
   "id": "fe79c6cc",
   "metadata": {},
   "outputs": [],
   "source": [
    "river_arno_yearly = river_arno.copy()\n",
    "river_arno_yearly['Year'] = pd.to_datetime(river_arno_yearly['Date']).dt.year.values\n",
    "\n",
    "river_arno_yearly['mean_rainfall'] = river_arno_yearly[['Rainfall_Le_Croci', 'Rainfall_Cavallina', 'Rainfall_S_Agata',\n",
    "       'Rainfall_Mangona', 'Rainfall_S_Piero', 'Rainfall_Vernio', 'Rainfall_Stia', 'Rainfall_Consuma', 'Rainfall_Incisa',\n",
    "       'Rainfall_Montevarchi', 'Rainfall_S_Savino', 'Rainfall_Laterina', 'Rainfall_Bibbiena',\n",
    "       'Rainfall_Camaldoli']].mean(axis = 1)\n",
    "river_arno_yearly['mean_temperature'] = river_arno_yearly[['Temperature_Firenze']]\n",
    "river_arno_yearly['mean_hydrometry'] = river_arno_yearly[['Hydrometry_Nave_di_Rosano']]\n",
    "\n",
    "river_arno_yearly = river_arno_yearly.reset_index()"
   ]
  },
  {
   "cell_type": "code",
   "execution_count": null,
   "id": "457496a3",
   "metadata": {},
   "outputs": [],
   "source": [
    "fig, axes_1 = plt.subplots(figsize = (12, 6))\n",
    "axes_1.set_title('Average Rainfall and Average Temperature: Yearly basis in \\'River Arno\\'', fontsize = 15)\n",
    "axes_1.set_xlabel('Year')\n",
    "axes_1.set_ylabel('Average Rainfall', fontsize = 15)\n",
    "axes_1 = sns.lineplot(x = 'Year', y = 'mean_rainfall', data = river_arno_yearly, color = 'blue')\n",
    "axes_1.tick_params(axis = 'both')\n",
    "\n",
    "axes_2 = axes_1.twinx()\n",
    "axes_2.set_ylabel('Average Temperature', fontsize = 15)\n",
    "axes_2 = sns.lineplot(x = 'Year', y = 'mean_temperature', data = river_arno_yearly, color = 'red')\n",
    "axes_1.tick_params(axis = 'both')\n",
    "plt.show()\n",
    "\n",
    "plt.figure(figsize = (12, 6))\n",
    "sns.lineplot(x = 'Year', y = 'mean_hydrometry', data = river_arno_yearly, color = 'green')\n",
    "plt.xlabel('Year')\n",
    "plt.ylabel('Mean Hydrometry', fontsize = 15)\n",
    "plt.show()"
   ]
  },
  {
   "cell_type": "code",
   "execution_count": null,
   "id": "dda9550a",
   "metadata": {},
   "outputs": [],
   "source": [
    "river_arno_monthly = river_arno.copy()\n",
    "river_arno_monthly['Month'] = pd.to_datetime(river_arno_monthly['Date']).dt.month.values\n",
    "river_arno_monthly = river_arno_monthly.groupby('Month').mean()\n",
    "\n",
    "river_arno_monthly['mean_rainfall'] = river_arno_monthly[['Rainfall_Le_Croci', 'Rainfall_Cavallina', 'Rainfall_S_Agata',\n",
    "       'Rainfall_Mangona', 'Rainfall_S_Piero', 'Rainfall_Vernio', 'Rainfall_Stia', 'Rainfall_Consuma', 'Rainfall_Incisa',\n",
    "       'Rainfall_Montevarchi', 'Rainfall_S_Savino', 'Rainfall_Laterina', 'Rainfall_Bibbiena',\n",
    "       'Rainfall_Camaldoli']].mean(axis = 1)\n",
    "river_arno_monthly['mean_temperature'] = river_arno_monthly[['Temperature_Firenze']]\n",
    "river_arno_monthly['mean_hydrometry'] = river_arno_monthly[['Hydrometry_Nave_di_Rosano']]\n",
    "\n",
    "river_arno_monthly = river_arno_monthly.reset_index()"
   ]
  },
  {
   "cell_type": "code",
   "execution_count": null,
   "id": "c6ff5e55",
   "metadata": {},
   "outputs": [],
   "source": [
    "fig, axes_1 = plt.subplots(figsize = (12, 6))\n",
    "axes_1.set_title('Average Rainfall and Average Temperature: Monthly basis in \\'River Arno\\'', fontsize = 15)\n",
    "axes_1.set_xlabel('Month')\n",
    "axes_1.set_ylabel('Average Rainfall', fontsize = 15)\n",
    "axes_1 = sns.lineplot(x = 'Month', y = 'mean_rainfall', data = river_arno_monthly, color = 'blue')\n",
    "axes_1.tick_params(axis = 'both')\n",
    "\n",
    "axes_2 = axes_1.twinx()\n",
    "axes_2.set_ylabel('Average Temperature', fontsize = 15)\n",
    "axes_2 = sns.lineplot(x = 'Month', y = 'mean_temperature', data = river_arno_monthly, color = 'red')\n",
    "axes_1.tick_params(axis = 'both')\n",
    "plt.show()\n",
    "\n",
    "plt.figure(figsize = (12, 6))\n",
    "sns.lineplot(x = 'Month', y = 'mean_hydrometry', data = river_arno_monthly, color = 'green')\n",
    "plt.xlabel('Month')\n",
    "plt.ylabel('Mean Hydrometry', fontsize = 15)\n",
    "plt.show()"
   ]
  },
  {
   "cell_type": "markdown",
   "id": "48e64271",
   "metadata": {},
   "source": [
    "## Water Spring Amiata"
   ]
  },
  {
   "cell_type": "code",
   "execution_count": null,
   "id": "5463a282",
   "metadata": {},
   "outputs": [],
   "source": [
    "fig, axes = plt.subplots(3, 2, figsize = (18, 8))\n",
    "fig.suptitle('Rainfall Feature in Water Spring Amiata')\n",
    "\n",
    "sns.lineplot(x = pd.to_datetime(water_spring_amiata['Date']), y = water_spring_amiata['Rainfall_Castel_del_Piano'].replace({np.nan: np.inf}), label = 'Rainfall_Castel_del_Piano',ax = axes[0][0])\n",
    "sns.lineplot(x = pd.to_datetime(water_spring_amiata['Date']), y = water_spring_amiata['Rainfall_Abbadia_S_Salvatore'].replace({np.nan: np.inf}), label = 'Rainfall_Abbadia_S_Salvatore',ax = axes[0][1])\n",
    "sns.lineplot(x = pd.to_datetime(water_spring_amiata['Date']), y = water_spring_amiata['Rainfall_S_Fiora'].replace({np.nan: np.inf}), label = 'Rainfall_S_Fiora',ax = axes[1][0])\n",
    "sns.lineplot(x = pd.to_datetime(water_spring_amiata['Date']), y = water_spring_amiata['Rainfall_Laghetto_Verde'].replace({np.nan: np.inf}), label = 'Rainfall_Laghetto_Verde',ax = axes[1][1])\n",
    "sns.lineplot(x = pd.to_datetime(water_spring_amiata['Date']), y = water_spring_amiata['Rainfall_Vetta_Amiata'].replace({np.nan: np.inf}), label = 'Rainfall_Vetta_Amiata',ax = axes[2][0])\n",
    "\n",
    "plt.show()"
   ]
  },
  {
   "cell_type": "code",
   "execution_count": null,
   "id": "f19cfc22",
   "metadata": {},
   "outputs": [],
   "source": [
    "fig, axes = plt.subplots(2, 2, figsize = (18, 8))\n",
    "fig.suptitle('Temperature Feature in Water Spring Amiata')\n",
    "\n",
    "sns.lineplot(x = pd.to_datetime(water_spring_amiata['Date']), y = water_spring_amiata['Temperature_Abbadia_S_Salvatore'].replace({np.nan: np.inf}), label = 'Temperature_Abbadia_S_Salvatore',ax = axes[0][0])\n",
    "sns.lineplot(x = pd.to_datetime(water_spring_amiata['Date']), y = water_spring_amiata['Temperature_S_Fiora'].replace({np.nan: np.inf}), label = 'Temperature_S_Fiora',ax = axes[0][1])\n",
    "sns.lineplot(x = pd.to_datetime(water_spring_amiata['Date']), y = water_spring_amiata['Temperature_Laghetto_Verde'].replace({np.nan: np.inf}), label = 'Temperature_Laghetto_Verde',ax = axes[1][0])\n",
    "\n",
    "plt.show()"
   ]
  },
  {
   "cell_type": "code",
   "execution_count": null,
   "id": "5d988878",
   "metadata": {},
   "outputs": [],
   "source": [
    "water_spring_amiata_yearly = water_spring_amiata.copy()\n",
    "water_spring_amiata_yearly['Year'] = pd.to_datetime(water_spring_amiata_yearly['Date']).dt.year.values\n",
    "\n",
    "water_spring_amiata_yearly['mean_rainfall'] = water_spring_amiata_yearly[['Rainfall_Castel_del_Piano',\n",
    "    'Rainfall_Abbadia_S_Salvatore', 'Rainfall_S_Fiora', 'Rainfall_Laghetto_Verde', 'Rainfall_Vetta_Amiata']].mean(axis = 1)\n",
    "water_spring_amiata_yearly['mean_temperature'] = water_spring_amiata_yearly[['Temperature_Abbadia_S_Salvatore',\n",
    "    'Temperature_S_Fiora', 'Temperature_Laghetto_Verde']].mean(axis = 1)\n",
    "water_spring_amiata_yearly['mean_depth_groundwater'] = water_spring_amiata_yearly[['Depth_to_Groundwater_S_Fiora_8',\n",
    "    'Depth_to_Groundwater_S_Fiora_11bis', 'Depth_to_Groundwater_David_Lazzaretti']].mean(axis = 1)\n",
    "water_spring_amiata_yearly['mean_flow_rate'] = water_spring_amiata_yearly[['Flow_Rate_Bugnano', 'Flow_Rate_Arbure',\n",
    "       'Flow_Rate_Ermicciolo', 'Flow_Rate_Galleria_Alta']].mean(axis = 1)\n",
    "\n",
    "water_spring_amiata_yearly = water_spring_amiata_yearly.reset_index()"
   ]
  },
  {
   "cell_type": "code",
   "execution_count": null,
   "id": "89f5166f",
   "metadata": {},
   "outputs": [],
   "source": [
    "fig, axes_1 = plt.subplots(figsize = (12, 6))\n",
    "axes_1.set_title('Average Rainfall and Average Temperature: Yearly basis in \\'Water Spring Amiata\\'', fontsize = 15)\n",
    "axes_1.set_xlabel('Year')\n",
    "axes_1.set_ylabel('Average Rainfall', fontsize = 15)\n",
    "axes_1 = sns.lineplot(x = 'Year', y = 'mean_rainfall', data = water_spring_amiata_yearly, color = 'blue')\n",
    "axes_1.tick_params(axis = 'both')\n",
    "\n",
    "axes_2 = axes_1.twinx()\n",
    "axes_2.set_ylabel('Average Temperature', fontsize = 15)\n",
    "axes_2 = sns.lineplot(x = 'Year', y = 'mean_temperature', data = water_spring_amiata_yearly, color = 'red')\n",
    "axes_1.tick_params(axis = 'both')\n",
    "plt.show()\n",
    "\n",
    "fig, axes_1 = plt.subplots(figsize = (12, 6))\n",
    "axes_1.set_title('Average Depth Groundwater and Average Flow Rate: Yearly basis in \\'Water Spring Amiata\\'', fontsize = 15)\n",
    "axes_1.set_xlabel('Year')\n",
    "axes_1.set_ylabel('Average Depth Groundwater', fontsize = 15)\n",
    "axes_1 = sns.lineplot(x = 'Year', y = 'mean_depth_groundwater', data = water_spring_amiata_yearly, color = 'green')\n",
    "axes_1.tick_params(axis = 'both')\n",
    "\n",
    "axes_2 = axes_1.twinx()\n",
    "axes_2.set_ylabel('Average Flow Rate', fontsize = 15)\n",
    "axes_2 = sns.lineplot(x = 'Year', y = 'mean_flow_rate', data = water_spring_amiata_yearly, color = 'blue')\n",
    "axes_1.tick_params(axis = 'both')\n",
    "plt.show()"
   ]
  },
  {
   "cell_type": "code",
   "execution_count": null,
   "id": "a8a2c1ff",
   "metadata": {},
   "outputs": [],
   "source": [
    "water_spring_amiata_monthly = water_spring_amiata.copy()\n",
    "water_spring_amiata_monthly['Month'] = pd.to_datetime(water_spring_amiata_monthly['Date']).dt.month.values\n",
    "\n",
    "water_spring_amiata_monthly['mean_rainfall'] = water_spring_amiata_monthly[['Rainfall_Castel_del_Piano',\n",
    "    'Rainfall_Abbadia_S_Salvatore', 'Rainfall_S_Fiora', 'Rainfall_Laghetto_Verde', 'Rainfall_Vetta_Amiata']].mean(axis = 1)\n",
    "water_spring_amiata_monthly['mean_temperature'] = water_spring_amiata_monthly[['Temperature_Abbadia_S_Salvatore',\n",
    "    'Temperature_S_Fiora', 'Temperature_Laghetto_Verde']].mean(axis = 1)\n",
    "water_spring_amiata_monthly['mean_depth_groundwater'] = water_spring_amiata_monthly[['Depth_to_Groundwater_S_Fiora_8',\n",
    "    'Depth_to_Groundwater_S_Fiora_11bis', 'Depth_to_Groundwater_David_Lazzaretti']].mean(axis = 1)\n",
    "water_spring_amiata_monthly['mean_flow_rate'] = water_spring_amiata_monthly[['Flow_Rate_Bugnano', 'Flow_Rate_Arbure',\n",
    "       'Flow_Rate_Ermicciolo', 'Flow_Rate_Galleria_Alta']].mean(axis = 1)\n",
    "\n",
    "water_spring_amiata_monthly = water_spring_amiata_monthly.reset_index()"
   ]
  },
  {
   "cell_type": "code",
   "execution_count": null,
   "id": "7cc1107a",
   "metadata": {},
   "outputs": [],
   "source": [
    "fig, axes_1 = plt.subplots(figsize = (12, 6))\n",
    "axes_1.set_title('Average Rainfall and Average Temperature: Monthly basis in \\'Water Spring Amiata\\'', fontsize = 15)\n",
    "axes_1.set_xlabel('Month')\n",
    "axes_1.set_ylabel('Average Rainfall', fontsize = 15)\n",
    "axes_1 = sns.lineplot(x = 'Month', y = 'mean_rainfall', data = water_spring_amiata_monthly, color = 'blue')\n",
    "axes_1.tick_params(axis = 'both')\n",
    "\n",
    "axes_2 = axes_1.twinx()\n",
    "axes_2.set_ylabel('Average Temperature', fontsize = 15)\n",
    "axes_2 = sns.lineplot(x = 'Month', y = 'mean_temperature', data = water_spring_amiata_monthly, color = 'red')\n",
    "axes_1.tick_params(axis = 'both')\n",
    "plt.show()\n",
    "\n",
    "fig, axes_1 = plt.subplots(figsize = (12, 6))\n",
    "axes_1.set_title('Average Depth Groundwater and Average Flow Rate: Monthly basis in \\'Water Spring Amiata\\'', fontsize = 15)\n",
    "axes_1.set_xlabel('Month')\n",
    "axes_1.set_ylabel('Average Depth Groundwater', fontsize = 15)\n",
    "axes_1 = sns.lineplot(x = 'Month', y = 'mean_depth_groundwater', data = water_spring_amiata_monthly, color = 'green')\n",
    "axes_1.tick_params(axis = 'both')\n",
    "\n",
    "axes_2 = axes_1.twinx()\n",
    "axes_2.set_ylabel('Average Flow Rate', fontsize = 15)\n",
    "axes_2 = sns.lineplot(x = 'Month', y = 'mean_flow_rate', data = water_spring_amiata_monthly, color = 'blue')\n",
    "axes_1.tick_params(axis = 'both')\n",
    "plt.show()"
   ]
  },
  {
   "cell_type": "markdown",
   "id": "6eb6fb43",
   "metadata": {},
   "source": [
    "## Water Spring Lupa"
   ]
  },
  {
   "cell_type": "code",
   "execution_count": null,
   "id": "d9996802",
   "metadata": {},
   "outputs": [],
   "source": [
    "fig, axes = plt.subplots(1, 1, figsize = (18, 8))\n",
    "fig.suptitle('Rainfall Feature in Water Spring Lupa')\n",
    "\n",
    "sns.lineplot(x = pd.to_datetime(water_spring_lupa['Date']), y = water_spring_lupa['Rainfall_Terni'].replace({np.nan: np.inf}), label = 'Rainfall_Terni',ax = axes)\n",
    "\n",
    "plt.show()"
   ]
  },
  {
   "cell_type": "code",
   "execution_count": null,
   "id": "e9ac0661",
   "metadata": {},
   "outputs": [],
   "source": [
    "water_spring_lupa_yearly = water_spring_lupa.copy()\n",
    "water_spring_lupa_yearly['Year'] = pd.to_datetime(water_spring_lupa_yearly['Date']).dt.year.values\n",
    "\n",
    "water_spring_lupa_yearly['mean_rainfall'] = water_spring_lupa_yearly[['Rainfall_Terni']]\n",
    "water_spring_lupa_yearly['mean_flow_rate'] = water_spring_lupa_yearly[['Flow_Rate_Lupa']]\n",
    "\n",
    "water_spring_lupa_yearly = water_spring_lupa_yearly.reset_index()"
   ]
  },
  {
   "cell_type": "code",
   "execution_count": null,
   "id": "ec3618d0",
   "metadata": {},
   "outputs": [],
   "source": [
    "fig, axes_1 = plt.subplots(figsize = (12, 6))\n",
    "axes_1.set_title('Average Rainfall and Average Flow Rate: Yearly basis in \\'Water Spring Lupa\\'', fontsize = 15)\n",
    "axes_1.set_xlabel('Year')\n",
    "axes_1.set_ylabel('Average Rainfall', fontsize = 15)\n",
    "axes_1 = sns.lineplot(x = 'Year', y = 'mean_rainfall', data = water_spring_lupa_yearly, color = 'blue')\n",
    "axes_1.tick_params(axis = 'both')\n",
    "\n",
    "axes_2 = axes_1.twinx()\n",
    "axes_2.set_ylabel('Average Flow Rate', fontsize = 15)\n",
    "axes_2 = sns.lineplot(x = 'Year', y = 'mean_flow_rate', data = water_spring_lupa_yearly, color = 'red')\n",
    "axes_1.tick_params(axis = 'both')\n",
    "plt.show()"
   ]
  },
  {
   "cell_type": "code",
   "execution_count": null,
   "id": "e62f83e2",
   "metadata": {},
   "outputs": [],
   "source": [
    "water_spring_lupa_monthly = water_spring_lupa.copy()\n",
    "water_spring_lupa_monthly['Month'] = pd.to_datetime(water_spring_lupa_monthly['Date']).dt.month.values\n",
    "water_spring_lupa_monthly = water_spring_lupa_monthly.groupby('Month').mean()\n",
    "\n",
    "water_spring_lupa_monthly['mean_rainfall'] = water_spring_lupa_monthly[['Rainfall_Terni']]\n",
    "water_spring_lupa_monthly['mean_flow_rate'] = water_spring_lupa_monthly[['Flow_Rate_Lupa']]\n",
    "\n",
    "water_spring_lupa_monthly = water_spring_lupa_monthly.reset_index()"
   ]
  },
  {
   "cell_type": "code",
   "execution_count": null,
   "id": "e5be5947",
   "metadata": {},
   "outputs": [],
   "source": [
    "fig, axes_1 = plt.subplots(figsize = (12, 6))\n",
    "axes_1.set_title('Average Rainfall and Average Flow Rate: Monthly basis in \\'Water Spring Lupa\\'', fontsize = 15)\n",
    "axes_1.set_xlabel('Month')\n",
    "axes_1.set_ylabel('Average Rainfall', fontsize = 15)\n",
    "axes_1 = sns.lineplot(x = 'Month', y = 'mean_rainfall', data = water_spring_lupa_monthly, color = 'blue')\n",
    "axes_1.tick_params(axis = 'both')\n",
    "\n",
    "axes_2 = axes_1.twinx()\n",
    "axes_2.set_ylabel('Average Flow Rate', fontsize = 15)\n",
    "axes_2 = sns.lineplot(x = 'Month', y = 'mean_flow_rate', data = water_spring_lupa_monthly, color = 'red')\n",
    "axes_1.tick_params(axis = 'both')\n",
    "plt.show()"
   ]
  },
  {
   "cell_type": "markdown",
   "id": "399ac903",
   "metadata": {},
   "source": [
    "## Water Spring Madonna Di Canneto"
   ]
  },
  {
   "cell_type": "code",
   "execution_count": null,
   "id": "6e0adb3e",
   "metadata": {},
   "outputs": [],
   "source": [
    "fig, axes = plt.subplots(1, 1, figsize = (18, 8))\n",
    "fig.suptitle('Rainfall Feature in Water Spring Madonna Di Canneto')\n",
    "\n",
    "sns.lineplot(x = pd.to_datetime(water_spring_madonna_di_canneto['Date']), y = water_spring_madonna_di_canneto['Rainfall_Settefrati'].replace({np.nan: np.inf}), label = 'Rainfall_Settefrati', ax = axes)\n",
    "\n",
    "plt.show()"
   ]
  },
  {
   "cell_type": "code",
   "execution_count": null,
   "id": "83e4caae",
   "metadata": {},
   "outputs": [],
   "source": [
    "fig, axes = plt.subplots(1, 1, figsize = (18, 8))\n",
    "fig.suptitle('Temperature Feature in Water Spring Madonna Di Canneto')\n",
    "\n",
    "sns.lineplot(x = pd.to_datetime(water_spring_madonna_di_canneto['Date']), y = water_spring_madonna_di_canneto['Temperature_Settefrati'].replace({np.nan: np.inf}), label = 'Temperature_Settefrati', ax = axes)\n",
    "\n",
    "plt.show()"
   ]
  },
  {
   "cell_type": "code",
   "execution_count": null,
   "id": "6d01a4cd",
   "metadata": {},
   "outputs": [],
   "source": [
    "water_spring_madonna_di_canneto_yearly = water_spring_madonna_di_canneto.copy()\n",
    "water_spring_madonna_di_canneto_yearly['Year'] = pd.to_datetime(water_spring_madonna_di_canneto_yearly['Date']).dt.year.values\n",
    "\n",
    "water_spring_madonna_di_canneto_yearly['mean_rainfall'] = water_spring_madonna_di_canneto_yearly[['Rainfall_Settefrati']]\n",
    "water_spring_madonna_di_canneto_yearly['mean_temperature'] = water_spring_madonna_di_canneto_yearly[['Temperature_Settefrati']]\n",
    "water_spring_madonna_di_canneto_yearly['mean_flow_rate'] = water_spring_madonna_di_canneto_yearly[['Flow_Rate_Madonna_di_Canneto']]\n",
    "\n",
    "water_spring_madonna_di_canneto_yearly = water_spring_madonna_di_canneto_yearly.reset_index()"
   ]
  },
  {
   "cell_type": "code",
   "execution_count": null,
   "id": "20fe3c39",
   "metadata": {},
   "outputs": [],
   "source": [
    "fig, axes_1 = plt.subplots(figsize = (12, 6))\n",
    "axes_1.set_title('Average Rainfall and Average Temperature: Yearly basis in \\'Water Spring Madonna Di Canneto\\'', fontsize = 15)\n",
    "axes_1.set_xlabel('Year')\n",
    "axes_1.set_ylabel('Average Rainfall', fontsize = 15)\n",
    "axes_1 = sns.lineplot(x = 'Year', y = 'mean_rainfall', data = water_spring_madonna_di_canneto_yearly, color = 'blue')\n",
    "axes_1.tick_params(axis = 'both')\n",
    "\n",
    "axes_2 = axes_1.twinx()\n",
    "axes_2.set_ylabel('Average Temperature', fontsize = 15)\n",
    "axes_2 = sns.lineplot(x = 'Year', y = 'mean_temperature', data = water_spring_madonna_di_canneto_yearly, color = 'red')\n",
    "axes_1.tick_params(axis = 'both')\n",
    "plt.show()\n",
    "\n",
    "plt.figure(figsize = (12, 6))\n",
    "sns.lineplot(x = 'Year', y = 'mean_flow_rate', data = water_spring_madonna_di_canneto_yearly, color = 'green')\n",
    "plt.xlabel('Year')\n",
    "plt.ylabel('Mean Flow Rate', fontsize = 15)\n",
    "plt.show()"
   ]
  },
  {
   "cell_type": "code",
   "execution_count": null,
   "id": "ae11022c",
   "metadata": {},
   "outputs": [],
   "source": [
    "water_spring_madonna_di_canneto_monthly = water_spring_madonna_di_canneto.copy()\n",
    "water_spring_madonna_di_canneto_monthly['Month'] = pd.to_datetime(water_spring_madonna_di_canneto_monthly['Date']).dt.month.values\n",
    "\n",
    "water_spring_madonna_di_canneto_monthly['mean_rainfall'] = water_spring_madonna_di_canneto_monthly[['Rainfall_Settefrati']]\n",
    "water_spring_madonna_di_canneto_monthly['mean_temperature'] = water_spring_madonna_di_canneto_monthly[['Temperature_Settefrati']]\n",
    "water_spring_madonna_di_canneto_monthly['mean_flow_rate'] = water_spring_madonna_di_canneto_monthly[['Flow_Rate_Madonna_di_Canneto']]\n",
    "\n",
    "water_spring_madonna_di_canneto_monthly = water_spring_madonna_di_canneto_monthly.reset_index()"
   ]
  },
  {
   "cell_type": "code",
   "execution_count": null,
   "id": "edfb3b9b",
   "metadata": {},
   "outputs": [],
   "source": [
    "fig, axes_1 = plt.subplots(figsize = (12, 6))\n",
    "axes_1.set_title('Average Rainfall and Average Temperature: Monthly basis in \\'Water Spring Madonna Di Canneto\\'', fontsize = 15)\n",
    "axes_1.set_xlabel('Month')\n",
    "axes_1.set_ylabel('Average Rainfall', fontsize = 15)\n",
    "axes_1 = sns.lineplot(x = 'Month', y = 'mean_rainfall', data = water_spring_madonna_di_canneto_monthly, color = 'blue')\n",
    "axes_1.tick_params(axis = 'both')\n",
    "\n",
    "axes_2 = axes_1.twinx()\n",
    "axes_2.set_ylabel('Average Temperature', fontsize = 15)\n",
    "axes_2 = sns.lineplot(x = 'Month', y = 'mean_temperature', data = water_spring_madonna_di_canneto_monthly, color = 'red')\n",
    "axes_1.tick_params(axis = 'both')\n",
    "plt.show()\n",
    "\n",
    "plt.figure(figsize = (12, 6))\n",
    "sns.lineplot(x = 'Month', y = 'mean_flow_rate', data = water_spring_madonna_di_canneto_monthly, color = 'green')\n",
    "plt.xlabel('Month')\n",
    "plt.ylabel('Mean Flow Rate', fontsize = 15)\n",
    "plt.show()"
   ]
  }
 ],
 "metadata": {
  "kernelspec": {
   "display_name": "Python 3 (ipykernel)",
   "language": "python",
   "name": "python3"
  },
  "language_info": {
   "codemirror_mode": {
    "name": "ipython",
    "version": 3
   },
   "file_extension": ".py",
   "mimetype": "text/x-python",
   "name": "python",
   "nbconvert_exporter": "python",
   "pygments_lexer": "ipython3",
   "version": "3.9.7"
  }
 },
 "nbformat": 4,
 "nbformat_minor": 5
}
